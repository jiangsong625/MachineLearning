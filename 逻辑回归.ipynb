{
 "cells": [
  {
   "metadata": {},
   "cell_type": "code",
   "outputs": [],
   "execution_count": null,
   "source": [
    "import numpy as np\n",
    "import pandas as pd\n",
    "\n",
    "# 特征缩放\n",
    "def feature_scaling(X):\n",
    "    return X.apply(lambda column: (column - column.mean()) / column.std())"
   ],
   "id": "ea8da4e0d142f8b0"
  },
  {
   "metadata": {},
   "cell_type": "markdown",
   "source": "加载数据",
   "id": "b83348a5f522e3bf"
  },
  {
   "metadata": {},
   "cell_type": "code",
   "outputs": [],
   "execution_count": null,
   "source": [
    "# 加载数据\n",
    "def load_and_preprocess_data():\n",
    "    df = pd.read_csv(filepath_or_buffer='dataFile/ex2data1.txt', names=['text1', 'text2', 'lable'])\n",
    "\n",
    "    X = df.iloc[:, 0:2]\n",
    "    y = df.iloc[:, 2]\n",
    "    # X = feature_scaling(X)\n",
    "    X.insert(0, 'ones', 1)\n",
    "    X = np.matrix(X)\n",
    "    y = np.matrix(y).T\n",
    "    theta = np.matrix(np.zeros(X.shape[1]))\n",
    "    return X, y, df, theta"
   ],
   "id": "a44076f558c61451"
  },
  {
   "metadata": {},
   "cell_type": "markdown",
   "source": [
    "sigmoid 函数\n",
    "$$\n",
    "\\sigma(x) = \\frac{1}{1 + e^{-x}}\n",
    "$$"
   ],
   "id": "ca21c46de206a684"
  },
  {
   "metadata": {},
   "cell_type": "code",
   "outputs": [],
   "execution_count": null,
   "source": [
    "def sigmoid(z):\n",
    "    return 1 / (1 + np.exp(-z))"
   ],
   "id": "5c332032059988ca"
  },
  {
   "metadata": {},
   "cell_type": "markdown",
   "source": [
    "代价函数\n",
    "$$\n",
    "\n",
    "J(\\theta) = \\frac{1}{m} \\sum_{i=1}^m \\left[ -y^{(i)} \\log(h_\\theta(x^{(i)})) - (1 - y^{(i)}) \\log(1 - h_\\theta(x^{(i)})) \\right]\n",
    "$$"
   ],
   "id": "6bcbeac7d8cfbfca"
  },
  {
   "metadata": {},
   "cell_type": "code",
   "outputs": [],
   "execution_count": null,
   "source": [
    "# 计算代价函数\n",
    "def compute_cost(X, y, theta):\n",
    "    m = len(y)\n",
    "    h = sigmoid(np.dot(X, theta.T))\n",
    "    J = (1 / m) * (np.sum(-np.log(h).T.dot(y) - np.log(1 - h).T.dot(1 - y)))\n",
    "    return J"
   ],
   "id": "89ebd561d7af1591"
  },
  {
   "metadata": {},
   "cell_type": "markdown",
   "source": [
    "逻辑回归模型的假设函数\n",
    "$$\n",
    "\\begin{align}\n",
    "h_\\theta(x) &= \\sigma(\\theta^T x) \\\\\n",
    "&= \\frac{1}{1 + e^{-\\theta^T x}}\n",
    "\\end{align}\\\\\n",
    "$$"
   ],
   "id": "e56159e7a56626c3"
  },
  {
   "metadata": {},
   "cell_type": "markdown",
   "source": [
    "逻辑回归的梯度下降函数\n",
    "$$\n",
    "\\begin{align}\n",
    "\\theta_j &= \\theta_j - \\frac{\\alpha}{m} \\sum_{i=1}^m \\left( h_\\theta(x^{(i)}) - y^{(i)} \\right) x_j^{(i)}\n",
    "\\end{align}\n",
    "$$"
   ],
   "id": "c9d5e060db42466a"
  },
  {
   "metadata": {
    "ExecuteTime": {
     "end_time": "2024-05-02T04:44:38.037197Z",
     "start_time": "2024-05-02T04:44:38.029793Z"
    }
   },
   "cell_type": "code",
   "source": [
    "# 梯度下降算法\n",
    "def gradient_descent(X, y, theta, alpha, iters):\n",
    "    m = len(y)\n",
    "    cost = np.zeros(iters)\n",
    "    for i in range(iters):\n",
    "        theta = theta - (alpha / m) * np.dot((sigmoid(np.dot(X, theta.T)) - y).T, X)\n",
    "        cost[i] = compute_cost(X, y, theta)\n",
    "    return theta, cost"
   ],
   "id": "e2d4276b2f5911fe",
   "outputs": [],
   "execution_count": 1
  }
 ],
 "metadata": {
  "kernelspec": {
   "display_name": "Python 3",
   "language": "python",
   "name": "python3"
  },
  "language_info": {
   "codemirror_mode": {
    "name": "ipython",
    "version": 2
   },
   "file_extension": ".py",
   "mimetype": "text/x-python",
   "name": "python",
   "nbconvert_exporter": "python",
   "pygments_lexer": "ipython2",
   "version": "2.7.6"
  }
 },
 "nbformat": 4,
 "nbformat_minor": 5
}
