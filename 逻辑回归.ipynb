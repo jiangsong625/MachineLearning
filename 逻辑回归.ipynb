{
 "cells": [
  {
   "metadata": {},
   "cell_type": "markdown",
   "source": "# 逻辑回归",
   "id": "8db1c603be15dfe1"
  },
  {
   "metadata": {},
   "cell_type": "code",
   "source": [
    "import numpy as np\n",
    "import pandas as pd\n",
    "\n",
    "# 特征缩放\n",
    "def feature_scaling(X):\n",
    "    return X.apply(lambda column: (column - column.mean()) / column.std())"
   ],
   "id": "ea8da4e0d142f8b0",
   "outputs": [],
   "execution_count": null
  },
  {
   "metadata": {},
   "cell_type": "markdown",
   "source": "加载数据",
   "id": "b83348a5f522e3bf"
  },
  {
   "metadata": {},
   "cell_type": "code",
   "source": [
    "# 加载数据\n",
    "def load_and_preprocess_data():\n",
    "    df = pd.read_csv(filepath_or_buffer='dataFile/ex2data1.txt', names=['text1', 'text2', 'lable'])\n",
    "\n",
    "    X = df.iloc[:, 0:2]\n",
    "    y = df.iloc[:, 2]\n",
    "    # X = feature_scaling(X)\n",
    "    X.insert(0, 'ones', 1)\n",
    "    X = np.matrix(X)\n",
    "    y = np.matrix(y).T\n",
    "    theta = np.matrix(np.zeros(X.shape[1]))\n",
    "    return X, y, df, theta"
   ],
   "id": "a44076f558c61451",
   "outputs": [],
   "execution_count": null
  },
  {
   "metadata": {},
   "cell_type": "markdown",
   "source": [
    "sigmoid 函数\n",
    "$$\n",
    "\\sigma(x) = \\frac{1}{1 + e^{-x}}\\tag{1}\n",
    "$$"
   ],
   "id": "ca21c46de206a684"
  },
  {
   "metadata": {},
   "cell_type": "code",
   "source": [
    "def sigmoid(z):\n",
    "    return 1 / (1 + np.exp(-z))"
   ],
   "id": "5c332032059988ca",
   "outputs": [],
   "execution_count": null
  },
  {
   "metadata": {},
   "cell_type": "markdown",
   "source": [
    "代价函数\n",
    "$$\n",
    "J(\\theta) = \\frac{1}{m} \\sum_{i=1}^m \\left[ -y^{(i)} \\log(h_\\theta(x^{(i)})) - (1 - y^{(i)}) \\log(1 - h_\\theta(x^{(i)})) \\right]\n",
    "\\tag{2}\n",
    "$$"
   ],
   "id": "6bcbeac7d8cfbfca"
  },
  {
   "metadata": {},
   "cell_type": "code",
   "source": [
    "# 计算代价函数\n",
    "def compute_cost(X, y, theta):\n",
    "    m = len(y)\n",
    "    h = sigmoid(np.dot(X, theta.T))\n",
    "    J = (1 / m) * (np.sum(-np.log(h).T.dot(y) - np.log(1 - h).T.dot(1 - y)))\n",
    "    return J"
   ],
   "id": "89ebd561d7af1591",
   "outputs": [],
   "execution_count": null
  },
  {
   "metadata": {},
   "cell_type": "markdown",
   "source": [
    "逻辑回归模型的假设函数\n",
    "$$\n",
    "\\begin{align}\n",
    "h_\\theta(x) &= \\sigma(\\theta^T x)\\tag{3} \\\\\n",
    "&= \\frac{1}{1 + e^{-\\theta^T x}}\\tag{4}\n",
    "\\end{align}\\\\\n",
    "$$"
   ],
   "id": "e56159e7a56626c3"
  },
  {
   "metadata": {},
   "cell_type": "markdown",
   "source": [
    "逻辑回归的梯度下降函数\n",
    "$$\n",
    "\\begin{align}\n",
    "\\theta_j &= \\theta_j - \\frac{\\alpha}{m} \\sum_{i=1}^m \\left( h_\\theta(x^{(i)}) - y^{(i)} \\right) x_j^{(i)}\\tag{5}\n",
    "\\end{align}\n",
    "$$"
   ],
   "id": "c9d5e060db42466a"
  },
  {
   "metadata": {},
   "cell_type": "code",
   "source": [
    "# 梯度下降算法\n",
    "def gradient_descent(X, y, theta):\n",
    "    m = len(y)\n",
    "    theta = theta - (1 / m) * np.dot((sigmoid(np.dot(X, theta.T)) - y).T, X)\n",
    "    return theta"
   ],
   "id": "e2d4276b2f5911fe",
   "outputs": [],
   "execution_count": null
  },
  {
   "metadata": {},
   "cell_type": "markdown",
   "source": "这里返回一次的梯度下降结果",
   "id": "3e604e61e14d5a32"
  },
  {
   "metadata": {},
   "cell_type": "markdown",
   "source": "下载使用sklearn里的逻辑回归模型",
   "id": "1263c8509948928e"
  },
  {
   "metadata": {},
   "cell_type": "code",
   "source": [
    "import numpy as np\n",
    "import matplotlib.pyplot as plt\n",
    "from sklearn.linear_model import LogisticRegression\n",
    "import pandas as pd\n",
    "\n",
    "\n",
    "df = pd.read_csv(filepath_or_buffer='dataFile/ex2data1.txt', names=['text1', 'text2', 'lable'])\n",
    "X = df.iloc[:, 0:2]\n",
    "y = df.iloc[:, 2]\n",
    "X = np.array(X)\n",
    "y = np.array(y).reshape(y.shape[0],)\n",
    "lr_model = LogisticRegression()\n",
    "lr_model.fit(X, y)\n",
    "print(lr_model.coef_)\n",
    "x0 = np.linspace(df['text1'].min(), df['text1'].max(), 100)\n",
    "x1 = (-1 / lr_model.coef_[0][1]) * (lr_model.coef_[0][0] * x0 + lr_model.intercept_)\n",
    "# 打印图像\n",
    "fig, ax = plt.subplots(figsize=(12, 8))\n",
    "ax.scatter(df['text1'], df['text2'], c=df['lable'], s=40, cmap=plt.cm.Spectral)\n",
    "ax.set_xlabel('Exam 1 score')\n",
    "ax.set_ylabel('Exam 2 score')\n",
    "ax.plot(x0, x1, color='red', linewidth=3)\n",
    "plt.show()"
   ],
   "id": "7fbccdf766d7097a",
   "outputs": [],
   "execution_count": null
  },
  {
   "metadata": {},
   "cell_type": "markdown",
   "source": [
    "# 正则化逻辑回归\n",
    "## 为什么要正则化？\n",
    "针对于回归类算法或者分类算法，如线性回归和逻辑回归，它们能够有效地解决许多问题，但是当将它们应用到某些特定的机器学习应用时，会遇到过拟合(over-fitting)的问题，可能会导致它们效果很差。\n",
    "## 正则化的目的\n",
    "高次的$x$的特征可能会非常高，这会导致模型过拟合。采用惩罚模型的思想，高次项系数最小化，减少其对模型的影响\n",
    "\n",
    "第一种方法使用用像逻辑回归这样的线性技术来构造从原始特征的多项式中得到的特征,degree=5\n",
    "$$\n",
    "\\begin{align}\n",
    "\\phi(x) &= (x_1, x_1x_2, x_1^2, x_1x_2, x_1^3, x_1^2x_2, \\dots, x_1x_2^3)\\tag{6}\n",
    "\\end{align}\n",
    "$$"
   ],
   "id": "1a5adfb5621a7465"
  },
  {
   "metadata": {},
   "cell_type": "code",
   "source": [
    "def load_and_preprocess_data():\n",
    "    df = pd.read_csv('dataFile/ex2data2.txt', names=['Test 1', 'Test 2', 'Accepted'])\n",
    "    data = df.copy()\n",
    "    # 特征映射\n",
    "    degree = 6\n",
    "    for i in range(1, degree+1):\n",
    "        for j in range(i + 1):\n",
    "            df['F' + str(i - j) + str(j)] = (df['Test 1'] ** (i - j)) * (df['Test 2'] ** j)\n",
    "    df.drop(['Test 1', 'Test 2'], axis=1, inplace=True)\n",
    "    X = df.drop('Accepted', axis=1)\n",
    "    y = df['Accepted']\n",
    "    return data, df, X, y"
   ],
   "id": "e803f7686103575",
   "outputs": [],
   "execution_count": null
  },
  {
   "metadata": {},
   "cell_type": "markdown",
   "source": [
    "## regularized cost(正则化代价函数)\n",
    "$$\n",
    "J(\\theta) = \\frac{1}{m} \\sum_{i=1}^m \\left[ -y^{(i)} \\log(h_\\theta(x^{(i)})) - (1 - y^{(i)}) \\log(1 - h_\\theta(x^{(i)})) \\right] + \\frac{\\lambda}{2m} \\sum_{j=1}^n \\theta_j^2\\tag{7}\n",
    "$$"
   ],
   "id": "a56089fcef421dde"
  },
  {
   "metadata": {},
   "cell_type": "code",
   "source": [
    "def compute_cost_reg(w, b, X, y, learning_rate):\n",
    "    m = X.shape[0]\n",
    "    cost = (-1 / m) * (np.dot(y.T, np.log(sigmoid(np.dot(X, w.T) + b))) + np.dot((1 - y), np.log(1 - sigmoid(np.dot(X, w.T) + b))))\n",
    "    reg = (learning_rate / (2 * m)) * np.sum(w[1:] ** 2)\n",
    "    return cost + reg"
   ],
   "id": "cd6a4cde62dcd60d",
   "outputs": [],
   "execution_count": null
  },
  {
   "metadata": {},
   "cell_type": "markdown",
   "source": [
    "## 需要使用正则化梯度函数：\n",
    "$$\n",
    "\\begin{align}\n",
    "\\theta_0 &= \\theta_0 - \\frac{\\alpha}{m} \\sum_{i=1}^m \\left( h_\\theta(x^{(i)}) - y^{(i)} \\right) x_0^{(i)}\\tag{8}\\\\\n",
    "\\theta_j &= \\theta_j - \\left\\{ \\frac{\\alpha}{m} \\left( \\sum_{i=1}^m \\left( h_\\theta(x^{(i)}) - y^{(i)} \\right) x_j^{(i)} \\right) + \\frac{\\alpha \\lambda}{m} \\theta_j\\right\\}\\tag{9}\\\\\n",
    "&=\\theta_j (1-\\alpha\\frac{\\lambda}{m}) -\\frac{\\alpha}{m} \\sum_{i=1}^m \\left( h_\\theta(x^{(i)}) - y^{(i)} \\right)\n",
    "\\end{align}\n",
    "$$"
   ],
   "id": "efab97b7548e0ae"
  },
  {
   "metadata": {},
   "cell_type": "code",
   "outputs": [],
   "execution_count": null,
   "source": [
    "def compute_gradient(w, b, X, y):\n",
    "    m = X.shape[0]\n",
    "    dj_dw = (1 / m) * (np.dot(X.T, sigmoid(np.dot(X, w.T)+b) - y))\n",
    "    dj_db = (1 / m) * np.sum(sigmoid(np.dot(X, w.T)+b) - y)\n",
    "    return dj_dw, dj_db\n",
    "\n",
    "\n",
    "def compute_gradient_reg(w, b, X, y, learning_rate):\n",
    "    m = X.shape[0]\n",
    "    dj_dw, dj_db = compute_gradient(w, b, X, y)\n",
    "    dj_dw += (learning_rate / m) * w\n",
    "    return dj_dw, dj_db"
   ],
   "id": "49315d383bba8c91"
  },
  {
   "metadata": {},
   "cell_type": "markdown",
   "source": "梯度下降算法",
   "id": "79d72e4a2b0d270a"
  },
  {
   "metadata": {},
   "cell_type": "code",
   "outputs": [],
   "execution_count": null,
   "source": [
    "def gradient_descent_reg(X, y, w_in, b_in, cost_function, gradient_function, alpha, iters, lambda_):\n",
    "    J_history = []\n",
    "    w_history = []\n",
    "    for i in range(iters):\n",
    "        dj_dw, dj_db = gradient_function(w_in, b_in, X, y, lambda_)\n",
    "        w_in = w_in - alpha * dj_dw\n",
    "        b_in = b_in - alpha * dj_db\n",
    "        J_history.append(cost_function(w_in, b_in, X, y, lambda_))\n",
    "        if i % 100000 == 0:\n",
    "            w_history.append(w_in)\n",
    "            print(f'Iteration {i:4d}: Cost {J_history[-1]:8.2f}')\n",
    "\n",
    "    return w_in, b_in, J_history, w_history"
   ],
   "id": "2022b9c0957d73a0"
  },
  {
   "metadata": {},
   "cell_type": "markdown",
   "source": "执行算法，实现拟合",
   "id": "5f4c7c7846571fa8"
  },
  {
   "metadata": {},
   "cell_type": "code",
   "outputs": [],
   "execution_count": null,
   "source": [
    "# 导入数据\n",
    "data, df, X, y = load_and_preprocess_data()\n",
    "initial_w = np.random.rand(X.shape[1]) - 0.5\n",
    "initial_b = 0.5\n",
    "iterations = 300000\n",
    "alpha = 0.1\n",
    "lambda_ = 0.01\n",
    "# print(compute_cost_reg(initial_w, initial_b, X, y, 1))\n",
    "# print(compute_gradient_reg(initial_w, initial_b, X, y, 1))\n",
    "w, b, J_history, w_history = gradient_descent_reg(\n",
    "    X.values, y.values, initial_w, initial_b,\n",
    "    compute_cost_reg, compute_gradient_reg,\n",
    "    alpha, iterations, lambda_)\n",
    "# 预测\n",
    "predictions = sigmoid(np.dot(X, w.T) + b)\n",
    "for i in range(len(predictions)):\n",
    "    if predictions[i] >= 0.5:\n",
    "        predictions[i] = 1\n",
    "    else:\n",
    "        predictions[i] = 0\n",
    "# 显示模型准确性，约为0.83\n",
    "print(np.sum((y-predictions) == 0) / len(predictions))"
   ],
   "id": "9b68627499027c99"
  }
 ],
 "metadata": {
  "kernelspec": {
   "display_name": "Python 3",
   "language": "python",
   "name": "python3"
  },
  "language_info": {
   "codemirror_mode": {
    "name": "ipython",
    "version": 2
   },
   "file_extension": ".py",
   "mimetype": "text/x-python",
   "name": "python",
   "nbconvert_exporter": "python",
   "pygments_lexer": "ipython2",
   "version": "2.7.6"
  }
 },
 "nbformat": 4,
 "nbformat_minor": 5
}
