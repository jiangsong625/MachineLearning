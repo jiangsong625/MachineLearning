{
 "cells": [
  {
   "metadata": {},
   "cell_type": "markdown",
   "source": [
    "# 导入所需要的包\n",
    "keras包"
   ],
   "id": "8403e2bfa193abb5"
  },
  {
   "cell_type": "code",
   "id": "initial_id",
   "metadata": {
    "collapsed": true,
    "ExecuteTime": {
     "end_time": "2024-05-11T02:32:29.526014Z",
     "start_time": "2024-05-11T02:32:29.520030Z"
    }
   },
   "source": [
    "import numpy as np\n",
    "import matplotlib.pyplot as plt\n",
    "import tensorflow as tf\n",
    "import tensorflow.keras\n",
    "from tensorflow.keras.layers import Dense, Input\n",
    "from tensorflow.keras import Sequential\n",
    "from tensorflow.keras.losses import MeanSquaredError, BinaryCrossentropy\n",
    "from tensorflow.keras.activations import sigmoid\n",
    "# 导入BinaryCrossentropy损失函数\n",
    "from tensorflow.keras.losses import BinaryCrossentropy\n",
    "import logging\n",
    "\n",
    "logging.getLogger(\"tensorflow\").setLevel(logging.ERROR)  # 暂时取消警告"
   ],
   "outputs": [],
   "execution_count": 21
  },
  {
   "metadata": {},
   "cell_type": "markdown",
   "source": "添加训练样本",
   "id": "cf69c530613f6ef3"
  },
  {
   "metadata": {
    "ExecuteTime": {
     "end_time": "2024-05-11T00:59:19.171680Z",
     "start_time": "2024-05-11T00:59:19.155155Z"
    }
   },
   "cell_type": "code",
   "source": [
    "X_train = np.array([[1.], [2.]], dtype=np.float32)\n",
    "Y_train = np.array([[300.], [500.]], dtype=np.float32)"
   ],
   "id": "93a525922b552446",
   "outputs": [],
   "execution_count": 2
  },
  {
   "metadata": {},
   "cell_type": "markdown",
   "source": [
    "定义一个具有一个神经元或单元的层\n",
    "采用线性回归模型\n",
    "$$\n",
    "f_{\\mathbf{w},b}(\\mathbf{x}) = \\mathbf{w}\\cdot \\mathbf{x} + b\n",
    "$$"
   ],
   "id": "dbdc442b66c000da"
  },
  {
   "metadata": {
    "ExecuteTime": {
     "end_time": "2024-05-11T00:59:25.219704Z",
     "start_time": "2024-05-11T00:59:25.179646Z"
    }
   },
   "cell_type": "code",
   "source": "linear_model = tf.keras.layers.Dense(units=1, activation='linear')",
   "id": "894b3e28e428417e",
   "outputs": [],
   "execution_count": 3
  },
  {
   "metadata": {},
   "cell_type": "markdown",
   "source": "输出此处的权重，当然是没有的，因为还没有训练",
   "id": "6cf6b856035772bf"
  },
  {
   "metadata": {
    "ExecuteTime": {
     "end_time": "2024-05-11T00:59:28.048924Z",
     "start_time": "2024-05-11T00:59:28.039870Z"
    }
   },
   "cell_type": "code",
   "source": "print(linear_model.get_weights())",
   "id": "a0619c31f1ee5283",
   "outputs": [
    {
     "name": "stdout",
     "output_type": "stream",
     "text": [
      "[]\n"
     ]
    }
   ],
   "execution_count": 4
  },
  {
   "metadata": {
    "ExecuteTime": {
     "end_time": "2024-05-11T00:59:47.407237Z",
     "start_time": "2024-05-11T00:59:30.585049Z"
    }
   },
   "cell_type": "code",
   "source": [
    "a1 = linear_model(X_train[0].reshape(1,1))\n",
    "print(a1)"
   ],
   "id": "91944aa5d6528d7e",
   "outputs": [
    {
     "name": "stdout",
     "output_type": "stream",
     "text": [
      "tf.Tensor([[0.4627074]], shape=(1, 1), dtype=float32)\n"
     ]
    }
   ],
   "execution_count": 5
  },
  {
   "metadata": {},
   "cell_type": "markdown",
   "source": "权重被初始化为随机小数，偏差默认初始化为零",
   "id": "d4b0f3dc80f2f37d"
  },
  {
   "metadata": {
    "ExecuteTime": {
     "end_time": "2024-05-11T00:59:55.774849Z",
     "start_time": "2024-05-11T00:59:55.766870Z"
    }
   },
   "cell_type": "code",
   "source": [
    "w, b = linear_model.get_weights()\n",
    "print(f\"w = {w}, b = {b}\")"
   ],
   "id": "ca70356605dca8a",
   "outputs": [
    {
     "name": "stdout",
     "output_type": "stream",
     "text": [
      "w = [[0.4627074]], b = [0.]\n"
     ]
    }
   ],
   "execution_count": 6
  },
  {
   "metadata": {},
   "cell_type": "markdown",
   "source": "将权重设置为已知值",
   "id": "892367d2aa7fcfa8"
  },
  {
   "metadata": {
    "ExecuteTime": {
     "end_time": "2024-05-11T01:00:02.314415Z",
     "start_time": "2024-05-11T01:00:02.295466Z"
    }
   },
   "cell_type": "code",
   "source": [
    "set_w = np.array([[200.]])\n",
    "set_b = np.array([100.])\n",
    "linear_model.set_weights([set_w, set_b])\n",
    "print(linear_model.get_weights())"
   ],
   "id": "1dbc42b64a437981",
   "outputs": [
    {
     "name": "stdout",
     "output_type": "stream",
     "text": [
      "[array([[200.]], dtype=float32), array([100.], dtype=float32)]\n"
     ]
    }
   ],
   "execution_count": 7
  },
  {
   "metadata": {
    "ExecuteTime": {
     "end_time": "2024-05-11T01:00:07.862500Z",
     "start_time": "2024-05-11T01:00:07.849536Z"
    }
   },
   "cell_type": "code",
   "source": [
    "a1 = linear_model(X_train[0].reshape(1,1))\n",
    "print(a1)\n",
    "alin = np.dot(set_w, X_train[0].reshape(1,1)) + set_b\n",
    "print(alin)"
   ],
   "id": "f7e14d13c6c9d3f1",
   "outputs": [
    {
     "name": "stdout",
     "output_type": "stream",
     "text": [
      "tf.Tensor([[300.]], shape=(1, 1), dtype=float32)\n",
      "[[300.]]\n"
     ]
    }
   ],
   "execution_count": 8
  },
  {
   "metadata": {},
   "cell_type": "markdown",
   "source": "产生了相同的结果，现在训练模型",
   "id": "28483592428e041f"
  },
  {
   "metadata": {
    "ExecuteTime": {
     "end_time": "2024-05-11T01:00:13.122040Z",
     "start_time": "2024-05-11T01:00:13.026493Z"
    }
   },
   "cell_type": "code",
   "source": [
    "prediction_tf = linear_model(X_train)\n",
    "prediction_np =  np.dot(X_train, set_w) + set_b"
   ],
   "id": "80d8deeef8c89d5f",
   "outputs": [],
   "execution_count": 9
  },
  {
   "metadata": {},
   "cell_type": "markdown",
   "source": "使用模型预测得来的权重和截距可以用来预测，也可以直接使用单个神经元来预测",
   "id": "199392186cfacbf8"
  },
  {
   "metadata": {
    "ExecuteTime": {
     "end_time": "2024-05-11T01:00:16.496353Z",
     "start_time": "2024-05-11T01:00:16.478401Z"
    }
   },
   "cell_type": "code",
   "source": "prediction_np, prediction_tf",
   "id": "3c95617f0e682dec",
   "outputs": [
    {
     "data": {
      "text/plain": [
       "(array([[300.],\n",
       "        [500.]]),\n",
       " <tf.Tensor: shape=(2, 1), dtype=float32, numpy=\n",
       " array([[300.],\n",
       "        [500.]], dtype=float32)>)"
      ]
     },
     "execution_count": 10,
     "metadata": {},
     "output_type": "execute_result"
    }
   ],
   "execution_count": 10
  },
  {
   "metadata": {},
   "cell_type": "markdown",
   "source": "上述各步骤未经拟合，只是参数正好匹配，所以预测结果完全正确",
   "id": "78f9d88d4daf7911"
  },
  {
   "metadata": {},
   "cell_type": "markdown",
   "source": [
    "# 具有sigmoid激活函数的神经元\n",
    "$$\n",
    "f_{\\mathbf{w},b}(\\mathbf{x}) = g\\left(\\mathbf{w}\\cdot \\mathbf{x} + b\\right)\\\\\n",
    "g(z) = \\frac{1}{1+e^{-z}}\n",
    "$$"
   ],
   "id": "96044fc6ad18087e"
  },
  {
   "metadata": {
    "ExecuteTime": {
     "end_time": "2024-05-11T01:36:38.213233Z",
     "start_time": "2024-05-11T01:36:38.192845Z"
    }
   },
   "cell_type": "code",
   "source": [
    "X_train = np.array([0., 1, 2, 3, 4, 5], dtype=np.float32).reshape(-1,1)\n",
    "Y_train = np.array([0,  0, 0, 1, 1, 1], dtype=np.float32).reshape(-1,1)\n",
    "pos = Y_train == 1\n",
    "neg = Y_train == 0\n",
    "print(X_train[pos])"
   ],
   "id": "714d3a8cd3ad6bf9",
   "outputs": [
    {
     "name": "stdout",
     "output_type": "stream",
     "text": [
      "[3. 4. 5.]\n"
     ]
    }
   ],
   "execution_count": 11
  },
  {
   "metadata": {},
   "cell_type": "markdown",
   "source": "",
   "id": "22a04a391980379c"
  },
  {
   "metadata": {
    "ExecuteTime": {
     "end_time": "2024-05-11T01:38:08.858765Z",
     "start_time": "2024-05-11T01:38:08.714107Z"
    }
   },
   "cell_type": "code",
   "source": "model = Sequential([tf.keras.layers.Dense(units=1, input_dim=1, activation='sigmoid',name='L1')])",
   "id": "af4fd09fd53070c2",
   "outputs": [],
   "execution_count": 12
  },
  {
   "metadata": {},
   "cell_type": "markdown",
   "source": "使用keras构建深度学习模型，我们会通过model.summary()输出模型各层的参数状况，如下:",
   "id": "3c637d72e8ee8c19"
  },
  {
   "metadata": {
    "ExecuteTime": {
     "end_time": "2024-05-11T01:38:21.962263Z",
     "start_time": "2024-05-11T01:38:21.945380Z"
    }
   },
   "cell_type": "code",
   "source": "model.summary()",
   "id": "754bb96a289d17e",
   "outputs": [
    {
     "name": "stdout",
     "output_type": "stream",
     "text": [
      "Model: \"sequential\"\n",
      "_________________________________________________________________\n",
      "Layer (type)                 Output Shape              Param #   \n",
      "=================================================================\n",
      "L1 (Dense)                   (None, 1)                 2         \n",
      "=================================================================\n",
      "Total params: 2\n",
      "Trainable params: 2\n",
      "Non-trainable params: 0\n",
      "_________________________________________________________________\n"
     ]
    }
   ],
   "execution_count": 13
  },
  {
   "metadata": {},
   "cell_type": "markdown",
   "source": "",
   "id": "bfe9f5081ad23851"
  },
  {
   "metadata": {
    "ExecuteTime": {
     "end_time": "2024-05-11T01:54:40.602340Z",
     "start_time": "2024-05-11T01:54:40.588412Z"
    }
   },
   "cell_type": "code",
   "source": [
    "logistic_layer = model.get_layer('L1')\n",
    "w, b = logistic_layer.get_weights()\n",
    "print(w,b)\n",
    "print(w.shape, b.shape)"
   ],
   "id": "2512819e3741822",
   "outputs": [
    {
     "name": "stdout",
     "output_type": "stream",
     "text": [
      "[[-0.8207963]] [0.]\n",
      "(1, 1) (1,)\n"
     ]
    }
   ],
   "execution_count": 14
  },
  {
   "metadata": {
    "ExecuteTime": {
     "end_time": "2024-05-11T02:32:55.404741Z",
     "start_time": "2024-05-11T02:32:54.840092Z"
    }
   },
   "cell_type": "code",
   "source": [
    "set_w = np.array([[2]])\n",
    "set_b = np.array([-4.5])\n",
    "logistic_layer.set_weights([set_w, set_b])\n",
    "print(logistic_layer.get_weights())\n",
    "model.compile(loss=BinaryCrossentropy(), optimizer=tf.keras.optimizers.Adam(0.001), metrics=[tf.keras.metrics.BinaryAccuracy()])\n",
    "model.fit(X_train, Y_train, epochs=10)"
   ],
   "id": "9531dda33683a740",
   "outputs": [
    {
     "name": "stdout",
     "output_type": "stream",
     "text": [
      "[array([[2.]], dtype=float32), array([-4.5], dtype=float32)]\n",
      "Epoch 1/10\n",
      "1/1 [==============================] - 0s 391ms/step - loss: 0.1332 - binary_accuracy: 1.0000\n",
      "Epoch 2/10\n",
      "1/1 [==============================] - 0s 7ms/step - loss: 0.1331 - binary_accuracy: 1.0000\n",
      "Epoch 3/10\n",
      "1/1 [==============================] - 0s 5ms/step - loss: 0.1331 - binary_accuracy: 1.0000\n",
      "Epoch 4/10\n",
      "1/1 [==============================] - 0s 6ms/step - loss: 0.1330 - binary_accuracy: 1.0000\n",
      "Epoch 5/10\n",
      "1/1 [==============================] - 0s 5ms/step - loss: 0.1330 - binary_accuracy: 1.0000\n",
      "Epoch 6/10\n",
      "1/1 [==============================] - 0s 5ms/step - loss: 0.1329 - binary_accuracy: 1.0000\n",
      "Epoch 7/10\n",
      "1/1 [==============================] - 0s 6ms/step - loss: 0.1328 - binary_accuracy: 1.0000\n",
      "Epoch 8/10\n",
      "1/1 [==============================] - 0s 6ms/step - loss: 0.1328 - binary_accuracy: 1.0000\n",
      "Epoch 9/10\n",
      "1/1 [==============================] - 0s 5ms/step - loss: 0.1327 - binary_accuracy: 1.0000\n",
      "Epoch 10/10\n",
      "1/1 [==============================] - 0s 5ms/step - loss: 0.1327 - binary_accuracy: 1.0000\n"
     ]
    },
    {
     "data": {
      "text/plain": [
       "<keras.callbacks.History at 0x1fd852220f0>"
      ]
     },
     "execution_count": 22,
     "metadata": {},
     "output_type": "execute_result"
    }
   ],
   "execution_count": 22
  },
  {
   "metadata": {
    "ExecuteTime": {
     "end_time": "2024-05-11T02:33:25.031711Z",
     "start_time": "2024-05-11T02:33:25.021739Z"
    }
   },
   "cell_type": "code",
   "source": "logistic_layer.get_weights()",
   "id": "a31853d87e2fc944",
   "outputs": [
    {
     "data": {
      "text/plain": [
       "[array([[1.9901135]], dtype=float32), array([-4.5099773], dtype=float32)]"
      ]
     },
     "execution_count": 23,
     "metadata": {},
     "output_type": "execute_result"
    }
   ],
   "execution_count": 23
  },
  {
   "metadata": {
    "ExecuteTime": {
     "end_time": "2024-05-11T02:33:32.687282Z",
     "start_time": "2024-05-11T02:33:32.619038Z"
    }
   },
   "cell_type": "code",
   "source": [
    "a1 = model.predict(X_train[0].reshape(1,1))\n",
    "print(a1)\n",
    "alog = sigmoid(np.dot(set_w, X_train[0].reshape(1,1)) + set_b)\n",
    "print(alog)"
   ],
   "id": "7db89a1d5f1eafff",
   "outputs": [
    {
     "name": "stdout",
     "output_type": "stream",
     "text": [
      "[[0.01087905]]\n",
      "tf.Tensor([[0.01098694]], shape=(1, 1), dtype=float64)\n"
     ]
    }
   ],
   "execution_count": 24
  },
  {
   "metadata": {},
   "cell_type": "code",
   "outputs": [],
   "execution_count": null,
   "source": "",
   "id": "dbbc61ffaae852e6"
  }
 ],
 "metadata": {
  "kernelspec": {
   "display_name": "Python 3",
   "language": "python",
   "name": "python3"
  },
  "language_info": {
   "codemirror_mode": {
    "name": "ipython",
    "version": 2
   },
   "file_extension": ".py",
   "mimetype": "text/x-python",
   "name": "python",
   "nbconvert_exporter": "python",
   "pygments_lexer": "ipython2",
   "version": "2.7.6"
  }
 },
 "nbformat": 4,
 "nbformat_minor": 5
}
