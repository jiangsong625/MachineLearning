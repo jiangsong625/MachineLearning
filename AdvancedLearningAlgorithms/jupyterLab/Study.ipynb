{
 "cells": [
  {
   "metadata": {},
   "cell_type": "code",
   "source": [
    "import tensorflow as tf\n",
    "import numpy as np"
   ],
   "id": "initial_id",
   "outputs": [],
   "execution_count": null
  },
  {
   "metadata": {
    "ExecuteTime": {
     "end_time": "2024-05-25T08:09:53.453924Z",
     "start_time": "2024-05-25T08:09:53.447274Z"
    }
   },
   "cell_type": "code",
   "source": "arr_list = np.arange(1, 100)",
   "id": "bde79f768597a066",
   "outputs": [],
   "execution_count": 11
  },
  {
   "metadata": {
    "ExecuteTime": {
     "end_time": "2024-05-25T08:09:54.462623Z",
     "start_time": "2024-05-25T08:09:54.443674Z"
    }
   },
   "cell_type": "code",
   "source": [
    "dataSet = tf.data.Dataset.from_tensor_slices(arr_list)\n",
    "dataSet_iterator = dataSet.shuffle(arr_list.shape[0]).batch(10)"
   ],
   "id": "976112d69f28e89d",
   "outputs": [],
   "execution_count": 12
  },
  {
   "metadata": {
    "ExecuteTime": {
     "end_time": "2024-05-25T08:10:06.656093Z",
     "start_time": "2024-05-25T08:10:06.646634Z"
    }
   },
   "cell_type": "code",
   "source": [
    "def model(xs):\n",
    "    outputs = tf.multiply(xs, 1)\n",
    "    return outputs"
   ],
   "id": "ef9aacedcc7a7841",
   "outputs": [],
   "execution_count": 15
  },
  {
   "metadata": {
    "ExecuteTime": {
     "end_time": "2024-05-25T08:10:07.057888Z",
     "start_time": "2024-05-25T08:10:07.033953Z"
    }
   },
   "cell_type": "code",
   "source": [
    "for it in dataSet_iterator:\n",
    "    logit = model(it)\n",
    "    print(logit)"
   ],
   "id": "fb5b0c1337d4608",
   "outputs": [
    {
     "name": "stdout",
     "output_type": "stream",
     "text": [
      "tf.Tensor([33 10 34 68 62 99 22 67  1 96], shape=(10,), dtype=int32)\n",
      "tf.Tensor([41 66  6 63 15 46 20 19 25 28], shape=(10,), dtype=int32)\n",
      "tf.Tensor([47 82 36 72 79  2  3 49  5 61], shape=(10,), dtype=int32)\n",
      "tf.Tensor([57  9 60 89 24 11 90 98 86 54], shape=(10,), dtype=int32)\n",
      "tf.Tensor([59 52 39 70 87 27 45 23 91 21], shape=(10,), dtype=int32)\n",
      "tf.Tensor([14 37 93 65 77 95 42 97 44  4], shape=(10,), dtype=int32)\n",
      "tf.Tensor([ 8 38 12 83 81 84 31 55 40 16], shape=(10,), dtype=int32)\n",
      "tf.Tensor([74 69 78 18 71 92 48 51 43 32], shape=(10,), dtype=int32)\n",
      "tf.Tensor([30 80 56 17 64 50 88 85 26 73], shape=(10,), dtype=int32)\n",
      "tf.Tensor([75 35 94 13 29 76  7 58 53], shape=(9,), dtype=int32)\n"
     ]
    }
   ],
   "execution_count": 16
  },
  {
   "metadata": {},
   "cell_type": "code",
   "source": "",
   "id": "1a6824eef762159c",
   "outputs": [],
   "execution_count": null
  }
 ],
 "metadata": {
  "kernelspec": {
   "display_name": "Python 3",
   "language": "python",
   "name": "python3"
  },
  "language_info": {
   "codemirror_mode": {
    "name": "ipython",
    "version": 2
   },
   "file_extension": ".py",
   "mimetype": "text/x-python",
   "name": "python",
   "nbconvert_exporter": "python",
   "pygments_lexer": "ipython2",
   "version": "2.7.6"
  }
 },
 "nbformat": 4,
 "nbformat_minor": 5
}
