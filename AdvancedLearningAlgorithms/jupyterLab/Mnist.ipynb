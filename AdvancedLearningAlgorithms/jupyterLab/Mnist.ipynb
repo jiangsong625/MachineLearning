{
 "cells": [
  {
   "cell_type": "code",
   "id": "initial_id",
   "metadata": {
    "collapsed": true,
    "ExecuteTime": {
     "end_time": "2024-06-02T07:42:35.728653Z",
     "start_time": "2024-06-02T07:41:51.146233Z"
    }
   },
   "source": [
    "import numpy as np\n",
    "import matplotlib.pyplot as plt\n",
    "from tensorflow import keras"
   ],
   "outputs": [],
   "execution_count": 2
  },
  {
   "metadata": {
    "ExecuteTime": {
     "end_time": "2024-06-02T07:43:19.698354Z",
     "start_time": "2024-06-02T07:43:19.680311Z"
    }
   },
   "cell_type": "code",
   "source": [
    "EPOCHS = 200  # 训练轮数\n",
    "BATCH_SIZE = 128  # 训练批次\n",
    "VERBOSE = 1  # 训练信息\n",
    "NB_CLASSES = 10  # 输出类别数\n",
    "N_HIDDEN = 128  # 隐藏层神经元数\n",
    "VALIDATION_SPLIT = 0.2  # 验证集比例  "
   ],
   "id": "3d71f477fbe60d5",
   "outputs": [],
   "execution_count": 3
  },
  {
   "metadata": {
    "ExecuteTime": {
     "end_time": "2024-06-02T07:43:40.091744Z",
     "start_time": "2024-06-02T07:43:39.834247Z"
    }
   },
   "cell_type": "code",
   "source": [
    "# 导入数据\n",
    "(X_train, Y_train), (X_test, Y_test) = keras.datasets.mnist.load_data()\n",
    "print(X_train.shape[0], 'train samples')"
   ],
   "id": "ea9944e8f8f31cfa",
   "outputs": [
    {
     "name": "stdout",
     "output_type": "stream",
     "text": [
      "60000 train samples\n"
     ]
    }
   ],
   "execution_count": 5
  },
  {
   "metadata": {
    "ExecuteTime": {
     "end_time": "2024-06-02T07:44:12.277766Z",
     "start_time": "2024-06-02T07:44:12.273777Z"
    }
   },
   "cell_type": "code",
   "source": "RESHAPED = 784  # 输入向量维度",
   "id": "3ca5acadb76a6b2c",
   "outputs": [],
   "execution_count": 6
  },
  {
   "metadata": {
    "ExecuteTime": {
     "end_time": "2024-06-02T07:45:12.375937Z",
     "start_time": "2024-06-02T07:45:12.272267Z"
    }
   },
   "cell_type": "code",
   "source": [
    "# 数据归一化\n",
    "X_train = X_train.reshape(60000, RESHAPED)\n",
    "X_test = X_test.reshape(10000, RESHAPED)\n",
    "X_train = X_train.astype('float32')\n",
    "X_test = X_test.astype('float32')\n",
    "X_train /= 255\n",
    "X_test /= 255"
   ],
   "id": "3f3b77ac8b7b6cb6",
   "outputs": [
    {
     "name": "stdout",
     "output_type": "stream",
     "text": [
      "60000 train samples\n"
     ]
    }
   ],
   "execution_count": 8
  },
  {
   "metadata": {
    "ExecuteTime": {
     "end_time": "2024-06-02T07:45:53.626953Z",
     "start_time": "2024-06-02T07:45:53.618974Z"
    }
   },
   "cell_type": "code",
   "source": [
    "# 标签one-hot编码\n",
    "Y_train = keras.utils.to_categorical(Y_train, NB_CLASSES)\n",
    "Y_test = keras.utils.to_categorical(Y_test, NB_CLASSES)"
   ],
   "id": "6754d9d414d2b9da",
   "outputs": [],
   "execution_count": 9
  },
  {
   "metadata": {
    "ExecuteTime": {
     "end_time": "2024-06-02T07:49:49.689287Z",
     "start_time": "2024-06-02T07:49:24.511283Z"
    }
   },
   "cell_type": "code",
   "source": [
    "# 模型定义\n",
    "model = keras.models.Sequential()\n",
    "model.add(keras.layers.Dense(NB_CLASSES, input_shape=(RESHAPED,), name='dense_layer', activation='softmax'))\n",
    "model.compile(optimizer='SGD', loss='categorical_crossentropy', metrics=['accuracy'])"
   ],
   "id": "a4dc921cb9544ebc",
   "outputs": [],
   "execution_count": 10
  },
  {
   "metadata": {
    "ExecuteTime": {
     "end_time": "2024-06-02T07:55:58.381667Z",
     "start_time": "2024-06-02T07:51:58.241107Z"
    }
   },
   "cell_type": "code",
   "source": [
    "# 模型训练\n",
    "model.fit(X_train, Y_train, batch_size=BATCH_SIZE, epochs=EPOCHS, verbose=VERBOSE, validation_split=VALIDATION_SPLIT)"
   ],
   "id": "25d7ea61d2108e86",
   "outputs": [
    {
     "name": "stdout",
     "output_type": "stream",
     "text": [
      "Epoch 1/200\n",
      "375/375 [==============================] - 6s 4ms/step - loss: 1.3536 - accuracy: 0.6790 - val_loss: 0.8821 - val_accuracy: 0.8317\n",
      "Epoch 2/200\n",
      "375/375 [==============================] - 1s 3ms/step - loss: 0.7878 - accuracy: 0.8294 - val_loss: 0.6509 - val_accuracy: 0.8592\n",
      "Epoch 3/200\n",
      "375/375 [==============================] - 1s 3ms/step - loss: 0.6407 - accuracy: 0.8521 - val_loss: 0.5572 - val_accuracy: 0.8717\n",
      "Epoch 4/200\n",
      "375/375 [==============================] - 1s 3ms/step - loss: 0.5692 - accuracy: 0.8631 - val_loss: 0.5056 - val_accuracy: 0.8785\n",
      "Epoch 5/200\n",
      "375/375 [==============================] - 1s 3ms/step - loss: 0.5257 - accuracy: 0.8695 - val_loss: 0.4722 - val_accuracy: 0.8835\n",
      "Epoch 6/200\n",
      "375/375 [==============================] - 1s 3ms/step - loss: 0.4957 - accuracy: 0.8745 - val_loss: 0.4485 - val_accuracy: 0.8879\n",
      "Epoch 7/200\n",
      "375/375 [==============================] - 1s 3ms/step - loss: 0.4735 - accuracy: 0.8783 - val_loss: 0.4309 - val_accuracy: 0.8907\n",
      "Epoch 8/200\n",
      "375/375 [==============================] - 1s 3ms/step - loss: 0.4563 - accuracy: 0.8813 - val_loss: 0.4166 - val_accuracy: 0.8942\n",
      "Epoch 9/200\n",
      "375/375 [==============================] - 1s 3ms/step - loss: 0.4425 - accuracy: 0.8837 - val_loss: 0.4053 - val_accuracy: 0.8964\n",
      "Epoch 10/200\n",
      "375/375 [==============================] - 1s 3ms/step - loss: 0.4310 - accuracy: 0.8861 - val_loss: 0.3959 - val_accuracy: 0.8977\n",
      "Epoch 11/200\n",
      "375/375 [==============================] - 1s 3ms/step - loss: 0.4212 - accuracy: 0.8882 - val_loss: 0.3881 - val_accuracy: 0.8996\n",
      "Epoch 12/200\n",
      "375/375 [==============================] - 1s 3ms/step - loss: 0.4129 - accuracy: 0.8897 - val_loss: 0.3812 - val_accuracy: 0.9011\n",
      "Epoch 13/200\n",
      "375/375 [==============================] - 1s 3ms/step - loss: 0.4056 - accuracy: 0.8911 - val_loss: 0.3751 - val_accuracy: 0.9028\n",
      "Epoch 14/200\n",
      "375/375 [==============================] - 1s 3ms/step - loss: 0.3991 - accuracy: 0.8924 - val_loss: 0.3700 - val_accuracy: 0.9029\n",
      "Epoch 15/200\n",
      "375/375 [==============================] - 1s 3ms/step - loss: 0.3934 - accuracy: 0.8935 - val_loss: 0.3652 - val_accuracy: 0.9035\n",
      "Epoch 16/200\n",
      "375/375 [==============================] - 1s 3ms/step - loss: 0.3883 - accuracy: 0.8945 - val_loss: 0.3610 - val_accuracy: 0.9046\n",
      "Epoch 17/200\n",
      "375/375 [==============================] - 1s 3ms/step - loss: 0.3836 - accuracy: 0.8956 - val_loss: 0.3572 - val_accuracy: 0.9054\n",
      "Epoch 18/200\n",
      "375/375 [==============================] - 1s 3ms/step - loss: 0.3794 - accuracy: 0.8963 - val_loss: 0.3537 - val_accuracy: 0.9055\n",
      "Epoch 19/200\n",
      "375/375 [==============================] - 1s 3ms/step - loss: 0.3755 - accuracy: 0.8976 - val_loss: 0.3505 - val_accuracy: 0.9062\n",
      "Epoch 20/200\n",
      "375/375 [==============================] - 1s 3ms/step - loss: 0.3719 - accuracy: 0.8982 - val_loss: 0.3476 - val_accuracy: 0.9070\n",
      "Epoch 21/200\n",
      "375/375 [==============================] - 1s 3ms/step - loss: 0.3685 - accuracy: 0.8986 - val_loss: 0.3451 - val_accuracy: 0.9079\n",
      "Epoch 22/200\n",
      "375/375 [==============================] - 1s 3ms/step - loss: 0.3655 - accuracy: 0.8997 - val_loss: 0.3425 - val_accuracy: 0.9082\n",
      "Epoch 23/200\n",
      "375/375 [==============================] - 1s 3ms/step - loss: 0.3626 - accuracy: 0.9000 - val_loss: 0.3400 - val_accuracy: 0.9084\n",
      "Epoch 24/200\n",
      "375/375 [==============================] - 1s 3ms/step - loss: 0.3599 - accuracy: 0.9007 - val_loss: 0.3378 - val_accuracy: 0.9079\n",
      "Epoch 25/200\n",
      "375/375 [==============================] - 1s 3ms/step - loss: 0.3574 - accuracy: 0.9011 - val_loss: 0.3358 - val_accuracy: 0.9083\n",
      "Epoch 26/200\n",
      "375/375 [==============================] - 1s 3ms/step - loss: 0.3549 - accuracy: 0.9018 - val_loss: 0.3339 - val_accuracy: 0.9099\n",
      "Epoch 27/200\n",
      "375/375 [==============================] - 1s 3ms/step - loss: 0.3528 - accuracy: 0.9025 - val_loss: 0.3321 - val_accuracy: 0.9091\n",
      "Epoch 28/200\n",
      "375/375 [==============================] - 1s 3ms/step - loss: 0.3506 - accuracy: 0.9028 - val_loss: 0.3304 - val_accuracy: 0.9092\n",
      "Epoch 29/200\n",
      "375/375 [==============================] - 1s 3ms/step - loss: 0.3486 - accuracy: 0.9032 - val_loss: 0.3287 - val_accuracy: 0.9108\n",
      "Epoch 30/200\n",
      "375/375 [==============================] - 1s 3ms/step - loss: 0.3467 - accuracy: 0.9036 - val_loss: 0.3272 - val_accuracy: 0.9103\n",
      "Epoch 31/200\n",
      "375/375 [==============================] - 1s 3ms/step - loss: 0.3449 - accuracy: 0.9041 - val_loss: 0.3257 - val_accuracy: 0.9102\n",
      "Epoch 32/200\n",
      "375/375 [==============================] - 1s 3ms/step - loss: 0.3432 - accuracy: 0.9043 - val_loss: 0.3244 - val_accuracy: 0.9109\n",
      "Epoch 33/200\n",
      "375/375 [==============================] - 1s 3ms/step - loss: 0.3415 - accuracy: 0.9051 - val_loss: 0.3232 - val_accuracy: 0.9111\n",
      "Epoch 34/200\n",
      "375/375 [==============================] - 1s 3ms/step - loss: 0.3400 - accuracy: 0.9054 - val_loss: 0.3218 - val_accuracy: 0.9114\n",
      "Epoch 35/200\n",
      "375/375 [==============================] - 1s 3ms/step - loss: 0.3385 - accuracy: 0.9057 - val_loss: 0.3206 - val_accuracy: 0.9119\n",
      "Epoch 36/200\n",
      "375/375 [==============================] - 1s 3ms/step - loss: 0.3370 - accuracy: 0.9060 - val_loss: 0.3194 - val_accuracy: 0.9115\n",
      "Epoch 37/200\n",
      "375/375 [==============================] - 1s 3ms/step - loss: 0.3356 - accuracy: 0.9066 - val_loss: 0.3184 - val_accuracy: 0.9128\n",
      "Epoch 38/200\n",
      "375/375 [==============================] - 1s 3ms/step - loss: 0.3343 - accuracy: 0.9069 - val_loss: 0.3172 - val_accuracy: 0.9128\n",
      "Epoch 39/200\n",
      "375/375 [==============================] - 1s 3ms/step - loss: 0.3330 - accuracy: 0.9072 - val_loss: 0.3163 - val_accuracy: 0.9132\n",
      "Epoch 40/200\n",
      "375/375 [==============================] - 1s 3ms/step - loss: 0.3318 - accuracy: 0.9079 - val_loss: 0.3153 - val_accuracy: 0.9135\n",
      "Epoch 41/200\n",
      "375/375 [==============================] - 1s 3ms/step - loss: 0.3306 - accuracy: 0.9080 - val_loss: 0.3143 - val_accuracy: 0.9137\n",
      "Epoch 42/200\n",
      "375/375 [==============================] - 1s 3ms/step - loss: 0.3294 - accuracy: 0.9085 - val_loss: 0.3135 - val_accuracy: 0.9143\n",
      "Epoch 43/200\n",
      "375/375 [==============================] - 1s 3ms/step - loss: 0.3283 - accuracy: 0.9088 - val_loss: 0.3126 - val_accuracy: 0.9143\n",
      "Epoch 44/200\n",
      "375/375 [==============================] - 1s 3ms/step - loss: 0.3273 - accuracy: 0.9089 - val_loss: 0.3117 - val_accuracy: 0.9137\n",
      "Epoch 45/200\n",
      "375/375 [==============================] - 1s 3ms/step - loss: 0.3262 - accuracy: 0.9094 - val_loss: 0.3109 - val_accuracy: 0.9145\n",
      "Epoch 46/200\n",
      "375/375 [==============================] - 1s 3ms/step - loss: 0.3253 - accuracy: 0.9096 - val_loss: 0.3101 - val_accuracy: 0.9145\n",
      "Epoch 47/200\n",
      "375/375 [==============================] - 1s 3ms/step - loss: 0.3243 - accuracy: 0.9101 - val_loss: 0.3094 - val_accuracy: 0.9151\n",
      "Epoch 48/200\n",
      "375/375 [==============================] - 1s 3ms/step - loss: 0.3234 - accuracy: 0.9106 - val_loss: 0.3087 - val_accuracy: 0.9148\n",
      "Epoch 49/200\n",
      "375/375 [==============================] - 1s 3ms/step - loss: 0.3224 - accuracy: 0.9105 - val_loss: 0.3080 - val_accuracy: 0.9146\n",
      "Epoch 50/200\n",
      "375/375 [==============================] - 1s 3ms/step - loss: 0.3216 - accuracy: 0.9109 - val_loss: 0.3072 - val_accuracy: 0.9152\n",
      "Epoch 51/200\n",
      "375/375 [==============================] - 1s 3ms/step - loss: 0.3207 - accuracy: 0.9111 - val_loss: 0.3067 - val_accuracy: 0.9157\n",
      "Epoch 52/200\n",
      "375/375 [==============================] - 1s 3ms/step - loss: 0.3199 - accuracy: 0.9113 - val_loss: 0.3059 - val_accuracy: 0.9159\n",
      "Epoch 53/200\n",
      "375/375 [==============================] - 1s 3ms/step - loss: 0.3191 - accuracy: 0.9112 - val_loss: 0.3054 - val_accuracy: 0.9162\n",
      "Epoch 54/200\n",
      "375/375 [==============================] - 1s 3ms/step - loss: 0.3183 - accuracy: 0.9117 - val_loss: 0.3047 - val_accuracy: 0.9162\n",
      "Epoch 55/200\n",
      "375/375 [==============================] - 1s 3ms/step - loss: 0.3175 - accuracy: 0.9119 - val_loss: 0.3042 - val_accuracy: 0.9163\n",
      "Epoch 56/200\n",
      "375/375 [==============================] - 1s 3ms/step - loss: 0.3168 - accuracy: 0.9120 - val_loss: 0.3036 - val_accuracy: 0.9168\n",
      "Epoch 57/200\n",
      "375/375 [==============================] - 1s 3ms/step - loss: 0.3160 - accuracy: 0.9123 - val_loss: 0.3031 - val_accuracy: 0.9164\n",
      "Epoch 58/200\n",
      "375/375 [==============================] - 1s 3ms/step - loss: 0.3153 - accuracy: 0.9125 - val_loss: 0.3024 - val_accuracy: 0.9168\n",
      "Epoch 59/200\n",
      "375/375 [==============================] - 1s 3ms/step - loss: 0.3146 - accuracy: 0.9129 - val_loss: 0.3019 - val_accuracy: 0.9170\n",
      "Epoch 60/200\n",
      "375/375 [==============================] - 1s 3ms/step - loss: 0.3139 - accuracy: 0.9130 - val_loss: 0.3015 - val_accuracy: 0.9174\n",
      "Epoch 61/200\n",
      "375/375 [==============================] - 1s 3ms/step - loss: 0.3133 - accuracy: 0.9133 - val_loss: 0.3010 - val_accuracy: 0.9169\n",
      "Epoch 62/200\n",
      "375/375 [==============================] - 1s 3ms/step - loss: 0.3127 - accuracy: 0.9132 - val_loss: 0.3004 - val_accuracy: 0.9172\n",
      "Epoch 63/200\n",
      "375/375 [==============================] - 1s 3ms/step - loss: 0.3120 - accuracy: 0.9136 - val_loss: 0.3000 - val_accuracy: 0.9171\n",
      "Epoch 64/200\n",
      "375/375 [==============================] - 1s 3ms/step - loss: 0.3114 - accuracy: 0.9135 - val_loss: 0.2995 - val_accuracy: 0.9174\n",
      "Epoch 65/200\n",
      "375/375 [==============================] - 1s 3ms/step - loss: 0.3108 - accuracy: 0.9139 - val_loss: 0.2991 - val_accuracy: 0.9178\n",
      "Epoch 66/200\n",
      "375/375 [==============================] - 1s 3ms/step - loss: 0.3102 - accuracy: 0.9138 - val_loss: 0.2986 - val_accuracy: 0.9178\n",
      "Epoch 67/200\n",
      "375/375 [==============================] - 1s 3ms/step - loss: 0.3097 - accuracy: 0.9141 - val_loss: 0.2981 - val_accuracy: 0.9176\n",
      "Epoch 68/200\n",
      "375/375 [==============================] - 1s 3ms/step - loss: 0.3091 - accuracy: 0.9142 - val_loss: 0.2977 - val_accuracy: 0.9177\n",
      "Epoch 69/200\n",
      "375/375 [==============================] - 1s 3ms/step - loss: 0.3085 - accuracy: 0.9146 - val_loss: 0.2974 - val_accuracy: 0.9181\n",
      "Epoch 70/200\n",
      "375/375 [==============================] - 1s 3ms/step - loss: 0.3080 - accuracy: 0.9144 - val_loss: 0.2968 - val_accuracy: 0.9181\n",
      "Epoch 71/200\n",
      "375/375 [==============================] - 1s 3ms/step - loss: 0.3075 - accuracy: 0.9147 - val_loss: 0.2966 - val_accuracy: 0.9180\n",
      "Epoch 72/200\n",
      "375/375 [==============================] - 1s 3ms/step - loss: 0.3070 - accuracy: 0.9147 - val_loss: 0.2962 - val_accuracy: 0.9176\n",
      "Epoch 73/200\n",
      "375/375 [==============================] - 1s 3ms/step - loss: 0.3065 - accuracy: 0.9149 - val_loss: 0.2957 - val_accuracy: 0.9183\n",
      "Epoch 74/200\n",
      "375/375 [==============================] - 1s 3ms/step - loss: 0.3059 - accuracy: 0.9153 - val_loss: 0.2955 - val_accuracy: 0.9184\n",
      "Epoch 75/200\n",
      "375/375 [==============================] - 1s 3ms/step - loss: 0.3055 - accuracy: 0.9151 - val_loss: 0.2951 - val_accuracy: 0.9183\n",
      "Epoch 76/200\n",
      "375/375 [==============================] - 1s 3ms/step - loss: 0.3050 - accuracy: 0.9155 - val_loss: 0.2947 - val_accuracy: 0.9184\n",
      "Epoch 77/200\n",
      "375/375 [==============================] - 1s 4ms/step - loss: 0.3045 - accuracy: 0.9156 - val_loss: 0.2944 - val_accuracy: 0.9186\n",
      "Epoch 78/200\n",
      "375/375 [==============================] - 2s 5ms/step - loss: 0.3041 - accuracy: 0.9154 - val_loss: 0.2940 - val_accuracy: 0.9184\n",
      "Epoch 79/200\n",
      "375/375 [==============================] - 1s 3ms/step - loss: 0.3036 - accuracy: 0.9157 - val_loss: 0.2936 - val_accuracy: 0.9183\n",
      "Epoch 80/200\n",
      "375/375 [==============================] - 1s 3ms/step - loss: 0.3032 - accuracy: 0.9157 - val_loss: 0.2933 - val_accuracy: 0.9188\n",
      "Epoch 81/200\n",
      "375/375 [==============================] - 1s 3ms/step - loss: 0.3027 - accuracy: 0.9159 - val_loss: 0.2930 - val_accuracy: 0.9195\n",
      "Epoch 82/200\n",
      "375/375 [==============================] - 1s 3ms/step - loss: 0.3023 - accuracy: 0.9162 - val_loss: 0.2927 - val_accuracy: 0.9193\n",
      "Epoch 83/200\n",
      "375/375 [==============================] - 1s 3ms/step - loss: 0.3019 - accuracy: 0.9159 - val_loss: 0.2925 - val_accuracy: 0.9188\n",
      "Epoch 84/200\n",
      "375/375 [==============================] - 1s 3ms/step - loss: 0.3015 - accuracy: 0.9161 - val_loss: 0.2922 - val_accuracy: 0.9191\n",
      "Epoch 85/200\n",
      "375/375 [==============================] - 1s 3ms/step - loss: 0.3011 - accuracy: 0.9162 - val_loss: 0.2919 - val_accuracy: 0.9193\n",
      "Epoch 86/200\n",
      "375/375 [==============================] - 1s 3ms/step - loss: 0.3006 - accuracy: 0.9169 - val_loss: 0.2916 - val_accuracy: 0.9195\n",
      "Epoch 87/200\n",
      "375/375 [==============================] - 1s 3ms/step - loss: 0.3003 - accuracy: 0.9166 - val_loss: 0.2912 - val_accuracy: 0.9192\n",
      "Epoch 88/200\n",
      "375/375 [==============================] - 1s 3ms/step - loss: 0.2998 - accuracy: 0.9169 - val_loss: 0.2910 - val_accuracy: 0.9195\n",
      "Epoch 89/200\n",
      "375/375 [==============================] - 1s 3ms/step - loss: 0.2995 - accuracy: 0.9168 - val_loss: 0.2906 - val_accuracy: 0.9190\n",
      "Epoch 90/200\n",
      "375/375 [==============================] - 1s 3ms/step - loss: 0.2991 - accuracy: 0.9167 - val_loss: 0.2904 - val_accuracy: 0.9190\n",
      "Epoch 91/200\n",
      "375/375 [==============================] - 1s 3ms/step - loss: 0.2988 - accuracy: 0.9169 - val_loss: 0.2903 - val_accuracy: 0.9187\n",
      "Epoch 92/200\n",
      "375/375 [==============================] - 1s 3ms/step - loss: 0.2984 - accuracy: 0.9169 - val_loss: 0.2898 - val_accuracy: 0.9193\n",
      "Epoch 93/200\n",
      "375/375 [==============================] - 1s 4ms/step - loss: 0.2981 - accuracy: 0.9168 - val_loss: 0.2896 - val_accuracy: 0.9193\n",
      "Epoch 94/200\n",
      "375/375 [==============================] - 1s 3ms/step - loss: 0.2977 - accuracy: 0.9170 - val_loss: 0.2893 - val_accuracy: 0.9195\n",
      "Epoch 95/200\n",
      "375/375 [==============================] - 1s 3ms/step - loss: 0.2974 - accuracy: 0.9174 - val_loss: 0.2891 - val_accuracy: 0.9190\n",
      "Epoch 96/200\n",
      "375/375 [==============================] - 1s 3ms/step - loss: 0.2970 - accuracy: 0.9172 - val_loss: 0.2889 - val_accuracy: 0.9193\n",
      "Epoch 97/200\n",
      "375/375 [==============================] - 1s 3ms/step - loss: 0.2967 - accuracy: 0.9173 - val_loss: 0.2887 - val_accuracy: 0.9193\n",
      "Epoch 98/200\n",
      "375/375 [==============================] - 1s 3ms/step - loss: 0.2964 - accuracy: 0.9175 - val_loss: 0.2885 - val_accuracy: 0.9193\n",
      "Epoch 99/200\n",
      "375/375 [==============================] - 1s 3ms/step - loss: 0.2960 - accuracy: 0.9176 - val_loss: 0.2882 - val_accuracy: 0.9194\n",
      "Epoch 100/200\n",
      "375/375 [==============================] - 1s 3ms/step - loss: 0.2957 - accuracy: 0.9177 - val_loss: 0.2881 - val_accuracy: 0.9195\n",
      "Epoch 101/200\n",
      "375/375 [==============================] - 1s 3ms/step - loss: 0.2954 - accuracy: 0.9175 - val_loss: 0.2877 - val_accuracy: 0.9193\n",
      "Epoch 102/200\n",
      "375/375 [==============================] - 1s 3ms/step - loss: 0.2951 - accuracy: 0.9180 - val_loss: 0.2875 - val_accuracy: 0.9193\n",
      "Epoch 103/200\n",
      "375/375 [==============================] - 1s 3ms/step - loss: 0.2948 - accuracy: 0.9179 - val_loss: 0.2873 - val_accuracy: 0.9196\n",
      "Epoch 104/200\n",
      "375/375 [==============================] - 1s 3ms/step - loss: 0.2945 - accuracy: 0.9179 - val_loss: 0.2871 - val_accuracy: 0.9194\n",
      "Epoch 105/200\n",
      "375/375 [==============================] - 1s 3ms/step - loss: 0.2942 - accuracy: 0.9180 - val_loss: 0.2869 - val_accuracy: 0.9193\n",
      "Epoch 106/200\n",
      "375/375 [==============================] - 1s 3ms/step - loss: 0.2939 - accuracy: 0.9181 - val_loss: 0.2867 - val_accuracy: 0.9196\n",
      "Epoch 107/200\n",
      "375/375 [==============================] - 1s 3ms/step - loss: 0.2936 - accuracy: 0.9181 - val_loss: 0.2865 - val_accuracy: 0.9199\n",
      "Epoch 108/200\n",
      "375/375 [==============================] - 1s 3ms/step - loss: 0.2933 - accuracy: 0.9184 - val_loss: 0.2862 - val_accuracy: 0.9196\n",
      "Epoch 109/200\n",
      "375/375 [==============================] - 1s 3ms/step - loss: 0.2930 - accuracy: 0.9182 - val_loss: 0.2860 - val_accuracy: 0.9202\n",
      "Epoch 110/200\n",
      "375/375 [==============================] - 1s 3ms/step - loss: 0.2927 - accuracy: 0.9184 - val_loss: 0.2859 - val_accuracy: 0.9197\n",
      "Epoch 111/200\n",
      "375/375 [==============================] - 1s 3ms/step - loss: 0.2925 - accuracy: 0.9187 - val_loss: 0.2857 - val_accuracy: 0.9197\n",
      "Epoch 112/200\n",
      "375/375 [==============================] - 1s 3ms/step - loss: 0.2922 - accuracy: 0.9187 - val_loss: 0.2855 - val_accuracy: 0.9201\n",
      "Epoch 113/200\n",
      "375/375 [==============================] - 1s 3ms/step - loss: 0.2919 - accuracy: 0.9187 - val_loss: 0.2853 - val_accuracy: 0.9200\n",
      "Epoch 114/200\n",
      "375/375 [==============================] - 1s 3ms/step - loss: 0.2916 - accuracy: 0.9188 - val_loss: 0.2851 - val_accuracy: 0.9204\n",
      "Epoch 115/200\n",
      "375/375 [==============================] - 1s 3ms/step - loss: 0.2914 - accuracy: 0.9190 - val_loss: 0.2850 - val_accuracy: 0.9202\n",
      "Epoch 116/200\n",
      "375/375 [==============================] - 1s 3ms/step - loss: 0.2911 - accuracy: 0.9189 - val_loss: 0.2848 - val_accuracy: 0.9202\n",
      "Epoch 117/200\n",
      "375/375 [==============================] - 1s 3ms/step - loss: 0.2909 - accuracy: 0.9190 - val_loss: 0.2846 - val_accuracy: 0.9200\n",
      "Epoch 118/200\n",
      "375/375 [==============================] - 1s 3ms/step - loss: 0.2906 - accuracy: 0.9189 - val_loss: 0.2845 - val_accuracy: 0.9203\n",
      "Epoch 119/200\n",
      "375/375 [==============================] - 1s 3ms/step - loss: 0.2904 - accuracy: 0.9189 - val_loss: 0.2843 - val_accuracy: 0.9202\n",
      "Epoch 120/200\n",
      "375/375 [==============================] - 1s 3ms/step - loss: 0.2901 - accuracy: 0.9189 - val_loss: 0.2841 - val_accuracy: 0.9205\n",
      "Epoch 121/200\n",
      "375/375 [==============================] - 1s 3ms/step - loss: 0.2898 - accuracy: 0.9194 - val_loss: 0.2839 - val_accuracy: 0.9205\n",
      "Epoch 122/200\n",
      "375/375 [==============================] - 1s 3ms/step - loss: 0.2896 - accuracy: 0.9194 - val_loss: 0.2837 - val_accuracy: 0.9209\n",
      "Epoch 123/200\n",
      "375/375 [==============================] - 1s 3ms/step - loss: 0.2894 - accuracy: 0.9194 - val_loss: 0.2836 - val_accuracy: 0.9205\n",
      "Epoch 124/200\n",
      "375/375 [==============================] - 1s 3ms/step - loss: 0.2891 - accuracy: 0.9193 - val_loss: 0.2834 - val_accuracy: 0.9208\n",
      "Epoch 125/200\n",
      "375/375 [==============================] - 1s 3ms/step - loss: 0.2889 - accuracy: 0.9195 - val_loss: 0.2832 - val_accuracy: 0.9207\n",
      "Epoch 126/200\n",
      "375/375 [==============================] - 1s 3ms/step - loss: 0.2887 - accuracy: 0.9195 - val_loss: 0.2831 - val_accuracy: 0.9207\n",
      "Epoch 127/200\n",
      "375/375 [==============================] - 1s 3ms/step - loss: 0.2884 - accuracy: 0.9197 - val_loss: 0.2830 - val_accuracy: 0.9209\n",
      "Epoch 128/200\n",
      "375/375 [==============================] - 1s 3ms/step - loss: 0.2882 - accuracy: 0.9197 - val_loss: 0.2828 - val_accuracy: 0.9213\n",
      "Epoch 129/200\n",
      "375/375 [==============================] - 1s 3ms/step - loss: 0.2880 - accuracy: 0.9200 - val_loss: 0.2826 - val_accuracy: 0.9213\n",
      "Epoch 130/200\n",
      "375/375 [==============================] - 1s 3ms/step - loss: 0.2878 - accuracy: 0.9199 - val_loss: 0.2825 - val_accuracy: 0.9209\n",
      "Epoch 131/200\n",
      "375/375 [==============================] - 1s 3ms/step - loss: 0.2875 - accuracy: 0.9199 - val_loss: 0.2824 - val_accuracy: 0.9210\n",
      "Epoch 132/200\n",
      "375/375 [==============================] - 1s 3ms/step - loss: 0.2873 - accuracy: 0.9200 - val_loss: 0.2822 - val_accuracy: 0.9212\n",
      "Epoch 133/200\n",
      "375/375 [==============================] - 1s 3ms/step - loss: 0.2871 - accuracy: 0.9202 - val_loss: 0.2821 - val_accuracy: 0.9209\n",
      "Epoch 134/200\n",
      "375/375 [==============================] - 1s 3ms/step - loss: 0.2869 - accuracy: 0.9200 - val_loss: 0.2819 - val_accuracy: 0.9217\n",
      "Epoch 135/200\n",
      "375/375 [==============================] - 1s 3ms/step - loss: 0.2867 - accuracy: 0.9201 - val_loss: 0.2818 - val_accuracy: 0.9216\n",
      "Epoch 136/200\n",
      "375/375 [==============================] - 1s 3ms/step - loss: 0.2865 - accuracy: 0.9202 - val_loss: 0.2817 - val_accuracy: 0.9218\n",
      "Epoch 137/200\n",
      "375/375 [==============================] - 1s 3ms/step - loss: 0.2863 - accuracy: 0.9204 - val_loss: 0.2815 - val_accuracy: 0.9219\n",
      "Epoch 138/200\n",
      "375/375 [==============================] - 1s 3ms/step - loss: 0.2861 - accuracy: 0.9203 - val_loss: 0.2814 - val_accuracy: 0.9216\n",
      "Epoch 139/200\n",
      "375/375 [==============================] - 1s 3ms/step - loss: 0.2859 - accuracy: 0.9202 - val_loss: 0.2813 - val_accuracy: 0.9217\n",
      "Epoch 140/200\n",
      "375/375 [==============================] - 1s 3ms/step - loss: 0.2857 - accuracy: 0.9202 - val_loss: 0.2812 - val_accuracy: 0.9218\n",
      "Epoch 141/200\n",
      "375/375 [==============================] - 1s 3ms/step - loss: 0.2855 - accuracy: 0.9206 - val_loss: 0.2810 - val_accuracy: 0.9220\n",
      "Epoch 142/200\n",
      "375/375 [==============================] - 1s 3ms/step - loss: 0.2853 - accuracy: 0.9205 - val_loss: 0.2808 - val_accuracy: 0.9218\n",
      "Epoch 143/200\n",
      "375/375 [==============================] - 1s 3ms/step - loss: 0.2851 - accuracy: 0.9206 - val_loss: 0.2807 - val_accuracy: 0.9218\n",
      "Epoch 144/200\n",
      "375/375 [==============================] - 1s 3ms/step - loss: 0.2849 - accuracy: 0.9208 - val_loss: 0.2807 - val_accuracy: 0.9218\n",
      "Epoch 145/200\n",
      "375/375 [==============================] - 1s 3ms/step - loss: 0.2847 - accuracy: 0.9204 - val_loss: 0.2806 - val_accuracy: 0.9218\n",
      "Epoch 146/200\n",
      "375/375 [==============================] - 1s 3ms/step - loss: 0.2845 - accuracy: 0.9206 - val_loss: 0.2804 - val_accuracy: 0.9224\n",
      "Epoch 147/200\n",
      "375/375 [==============================] - 1s 3ms/step - loss: 0.2843 - accuracy: 0.9206 - val_loss: 0.2803 - val_accuracy: 0.9222\n",
      "Epoch 148/200\n",
      "375/375 [==============================] - 1s 3ms/step - loss: 0.2841 - accuracy: 0.9209 - val_loss: 0.2802 - val_accuracy: 0.9216\n",
      "Epoch 149/200\n",
      "375/375 [==============================] - 1s 3ms/step - loss: 0.2839 - accuracy: 0.9207 - val_loss: 0.2802 - val_accuracy: 0.9219\n",
      "Epoch 150/200\n",
      "375/375 [==============================] - 1s 3ms/step - loss: 0.2838 - accuracy: 0.9210 - val_loss: 0.2801 - val_accuracy: 0.9227\n",
      "Epoch 151/200\n",
      "375/375 [==============================] - 1s 3ms/step - loss: 0.2836 - accuracy: 0.9208 - val_loss: 0.2798 - val_accuracy: 0.9218\n",
      "Epoch 152/200\n",
      "375/375 [==============================] - 1s 3ms/step - loss: 0.2834 - accuracy: 0.9210 - val_loss: 0.2797 - val_accuracy: 0.9232\n",
      "Epoch 153/200\n",
      "375/375 [==============================] - 1s 3ms/step - loss: 0.2832 - accuracy: 0.9208 - val_loss: 0.2796 - val_accuracy: 0.9227\n",
      "Epoch 154/200\n",
      "375/375 [==============================] - 1s 3ms/step - loss: 0.2831 - accuracy: 0.9210 - val_loss: 0.2795 - val_accuracy: 0.9225\n",
      "Epoch 155/200\n",
      "375/375 [==============================] - 1s 3ms/step - loss: 0.2829 - accuracy: 0.9212 - val_loss: 0.2794 - val_accuracy: 0.9231\n",
      "Epoch 156/200\n",
      "375/375 [==============================] - 1s 3ms/step - loss: 0.2828 - accuracy: 0.9210 - val_loss: 0.2792 - val_accuracy: 0.9225\n",
      "Epoch 157/200\n",
      "375/375 [==============================] - 1s 3ms/step - loss: 0.2826 - accuracy: 0.9212 - val_loss: 0.2792 - val_accuracy: 0.9222\n",
      "Epoch 158/200\n",
      "375/375 [==============================] - 1s 3ms/step - loss: 0.2824 - accuracy: 0.9211 - val_loss: 0.2790 - val_accuracy: 0.9222\n",
      "Epoch 159/200\n",
      "375/375 [==============================] - 1s 3ms/step - loss: 0.2822 - accuracy: 0.9212 - val_loss: 0.2790 - val_accuracy: 0.9220\n",
      "Epoch 160/200\n",
      "375/375 [==============================] - 1s 3ms/step - loss: 0.2820 - accuracy: 0.9212 - val_loss: 0.2789 - val_accuracy: 0.9223\n",
      "Epoch 161/200\n",
      "375/375 [==============================] - 1s 3ms/step - loss: 0.2819 - accuracy: 0.9212 - val_loss: 0.2788 - val_accuracy: 0.9229\n",
      "Epoch 162/200\n",
      "375/375 [==============================] - 1s 3ms/step - loss: 0.2817 - accuracy: 0.9214 - val_loss: 0.2787 - val_accuracy: 0.9233\n",
      "Epoch 163/200\n",
      "375/375 [==============================] - 1s 3ms/step - loss: 0.2816 - accuracy: 0.9215 - val_loss: 0.2785 - val_accuracy: 0.9228\n",
      "Epoch 164/200\n",
      "375/375 [==============================] - 1s 3ms/step - loss: 0.2814 - accuracy: 0.9215 - val_loss: 0.2785 - val_accuracy: 0.9229\n",
      "Epoch 165/200\n",
      "375/375 [==============================] - 1s 3ms/step - loss: 0.2813 - accuracy: 0.9216 - val_loss: 0.2784 - val_accuracy: 0.9228\n",
      "Epoch 166/200\n",
      "375/375 [==============================] - 1s 3ms/step - loss: 0.2811 - accuracy: 0.9217 - val_loss: 0.2783 - val_accuracy: 0.9229\n",
      "Epoch 167/200\n",
      "375/375 [==============================] - 1s 3ms/step - loss: 0.2809 - accuracy: 0.9214 - val_loss: 0.2782 - val_accuracy: 0.9229\n",
      "Epoch 168/200\n",
      "375/375 [==============================] - 1s 3ms/step - loss: 0.2808 - accuracy: 0.9214 - val_loss: 0.2781 - val_accuracy: 0.9232\n",
      "Epoch 169/200\n",
      "375/375 [==============================] - 1s 3ms/step - loss: 0.2806 - accuracy: 0.9216 - val_loss: 0.2780 - val_accuracy: 0.9232\n",
      "Epoch 170/200\n",
      "375/375 [==============================] - 1s 3ms/step - loss: 0.2805 - accuracy: 0.9217 - val_loss: 0.2778 - val_accuracy: 0.9231\n",
      "Epoch 171/200\n",
      "375/375 [==============================] - 1s 3ms/step - loss: 0.2804 - accuracy: 0.9218 - val_loss: 0.2778 - val_accuracy: 0.9233\n",
      "Epoch 172/200\n",
      "375/375 [==============================] - 1s 3ms/step - loss: 0.2802 - accuracy: 0.9219 - val_loss: 0.2777 - val_accuracy: 0.9231\n",
      "Epoch 173/200\n",
      "375/375 [==============================] - 1s 3ms/step - loss: 0.2800 - accuracy: 0.9218 - val_loss: 0.2776 - val_accuracy: 0.9233\n",
      "Epoch 174/200\n",
      "375/375 [==============================] - 1s 3ms/step - loss: 0.2799 - accuracy: 0.9220 - val_loss: 0.2776 - val_accuracy: 0.9233\n",
      "Epoch 175/200\n",
      "375/375 [==============================] - 1s 3ms/step - loss: 0.2797 - accuracy: 0.9218 - val_loss: 0.2774 - val_accuracy: 0.9235\n",
      "Epoch 176/200\n",
      "375/375 [==============================] - 1s 3ms/step - loss: 0.2796 - accuracy: 0.9222 - val_loss: 0.2774 - val_accuracy: 0.9234\n",
      "Epoch 177/200\n",
      "375/375 [==============================] - 1s 3ms/step - loss: 0.2794 - accuracy: 0.9221 - val_loss: 0.2772 - val_accuracy: 0.9232\n",
      "Epoch 178/200\n",
      "375/375 [==============================] - 1s 3ms/step - loss: 0.2793 - accuracy: 0.9222 - val_loss: 0.2772 - val_accuracy: 0.9235\n",
      "Epoch 179/200\n",
      "375/375 [==============================] - 1s 3ms/step - loss: 0.2792 - accuracy: 0.9220 - val_loss: 0.2771 - val_accuracy: 0.9235\n",
      "Epoch 180/200\n",
      "375/375 [==============================] - 1s 3ms/step - loss: 0.2790 - accuracy: 0.9221 - val_loss: 0.2770 - val_accuracy: 0.9233\n",
      "Epoch 181/200\n",
      "375/375 [==============================] - 1s 3ms/step - loss: 0.2789 - accuracy: 0.9221 - val_loss: 0.2769 - val_accuracy: 0.9236\n",
      "Epoch 182/200\n",
      "375/375 [==============================] - 1s 3ms/step - loss: 0.2787 - accuracy: 0.9221 - val_loss: 0.2768 - val_accuracy: 0.9236\n",
      "Epoch 183/200\n",
      "375/375 [==============================] - 1s 3ms/step - loss: 0.2786 - accuracy: 0.9222 - val_loss: 0.2767 - val_accuracy: 0.9235\n",
      "Epoch 184/200\n",
      "375/375 [==============================] - 1s 3ms/step - loss: 0.2785 - accuracy: 0.9222 - val_loss: 0.2767 - val_accuracy: 0.9234\n",
      "Epoch 185/200\n",
      "375/375 [==============================] - 1s 3ms/step - loss: 0.2783 - accuracy: 0.9223 - val_loss: 0.2766 - val_accuracy: 0.9237\n",
      "Epoch 186/200\n",
      "375/375 [==============================] - 1s 3ms/step - loss: 0.2782 - accuracy: 0.9224 - val_loss: 0.2765 - val_accuracy: 0.9233\n",
      "Epoch 187/200\n",
      "375/375 [==============================] - 1s 3ms/step - loss: 0.2780 - accuracy: 0.9224 - val_loss: 0.2765 - val_accuracy: 0.9231\n",
      "Epoch 188/200\n",
      "375/375 [==============================] - 1s 3ms/step - loss: 0.2779 - accuracy: 0.9224 - val_loss: 0.2764 - val_accuracy: 0.9237\n",
      "Epoch 189/200\n",
      "375/375 [==============================] - 1s 3ms/step - loss: 0.2778 - accuracy: 0.9224 - val_loss: 0.2763 - val_accuracy: 0.9239\n",
      "Epoch 190/200\n",
      "375/375 [==============================] - 1s 3ms/step - loss: 0.2777 - accuracy: 0.9227 - val_loss: 0.2761 - val_accuracy: 0.9237\n",
      "Epoch 191/200\n",
      "375/375 [==============================] - 1s 3ms/step - loss: 0.2775 - accuracy: 0.9225 - val_loss: 0.2761 - val_accuracy: 0.9233\n",
      "Epoch 192/200\n",
      "375/375 [==============================] - 1s 3ms/step - loss: 0.2774 - accuracy: 0.9225 - val_loss: 0.2760 - val_accuracy: 0.9237\n",
      "Epoch 193/200\n",
      "375/375 [==============================] - 1s 3ms/step - loss: 0.2773 - accuracy: 0.9226 - val_loss: 0.2760 - val_accuracy: 0.9236\n",
      "Epoch 194/200\n",
      "375/375 [==============================] - 1s 3ms/step - loss: 0.2772 - accuracy: 0.9226 - val_loss: 0.2759 - val_accuracy: 0.9237\n",
      "Epoch 195/200\n",
      "375/375 [==============================] - 1s 3ms/step - loss: 0.2770 - accuracy: 0.9225 - val_loss: 0.2757 - val_accuracy: 0.9238\n",
      "Epoch 196/200\n",
      "375/375 [==============================] - 1s 3ms/step - loss: 0.2769 - accuracy: 0.9225 - val_loss: 0.2757 - val_accuracy: 0.9237\n",
      "Epoch 197/200\n",
      "375/375 [==============================] - 1s 3ms/step - loss: 0.2768 - accuracy: 0.9227 - val_loss: 0.2756 - val_accuracy: 0.9237\n",
      "Epoch 198/200\n",
      "375/375 [==============================] - 1s 3ms/step - loss: 0.2767 - accuracy: 0.9228 - val_loss: 0.2756 - val_accuracy: 0.9238\n",
      "Epoch 199/200\n",
      "375/375 [==============================] - 1s 3ms/step - loss: 0.2765 - accuracy: 0.9227 - val_loss: 0.2756 - val_accuracy: 0.9242\n",
      "Epoch 200/200\n",
      "375/375 [==============================] - 1s 3ms/step - loss: 0.2764 - accuracy: 0.9228 - val_loss: 0.2755 - val_accuracy: 0.9240\n"
     ]
    },
    {
     "data": {
      "text/plain": [
       "<keras.callbacks.History at 0x2995e3509b0>"
      ]
     },
     "execution_count": 11,
     "metadata": {},
     "output_type": "execute_result"
    }
   ],
   "execution_count": 11
  },
  {
   "metadata": {
    "ExecuteTime": {
     "end_time": "2024-06-02T07:59:25.179493Z",
     "start_time": "2024-06-02T07:59:24.134292Z"
    }
   },
   "cell_type": "code",
   "source": [
    "# 模型评估\n",
    "test_loss, test_acc = model.evaluate(X_test, Y_test)\n",
    "print('Test accuracy:', test_acc)"
   ],
   "id": "7e25c31f6517ea18",
   "outputs": [
    {
     "name": "stdout",
     "output_type": "stream",
     "text": [
      "313/313 [==============================] - 1s 3ms/step - loss: 0.2779 - accuracy: 0.9212\n",
      "Test accuracy: 0.9211999773979187\n"
     ]
    }
   ],
   "execution_count": 12
  },
  {
   "metadata": {
    "ExecuteTime": {
     "end_time": "2024-06-02T07:59:59.872408Z",
     "start_time": "2024-06-02T07:59:59.693980Z"
    }
   },
   "cell_type": "code",
   "source": [
    "# 模型保存\n",
    "model.save('mnist_model.h5')"
   ],
   "id": "6d4d0ecb9652229f",
   "outputs": [],
   "execution_count": 13
  },
  {
   "metadata": {
    "ExecuteTime": {
     "end_time": "2024-06-02T08:08:11.670092Z",
     "start_time": "2024-06-02T08:08:11.631197Z"
    }
   },
   "cell_type": "code",
   "source": [
    "# 模型优化\n",
    "EPOCHS = 50\n",
    "model_opt = keras.models.Sequential()\n",
    "model_opt.add(keras.layers.Dense(N_HIDDEN, \n",
    "                                 input_shape=(RESHAPED,),\n",
    "                                 name='dense_layer', \n",
    "                                 activation='relu'))\n",
    "model_opt.add(keras.layers.Dense(N_HIDDEN,\n",
    "                                 name='dense_layer_2', \n",
    "                                 activation='relu'))\n",
    "model_opt.add(keras.layers.Dense(NB_CLASSES,\n",
    "                                 name='dense_layer_3', \n",
    "                                 activation='softmax'))\n",
    "model_opt.summary()  # 模型摘要"
   ],
   "id": "648c77424535f9cb",
   "outputs": [
    {
     "name": "stdout",
     "output_type": "stream",
     "text": [
      "Model: \"sequential_1\"\n",
      "_________________________________________________________________\n",
      "Layer (type)                 Output Shape              Param #   \n",
      "=================================================================\n",
      "dense_layer (Dense)          (None, 128)               100480    \n",
      "_________________________________________________________________\n",
      "dense_layer_2 (Dense)        (None, 128)               16512     \n",
      "_________________________________________________________________\n",
      "dense_layer_3 (Dense)        (None, 10)                1290      \n",
      "=================================================================\n",
      "Total params: 118,282\n",
      "Trainable params: 118,282\n",
      "Non-trainable params: 0\n",
      "_________________________________________________________________\n"
     ]
    }
   ],
   "execution_count": 14
  },
  {
   "metadata": {
    "ExecuteTime": {
     "end_time": "2024-06-02T08:09:15.967598Z",
     "start_time": "2024-06-02T08:09:15.952606Z"
    }
   },
   "cell_type": "code",
   "source": [
    "# 模型编译\n",
    "model_opt.compile(optimizer='SGD', loss='categorical_crossentropy', metrics=['accuracy'])"
   ],
   "id": "1b59457df2db91a2",
   "outputs": [],
   "execution_count": 16
  },
  {
   "metadata": {
    "ExecuteTime": {
     "end_time": "2024-06-02T08:10:16.919798Z",
     "start_time": "2024-06-02T08:09:17.710643Z"
    }
   },
   "cell_type": "code",
   "source": "model_opt.fit(X_train, Y_train, batch_size=BATCH_SIZE, epochs=EPOCHS, verbose=VERBOSE, validation_split=VALIDATION_SPLIT)",
   "id": "746f13f32fe59799",
   "outputs": [
    {
     "name": "stdout",
     "output_type": "stream",
     "text": [
      "Epoch 1/50\n",
      "375/375 [==============================] - 2s 3ms/step - loss: 1.4362 - accuracy: 0.6322 - val_loss: 0.7215 - val_accuracy: 0.8356\n",
      "Epoch 2/50\n",
      "375/375 [==============================] - 1s 3ms/step - loss: 0.5827 - accuracy: 0.8533 - val_loss: 0.4536 - val_accuracy: 0.8830\n",
      "Epoch 3/50\n",
      "375/375 [==============================] - 1s 3ms/step - loss: 0.4364 - accuracy: 0.8821 - val_loss: 0.3765 - val_accuracy: 0.8978\n",
      "Epoch 4/50\n",
      "375/375 [==============================] - 1s 3ms/step - loss: 0.3796 - accuracy: 0.8950 - val_loss: 0.3398 - val_accuracy: 0.9057\n",
      "Epoch 5/50\n",
      "375/375 [==============================] - 1s 3ms/step - loss: 0.3470 - accuracy: 0.9029 - val_loss: 0.3149 - val_accuracy: 0.9107\n",
      "Epoch 6/50\n",
      "375/375 [==============================] - 1s 3ms/step - loss: 0.3247 - accuracy: 0.9089 - val_loss: 0.2997 - val_accuracy: 0.9145\n",
      "Epoch 7/50\n",
      "375/375 [==============================] - 1s 3ms/step - loss: 0.3076 - accuracy: 0.9128 - val_loss: 0.2845 - val_accuracy: 0.9184\n",
      "Epoch 8/50\n",
      "375/375 [==============================] - 1s 3ms/step - loss: 0.2932 - accuracy: 0.9165 - val_loss: 0.2731 - val_accuracy: 0.9222\n",
      "Epoch 9/50\n",
      "375/375 [==============================] - 1s 3ms/step - loss: 0.2811 - accuracy: 0.9196 - val_loss: 0.2631 - val_accuracy: 0.9237\n",
      "Epoch 10/50\n",
      "375/375 [==============================] - 1s 3ms/step - loss: 0.2700 - accuracy: 0.9228 - val_loss: 0.2543 - val_accuracy: 0.9268\n",
      "Epoch 11/50\n",
      "375/375 [==============================] - 1s 3ms/step - loss: 0.2604 - accuracy: 0.9255 - val_loss: 0.2465 - val_accuracy: 0.9284\n",
      "Epoch 12/50\n",
      "375/375 [==============================] - 1s 3ms/step - loss: 0.2509 - accuracy: 0.9280 - val_loss: 0.2390 - val_accuracy: 0.9303\n",
      "Epoch 13/50\n",
      "375/375 [==============================] - 1s 3ms/step - loss: 0.2425 - accuracy: 0.9303 - val_loss: 0.2313 - val_accuracy: 0.9341\n",
      "Epoch 14/50\n",
      "375/375 [==============================] - 1s 3ms/step - loss: 0.2347 - accuracy: 0.9321 - val_loss: 0.2252 - val_accuracy: 0.9354\n",
      "Epoch 15/50\n",
      "375/375 [==============================] - 1s 3ms/step - loss: 0.2273 - accuracy: 0.9355 - val_loss: 0.2189 - val_accuracy: 0.9373\n",
      "Epoch 16/50\n",
      "375/375 [==============================] - 1s 3ms/step - loss: 0.2200 - accuracy: 0.9377 - val_loss: 0.2150 - val_accuracy: 0.9383\n",
      "Epoch 17/50\n",
      "375/375 [==============================] - 1s 3ms/step - loss: 0.2137 - accuracy: 0.9386 - val_loss: 0.2088 - val_accuracy: 0.9404\n",
      "Epoch 18/50\n",
      "375/375 [==============================] - 1s 3ms/step - loss: 0.2075 - accuracy: 0.9405 - val_loss: 0.2038 - val_accuracy: 0.9420\n",
      "Epoch 19/50\n",
      "375/375 [==============================] - 1s 3ms/step - loss: 0.2015 - accuracy: 0.9419 - val_loss: 0.1998 - val_accuracy: 0.9444\n",
      "Epoch 20/50\n",
      "375/375 [==============================] - 1s 3ms/step - loss: 0.1961 - accuracy: 0.9440 - val_loss: 0.1953 - val_accuracy: 0.9457\n",
      "Epoch 21/50\n",
      "375/375 [==============================] - 1s 3ms/step - loss: 0.1908 - accuracy: 0.9456 - val_loss: 0.1917 - val_accuracy: 0.9463\n",
      "Epoch 22/50\n",
      "375/375 [==============================] - 1s 3ms/step - loss: 0.1857 - accuracy: 0.9469 - val_loss: 0.1891 - val_accuracy: 0.9465\n",
      "Epoch 23/50\n",
      "375/375 [==============================] - 1s 3ms/step - loss: 0.1811 - accuracy: 0.9484 - val_loss: 0.1851 - val_accuracy: 0.9484\n",
      "Epoch 24/50\n",
      "375/375 [==============================] - 1s 3ms/step - loss: 0.1768 - accuracy: 0.9493 - val_loss: 0.1814 - val_accuracy: 0.9497\n",
      "Epoch 25/50\n",
      "375/375 [==============================] - 1s 3ms/step - loss: 0.1725 - accuracy: 0.9506 - val_loss: 0.1764 - val_accuracy: 0.9507\n",
      "Epoch 26/50\n",
      "375/375 [==============================] - 1s 3ms/step - loss: 0.1684 - accuracy: 0.9519 - val_loss: 0.1744 - val_accuracy: 0.9499\n",
      "Epoch 27/50\n",
      "375/375 [==============================] - 1s 3ms/step - loss: 0.1645 - accuracy: 0.9529 - val_loss: 0.1708 - val_accuracy: 0.9515\n",
      "Epoch 28/50\n",
      "375/375 [==============================] - 1s 3ms/step - loss: 0.1607 - accuracy: 0.9542 - val_loss: 0.1675 - val_accuracy: 0.9527\n",
      "Epoch 29/50\n",
      "375/375 [==============================] - 1s 3ms/step - loss: 0.1572 - accuracy: 0.9556 - val_loss: 0.1651 - val_accuracy: 0.9531\n",
      "Epoch 30/50\n",
      "375/375 [==============================] - 1s 3ms/step - loss: 0.1537 - accuracy: 0.9559 - val_loss: 0.1620 - val_accuracy: 0.9537\n",
      "Epoch 31/50\n",
      "375/375 [==============================] - 1s 3ms/step - loss: 0.1503 - accuracy: 0.9573 - val_loss: 0.1611 - val_accuracy: 0.9545\n",
      "Epoch 32/50\n",
      "375/375 [==============================] - 1s 3ms/step - loss: 0.1474 - accuracy: 0.9577 - val_loss: 0.1580 - val_accuracy: 0.9554\n",
      "Epoch 33/50\n",
      "375/375 [==============================] - 1s 3ms/step - loss: 0.1444 - accuracy: 0.9589 - val_loss: 0.1564 - val_accuracy: 0.9569\n",
      "Epoch 34/50\n",
      "375/375 [==============================] - 1s 3ms/step - loss: 0.1414 - accuracy: 0.9597 - val_loss: 0.1547 - val_accuracy: 0.9566\n",
      "Epoch 35/50\n",
      "375/375 [==============================] - 1s 3ms/step - loss: 0.1383 - accuracy: 0.9610 - val_loss: 0.1520 - val_accuracy: 0.9570\n",
      "Epoch 36/50\n",
      "375/375 [==============================] - 1s 3ms/step - loss: 0.1356 - accuracy: 0.9615 - val_loss: 0.1512 - val_accuracy: 0.9578\n",
      "Epoch 37/50\n",
      "375/375 [==============================] - 1s 3ms/step - loss: 0.1330 - accuracy: 0.9624 - val_loss: 0.1487 - val_accuracy: 0.9582\n",
      "Epoch 38/50\n",
      "375/375 [==============================] - 1s 3ms/step - loss: 0.1304 - accuracy: 0.9630 - val_loss: 0.1462 - val_accuracy: 0.9592\n",
      "Epoch 39/50\n",
      "375/375 [==============================] - 1s 3ms/step - loss: 0.1278 - accuracy: 0.9640 - val_loss: 0.1452 - val_accuracy: 0.9585\n",
      "Epoch 40/50\n",
      "375/375 [==============================] - 1s 3ms/step - loss: 0.1255 - accuracy: 0.9647 - val_loss: 0.1430 - val_accuracy: 0.9602\n",
      "Epoch 41/50\n",
      "375/375 [==============================] - 1s 3ms/step - loss: 0.1234 - accuracy: 0.9650 - val_loss: 0.1407 - val_accuracy: 0.9607\n",
      "Epoch 42/50\n",
      "375/375 [==============================] - 1s 3ms/step - loss: 0.1211 - accuracy: 0.9657 - val_loss: 0.1405 - val_accuracy: 0.9604\n",
      "Epoch 43/50\n",
      "375/375 [==============================] - 1s 3ms/step - loss: 0.1188 - accuracy: 0.9663 - val_loss: 0.1382 - val_accuracy: 0.9615\n",
      "Epoch 44/50\n",
      "375/375 [==============================] - 1s 3ms/step - loss: 0.1167 - accuracy: 0.9665 - val_loss: 0.1363 - val_accuracy: 0.9611\n",
      "Epoch 45/50\n",
      "375/375 [==============================] - 1s 3ms/step - loss: 0.1147 - accuracy: 0.9673 - val_loss: 0.1366 - val_accuracy: 0.9620\n",
      "Epoch 46/50\n",
      "375/375 [==============================] - 1s 3ms/step - loss: 0.1125 - accuracy: 0.9682 - val_loss: 0.1345 - val_accuracy: 0.9622\n",
      "Epoch 47/50\n",
      "375/375 [==============================] - 1s 3ms/step - loss: 0.1107 - accuracy: 0.9687 - val_loss: 0.1331 - val_accuracy: 0.9622\n",
      "Epoch 48/50\n",
      "375/375 [==============================] - 1s 3ms/step - loss: 0.1088 - accuracy: 0.9693 - val_loss: 0.1330 - val_accuracy: 0.9628\n",
      "Epoch 49/50\n",
      "375/375 [==============================] - 1s 3ms/step - loss: 0.1069 - accuracy: 0.9703 - val_loss: 0.1305 - val_accuracy: 0.9645\n",
      "Epoch 50/50\n",
      "375/375 [==============================] - 1s 3ms/step - loss: 0.1052 - accuracy: 0.9706 - val_loss: 0.1299 - val_accuracy: 0.9633\n"
     ]
    },
    {
     "data": {
      "text/plain": [
       "<keras.callbacks.History at 0x299fff82898>"
      ]
     },
     "execution_count": 17,
     "metadata": {},
     "output_type": "execute_result"
    }
   ],
   "execution_count": 17
  },
  {
   "metadata": {
    "ExecuteTime": {
     "end_time": "2024-06-02T08:11:46.846485Z",
     "start_time": "2024-06-02T08:11:45.685536Z"
    }
   },
   "cell_type": "code",
   "source": [
    "test_loss, test_acc = model_opt.evaluate(X_test, Y_test)\n",
    "print('Test accuracy:', test_acc)"
   ],
   "id": "9bc03b3476a3a573",
   "outputs": [
    {
     "name": "stdout",
     "output_type": "stream",
     "text": [
      "313/313 [==============================] - 1s 3ms/step - loss: 0.1238 - accuracy: 0.9629\n",
      "Test accuracy: 0.9628999829292297\n"
     ]
    }
   ],
   "execution_count": 18
  },
  {
   "metadata": {},
   "cell_type": "code",
   "outputs": [],
   "execution_count": null,
   "source": " ",
   "id": "912c5ee953b2c386"
  }
 ],
 "metadata": {
  "kernelspec": {
   "display_name": "Python 3",
   "language": "python",
   "name": "python3"
  },
  "language_info": {
   "codemirror_mode": {
    "name": "ipython",
    "version": 2
   },
   "file_extension": ".py",
   "mimetype": "text/x-python",
   "name": "python",
   "nbconvert_exporter": "python",
   "pygments_lexer": "ipython2",
   "version": "2.7.6"
  }
 },
 "nbformat": 4,
 "nbformat_minor": 5
}
