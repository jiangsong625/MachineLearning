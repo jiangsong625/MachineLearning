{
 "cells": [
  {
   "cell_type": "code",
   "id": "initial_id",
   "metadata": {
    "collapsed": true
   },
   "source": [
    "import numpy as np\n",
    "import matplotlib.pyplot as plt\n",
    "import scipy.io as sio\n",
    "import matplotlib\n",
    "import tensorflow as tf\n",
    "import scipy.optimize as opt\n",
    "from sklearn.metrics import classification_report"
   ],
   "outputs": [],
   "execution_count": null
  },
  {
   "metadata": {},
   "cell_type": "code",
   "source": [
    "def load_data(path, transpose=True):\n",
    "    data = sio.loadmat(path)\n",
    "    y = data.get('y')\n",
    "    y = y.reshape(y.shape[0],)\n",
    "    X = data.get('X')\n",
    "    if transpose:\n",
    "        X = np.array([im.reshape(20, 20).T for im in X])\n",
    "        X = np.array([im.reshape(400) for im in X])\n",
    "\n",
    "    return X, y"
   ],
   "id": "8fcdda92e8f755a1",
   "outputs": [],
   "execution_count": null
  },
  {
   "metadata": {},
   "cell_type": "code",
   "source": [
    "X , y = load_data('..\\\\DataFile\\\\ex3data1.mat')\n",
    "print(X.shape)\n",
    "print(y.shape)"
   ],
   "id": "2200c7ee84234e0e",
   "outputs": [],
   "execution_count": null
  },
  {
   "metadata": {},
   "cell_type": "code",
   "source": [
    "def plot_an_image(image):\n",
    "    fig, ax = plt.subplots(figsize=(1, 1))\n",
    "    ax.matshow(image.reshape((20, 20)), cmap=matplotlib.cm.binary)\n",
    "    plt.xticks(np.array([]))\n",
    "    plt.yticks(np.array([]))\n",
    "    plt.show()"
   ],
   "id": "f94b04f9bc92551f",
   "outputs": [],
   "execution_count": null
  },
  {
   "metadata": {},
   "cell_type": "code",
   "source": [
    "pick_one = np.random.randint(0, X.shape[0])\n",
    "plot_an_image(X[pick_one, :])\n",
    "print('this should be '.format(y[pick_one]))"
   ],
   "id": "d490f625558395e1",
   "outputs": [],
   "execution_count": null
  },
  {
   "metadata": {},
   "cell_type": "code",
   "source": [
    "def plot_100_image(X):\n",
    "    size = int(np.sqrt(X.shape[1]))\n",
    "    sample_idx = np.random.choice(np.arange(X.shape[0]), 100)\n",
    "    sample_images = X[sample_idx, :]\n",
    "    \n",
    "    fig ,ax = plt.subplots(10, 10,sharex=True, sharey=True, figsize=(8, 8))\n",
    "    \n",
    "    for r in range(10):\n",
    "        for c in range(10):\n",
    "            ax[r, c].matshow(sample_images[10 * r + c].reshape((size, size)), cmap=matplotlib.cm.binary)\n",
    "            plt.xticks(np.array([]))\n",
    "            plt.yticks(np.array([]))\n",
    "            \n",
    "    plt.show()"
   ],
   "id": "6a685f05c9abad37",
   "outputs": [],
   "execution_count": null
  },
  {
   "metadata": {},
   "cell_type": "code",
   "source": "plot_100_image(X)",
   "id": "d9b22f17a7dca78d",
   "outputs": [],
   "execution_count": null
  },
  {
   "metadata": {},
   "cell_type": "code",
   "source": [
    "X = np.insert(X, 0, values=np.ones(X.shape[0]), axis=1)\n",
    "X.shape"
   ],
   "id": "536ca9e1c8d00a43",
   "outputs": [],
   "execution_count": null
  },
  {
   "metadata": {},
   "cell_type": "code",
   "source": "",
   "id": "de65ecaec1521064",
   "outputs": [],
   "execution_count": null
  }
 ],
 "metadata": {
  "kernelspec": {
   "display_name": "Python 3",
   "language": "python",
   "name": "python3"
  },
  "language_info": {
   "codemirror_mode": {
    "name": "ipython",
    "version": 2
   },
   "file_extension": ".py",
   "mimetype": "text/x-python",
   "name": "python",
   "nbconvert_exporter": "python",
   "pygments_lexer": "ipython2",
   "version": "2.7.6"
  }
 },
 "nbformat": 4,
 "nbformat_minor": 5
}
