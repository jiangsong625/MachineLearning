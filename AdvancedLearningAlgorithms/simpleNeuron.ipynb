{
 "cells": [
  {
   "metadata": {},
   "cell_type": "markdown",
   "source": [
    "# 导入所需要的包\n",
    "keras包"
   ],
   "id": "8403e2bfa193abb5"
  },
  {
   "cell_type": "code",
   "id": "initial_id",
   "metadata": {
    "collapsed": true,
    "ExecuteTime": {
     "end_time": "2024-05-10T09:31:19.354605Z",
     "start_time": "2024-05-10T09:31:06.902377Z"
    }
   },
   "source": [
    "import numpy as np\n",
    "import matplotlib.pyplot as plt\n",
    "import tensorflow as tf\n",
    "from tensorflow.keras.layers import Dense, Input\n",
    "from tensorflow.keras import Sequential\n",
    "from tensorflow.keras.losses import MeanSquaredError, BinaryCrossentropy\n",
    "from tensorflow.keras.activations import sigmoid\n",
    "import logging\n",
    "\n",
    "logging.getLogger(\"tensorflow\").setLevel(logging.ERROR)  # 暂时取消警告"
   ],
   "outputs": [],
   "execution_count": 1
  },
  {
   "metadata": {},
   "cell_type": "markdown",
   "source": "添加训练样本",
   "id": "cf69c530613f6ef3"
  },
  {
   "metadata": {
    "ExecuteTime": {
     "end_time": "2024-05-10T09:31:23.765918Z",
     "start_time": "2024-05-10T09:31:23.760888Z"
    }
   },
   "cell_type": "code",
   "source": [
    "X_train = np.array([[1.], [2.]], dtype=np.float32)\n",
    "Y_train = np.array([[300.], [500.]], dtype=np.float32)"
   ],
   "id": "93a525922b552446",
   "outputs": [],
   "execution_count": 2
  },
  {
   "metadata": {},
   "cell_type": "markdown",
   "source": [
    "定义一个具有一个神经元或单元的层\n",
    "采用线性回归模型\n",
    "$$\n",
    "f_{\\mathbf{w},b}(\\mathbf{x}) = \\mathbf{w}\\cdot \\mathbf{x} + b\n",
    "$$"
   ],
   "id": "dbdc442b66c000da"
  },
  {
   "metadata": {
    "ExecuteTime": {
     "end_time": "2024-05-10T09:31:26.407600Z",
     "start_time": "2024-05-10T09:31:26.395632Z"
    }
   },
   "cell_type": "code",
   "source": "linear_model = tf.keras.layers.Dense(units=1, activation='linear')",
   "id": "894b3e28e428417e",
   "outputs": [],
   "execution_count": 3
  },
  {
   "metadata": {},
   "cell_type": "markdown",
   "source": "输出此处的权重，当然是没有的，因为还没有训练",
   "id": "6cf6b856035772bf"
  },
  {
   "metadata": {
    "ExecuteTime": {
     "end_time": "2024-05-10T09:31:40.600912Z",
     "start_time": "2024-05-10T09:31:40.593899Z"
    }
   },
   "cell_type": "code",
   "source": "print(linear_model.get_weights())",
   "id": "a0619c31f1ee5283",
   "outputs": [
    {
     "name": "stdout",
     "output_type": "stream",
     "text": [
      "[]\n"
     ]
    }
   ],
   "execution_count": 6
  },
  {
   "metadata": {
    "ExecuteTime": {
     "end_time": "2024-05-10T09:32:03.374580Z",
     "start_time": "2024-05-10T09:31:52.185467Z"
    }
   },
   "cell_type": "code",
   "source": [
    "a1 = linear_model(X_train[0].reshape(1,1))\n",
    "print(a1)"
   ],
   "id": "91944aa5d6528d7e",
   "outputs": [
    {
     "name": "stdout",
     "output_type": "stream",
     "text": [
      "tf.Tensor([[0.3991362]], shape=(1, 1), dtype=float32)\n"
     ]
    }
   ],
   "execution_count": 8
  },
  {
   "metadata": {},
   "cell_type": "markdown",
   "source": "权重被初始化为随机小数，偏差默认初始化为零",
   "id": "d4b0f3dc80f2f37d"
  },
  {
   "metadata": {
    "ExecuteTime": {
     "end_time": "2024-05-10T09:32:06.079064Z",
     "start_time": "2024-05-10T09:32:06.060082Z"
    }
   },
   "cell_type": "code",
   "source": [
    "w, b = linear_model.get_weights()\n",
    "print(f\"w = {w}, b = {b}\")"
   ],
   "id": "ca70356605dca8a",
   "outputs": [
    {
     "name": "stdout",
     "output_type": "stream",
     "text": [
      "w = [[0.3991362]], b = [0.]\n"
     ]
    }
   ],
   "execution_count": 9
  },
  {
   "metadata": {},
   "cell_type": "markdown",
   "source": "将权重设置为已知值",
   "id": "892367d2aa7fcfa8"
  },
  {
   "metadata": {
    "ExecuteTime": {
     "end_time": "2024-05-10T09:32:10.271986Z",
     "start_time": "2024-05-10T09:32:10.258950Z"
    }
   },
   "cell_type": "code",
   "source": [
    "set_w = np.array([[200.]])\n",
    "set_b = np.array([100.])\n",
    "linear_model.set_weights([set_w, set_b])\n",
    "print(linear_model.get_weights())"
   ],
   "id": "1dbc42b64a437981",
   "outputs": [
    {
     "name": "stdout",
     "output_type": "stream",
     "text": [
      "[array([[200.]], dtype=float32), array([100.], dtype=float32)]\n"
     ]
    }
   ],
   "execution_count": 10
  },
  {
   "metadata": {
    "ExecuteTime": {
     "end_time": "2024-05-10T09:33:29.957858Z",
     "start_time": "2024-05-10T09:33:29.936693Z"
    }
   },
   "cell_type": "code",
   "source": [
    "a1 = linear_model(X_train[0].reshape(1,1))\n",
    "print(a1)\n",
    "alin = np.dot(set_w, X_train[0].reshape(1,1)) + set_b\n",
    "print(alin)"
   ],
   "id": "f7e14d13c6c9d3f1",
   "outputs": [
    {
     "name": "stdout",
     "output_type": "stream",
     "text": [
      "tf.Tensor([[300.]], shape=(1, 1), dtype=float32)\n",
      "[[300.]]\n"
     ]
    }
   ],
   "execution_count": 13
  },
  {
   "metadata": {},
   "cell_type": "markdown",
   "source": "产生了相同的结果，现在训练模型",
   "id": "28483592428e041f"
  },
  {
   "metadata": {
    "ExecuteTime": {
     "end_time": "2024-05-10T09:34:31.325716Z",
     "start_time": "2024-05-10T09:34:31.238483Z"
    }
   },
   "cell_type": "code",
   "source": [
    "prediction_tf = linear_model(X_train)\n",
    "prediction_np =  np.dot(X_train, set_w) + set_b"
   ],
   "id": "80d8deeef8c89d5f",
   "outputs": [],
   "execution_count": 14
  },
  {
   "metadata": {
    "ExecuteTime": {
     "end_time": "2024-05-10T09:35:18.908775Z",
     "start_time": "2024-05-10T09:35:18.902611Z"
    }
   },
   "cell_type": "code",
   "source": "prediction_np, prediction_tf",
   "id": "3c95617f0e682dec",
   "outputs": [
    {
     "data": {
      "text/plain": [
       "(array([[300.],\n",
       "        [500.]]),\n",
       " <tf.Tensor: shape=(2, 1), dtype=float32, numpy=\n",
       " array([[300.],\n",
       "        [500.]], dtype=float32)>)"
      ]
     },
     "execution_count": 16,
     "metadata": {},
     "output_type": "execute_result"
    }
   ],
   "execution_count": 16
  },
  {
   "metadata": {},
   "cell_type": "markdown",
   "source": "",
   "id": "96044fc6ad18087e"
  }
 ],
 "metadata": {
  "kernelspec": {
   "display_name": "Python 3",
   "language": "python",
   "name": "python3"
  },
  "language_info": {
   "codemirror_mode": {
    "name": "ipython",
    "version": 2
   },
   "file_extension": ".py",
   "mimetype": "text/x-python",
   "name": "python",
   "nbconvert_exporter": "python",
   "pygments_lexer": "ipython2",
   "version": "2.7.6"
  }
 },
 "nbformat": 4,
 "nbformat_minor": 5
}
