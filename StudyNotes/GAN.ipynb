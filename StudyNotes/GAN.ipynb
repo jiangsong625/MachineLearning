{
 "cells": [
  {
   "cell_type": "code",
   "id": "initial_id",
   "metadata": {
    "collapsed": true,
    "ExecuteTime": {
     "end_time": "2024-07-07T09:44:46.955978Z",
     "start_time": "2024-07-07T09:44:46.949640Z"
    }
   },
   "source": [
    "import tensorflow as tf\n",
    "import numpy as np\n",
    "from tensorflow import keras\n",
    "from tensorflow.keras import layers\n",
    "from tensorflow.keras.layers import Dense\n",
    "from tensorflow.keras.datasets import mnist"
   ],
   "outputs": [],
   "execution_count": 3
  },
  {
   "metadata": {},
   "cell_type": "markdown",
   "source": [
    "GAN的关键思想类似于“艺术伪造”，是一个创造赝品的过程。GAN同时训练两个神经网络：\n",
    "1. 鉴别器$D(Y)$：判别输入图像是真实图像还是伪造图像\n",
    "2. 生成器$G(Z)$：用于生成伪造图像\n",
    "\n",
    "模型图：\n",
    "\n",
    "<img src=\"image\\GAN模型.png\" alt=\"GAN\" style=\"width: 500px;\">\n",
    "\n",
    "$D(Y)$获取输入$Y$(例如图像)，用于判断图像是真实图像还是伪造图像。\n",
    "$G(Z)$获取输入$Z$(例如随机噪声)，用于生成伪造图像。"
   ],
   "id": "e10c6470111b8764"
  },
  {
   "metadata": {},
   "cell_type": "markdown",
   "source": [
    "GAN的学习分为两个步骤：\n",
    "1. 鉴别器学习\n",
    "2. 生成器"
   ],
   "id": "fda85212908df908"
  },
  {
   "metadata": {},
   "cell_type": "code",
   "outputs": [],
   "execution_count": null,
   "source": [
    "(X_train, _), (_, _) =mnist.load_data()\n",
    "X_train = (X_train.astype(np.float32) - 127.5 ) / 127.5"
   ],
   "id": "b841e9fcdadee79d"
  }
 ],
 "metadata": {
  "kernelspec": {
   "display_name": "Python 3",
   "language": "python",
   "name": "python3"
  },
  "language_info": {
   "codemirror_mode": {
    "name": "ipython",
    "version": 2
   },
   "file_extension": ".py",
   "mimetype": "text/x-python",
   "name": "python",
   "nbconvert_exporter": "python",
   "pygments_lexer": "ipython2",
   "version": "2.7.6"
  }
 },
 "nbformat": 4,
 "nbformat_minor": 5
}
