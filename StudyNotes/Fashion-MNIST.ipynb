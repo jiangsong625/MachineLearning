{
 "cells": [
  {
   "metadata": {},
   "cell_type": "markdown",
   "source": "Estimator是Tensorflow中可用的一个高级API，可以快速搭建模型，训练模型，评估模型，预测模型，保存模型，加载模型。",
   "id": "f4f012a32fa2d96e"
  },
  {
   "cell_type": "code",
   "id": "initial_id",
   "metadata": {
    "collapsed": true,
    "ExecuteTime": {
     "end_time": "2024-06-23T11:41:00.199206Z",
     "start_time": "2024-06-23T11:40:47.465485Z"
    }
   },
   "source": [
    "import os\n",
    "import time\n",
    "import numpy as np\n",
    "import tensorflow as tf"
   ],
   "outputs": [],
   "execution_count": 1
  },
  {
   "metadata": {
    "ExecuteTime": {
     "end_time": "2024-06-23T11:11:21.370102Z",
     "start_time": "2024-06-23T11:11:20.432024Z"
    }
   },
   "cell_type": "code",
   "source": [
    "# 打印GPU信息\n",
    "tf.test.gpu_device_name()"
   ],
   "id": "6b31f120aa941c0d",
   "outputs": [
    {
     "data": {
      "text/plain": [
       "'/device:GPU:0'"
      ]
     },
     "execution_count": 2,
     "metadata": {},
     "output_type": "execute_result"
    }
   ],
   "execution_count": 2
  },
  {
   "metadata": {
    "ExecuteTime": {
     "end_time": "2024-06-22T09:13:39.991418Z",
     "start_time": "2024-06-22T09:13:39.977424Z"
    }
   },
   "cell_type": "code",
   "source": [
    "# 打印tensorflow-gpu版本\n",
    "tf.__version__"
   ],
   "id": "6d7763247370073f",
   "outputs": [
    {
     "data": {
      "text/plain": [
       "'2.10.0'"
      ]
     },
     "execution_count": 3,
     "metadata": {},
     "output_type": "execute_result"
    }
   ],
   "execution_count": 3
  },
  {
   "metadata": {
    "ExecuteTime": {
     "end_time": "2024-06-23T11:11:26.112471Z",
     "start_time": "2024-06-23T11:11:26.098640Z"
    }
   },
   "cell_type": "code",
   "source": [
    "gpus = tf.config.experimental.list_physical_devices(device_type='GPU')\n",
    "cpus = tf.config.experimental.list_physical_devices(device_type='CPU')\n",
    "print(gpus, cpus)"
   ],
   "id": "a6ad03e9a7c9f2c3",
   "outputs": [
    {
     "name": "stdout",
     "output_type": "stream",
     "text": [
      "[PhysicalDevice(name='/physical_device:GPU:0', device_type='GPU')] [PhysicalDevice(name='/physical_device:CPU:0', device_type='CPU')]\n"
     ]
    }
   ],
   "execution_count": 3
  },
  {
   "metadata": {
    "ExecuteTime": {
     "end_time": "2024-06-22T10:00:40.102028Z",
     "start_time": "2024-06-22T10:00:40.088039Z"
    }
   },
   "cell_type": "code",
   "source": [
    "print(tf.__version__)\n",
    "print(tf.config.experimental.list_physical_devices('GPU'))"
   ],
   "id": "ed07562b8dd5688c",
   "outputs": [
    {
     "name": "stdout",
     "output_type": "stream",
     "text": [
      "2.10.0\n",
      "[PhysicalDevice(name='/physical_device:GPU:0', device_type='GPU')]\n"
     ]
    }
   ],
   "execution_count": 4
  },
  {
   "metadata": {
    "ExecuteTime": {
     "end_time": "2024-06-23T11:45:44.858388Z",
     "start_time": "2024-06-23T11:45:44.308772Z"
    }
   },
   "cell_type": "code",
   "source": [
    "LABEL_DIMENSIONS = 10\n",
    "# 训练数据集\n",
    "(train_images, train_labels), (test_images, test_labels) = tf.keras.datasets.fashion_mnist.load_data()\n",
    "TRAINING_SIZE = len(train_images)\n",
    "TEST_SIZE = len(test_images)\n",
    "\n",
    "train_images = np.asarray(train_images, dtype=np.float32) / 255.0  # 训练数据集\n",
    "train_images = train_images.reshape([TRAINING_SIZE, 28, 28, 1])\n",
    "\n",
    "test_images = np.asarray(test_images, dtype=np.float32) / 255.0  # 测试数据集\n",
    "test_images = test_images.reshape([TEST_SIZE, 28, 28, 1])\n",
    "\n",
    "train_labels = tf.keras.utils.to_categorical(train_labels, LABEL_DIMENSIONS)\n",
    "test_labels = tf.keras.utils.to_categorical(test_labels, LABEL_DIMENSIONS)\n",
    "\n",
    "# 将标签转换为float32\n",
    "train_labels = train_labels.astype(np.float32)\n",
    "test_labels = test_labels.astype(np.float32)\n",
    "print(train_images.shape, train_labels.shape, test_images.shape, test_labels.shape)"
   ],
   "id": "2eb1b5aeab0dacb",
   "outputs": [
    {
     "name": "stdout",
     "output_type": "stream",
     "text": [
      "(60000, 28, 28, 1) (60000, 10) (10000, 28, 28, 1) (10000, 10)\n"
     ]
    }
   ],
   "execution_count": 4
  },
  {
   "metadata": {},
   "cell_type": "markdown",
   "source": "使用tf.Keras functional API构建卷积模型",
   "id": "77099d43d4245f28"
  },
  {
   "metadata": {
    "ExecuteTime": {
     "end_time": "2024-06-23T11:45:50.779829Z",
     "start_time": "2024-06-23T11:45:50.682331Z"
    }
   },
   "cell_type": "code",
   "source": [
    "inputs = tf.keras.Input(shape=(28, 28, 1))\n",
    "x = tf.keras.layers.Conv2D(filters=32, kernel_size=(3, 3), activation='relu')(inputs)\n",
    "x = tf.keras.layers.MaxPooling2D(pool_size=(2, 2))(x)\n",
    "x = tf.keras.layers.Conv2D(filters=64, kernel_size=(3, 3), activation='relu')(x)\n",
    "x = tf.keras.layers.MaxPooling2D(pool_size=(2, 2))(x)\n",
    "x = tf.keras.layers.Flatten()(x)\n",
    "x = tf.keras.layers.Dense(units=128, activation='relu')(x)\n",
    "predictions = tf.keras.layers.Dense(units=LABEL_DIMENSIONS, activation='softmax')(x)\n",
    "model = tf.keras.Model(inputs=inputs, outputs=predictions)\n",
    "model.summary()"
   ],
   "id": "69633e37513aa238",
   "outputs": [
    {
     "name": "stdout",
     "output_type": "stream",
     "text": [
      "Model: \"model\"\n",
      "_________________________________________________________________\n",
      " Layer (type)                Output Shape              Param #   \n",
      "=================================================================\n",
      " input_2 (InputLayer)        [(None, 28, 28, 1)]       0         \n",
      "                                                                 \n",
      " conv2d_2 (Conv2D)           (None, 26, 26, 32)        320       \n",
      "                                                                 \n",
      " max_pooling2d_2 (MaxPooling  (None, 13, 13, 32)       0         \n",
      " 2D)                                                             \n",
      "                                                                 \n",
      " conv2d_3 (Conv2D)           (None, 11, 11, 64)        18496     \n",
      "                                                                 \n",
      " max_pooling2d_3 (MaxPooling  (None, 5, 5, 64)         0         \n",
      " 2D)                                                             \n",
      "                                                                 \n",
      " flatten_1 (Flatten)         (None, 1600)              0         \n",
      "                                                                 \n",
      " dense_1 (Dense)             (None, 128)               204928    \n",
      "                                                                 \n",
      " dense_2 (Dense)             (None, 10)                1290      \n",
      "                                                                 \n",
      "=================================================================\n",
      "Total params: 225,034\n",
      "Trainable params: 225,034\n",
      "Non-trainable params: 0\n",
      "_________________________________________________________________\n"
     ]
    }
   ],
   "execution_count": 5
  },
  {
   "metadata": {},
   "cell_type": "markdown",
   "source": "编译模型",
   "id": "173d95bda035dba2"
  },
  {
   "metadata": {
    "ExecuteTime": {
     "end_time": "2024-06-23T11:46:54.064023Z",
     "start_time": "2024-06-23T11:46:54.046561Z"
    }
   },
   "cell_type": "code",
   "source": [
    "optimizer = tf.keras.optimizers.SGD(learning_rate=0.01)\n",
    "model.compile(optimizer=optimizer, loss='categorical_crossentropy', metrics=['accuracy'])"
   ],
   "id": "92f782dcc869a527",
   "outputs": [],
   "execution_count": 6
  },
  {
   "metadata": {},
   "cell_type": "markdown",
   "source": "定义一个策略，目的是在GPU上训练模型，将tf.keras.estimator.model_to_estimator()函数传入模型和配置信息",
   "id": "fa8ba4dea574235d"
  },
  {
   "metadata": {
    "ExecuteTime": {
     "end_time": "2024-06-23T11:49:27.486744Z",
     "start_time": "2024-06-23T11:49:25.910979Z"
    }
   },
   "cell_type": "code",
   "source": [
    "strategy = tf.distribute.MirroredStrategy()\n",
    "config = tf.estimator.RunConfig(train_distribute=strategy)\n",
    "estimator = tf.keras.estimator.model_to_estimator(keras_model=model, config=config)"
   ],
   "id": "20600664a14c61de",
   "outputs": [
    {
     "name": "stdout",
     "output_type": "stream",
     "text": [
      "INFO:tensorflow:Using MirroredStrategy with devices ('/job:localhost/replica:0/task:0/device:GPU:0',)\n",
      "INFO:tensorflow:Initializing RunConfig with distribution strategies.\n",
      "INFO:tensorflow:Not using Distribute Coordinator.\n",
      "WARNING:tensorflow:Using temporary folder as model directory: C:\\Users\\23668\\AppData\\Local\\Temp\\tmp9rowxr56\n",
      "INFO:tensorflow:Using the Keras model provided.\n"
     ]
    },
    {
     "name": "stderr",
     "output_type": "stream",
     "text": [
      "D:\\environment\\anaconda3\\envs\\tensorflow\\lib\\site-packages\\keras\\backend.py:452: UserWarning: `tf.keras.backend.set_learning_phase` is deprecated and will be removed after 2020-10-11. To update it, simply pass a True/False value to the `training` argument of the `__call__` method of your layer or model.\n",
      "  \"`tf.keras.backend.set_learning_phase` is deprecated and \"\n"
     ]
    },
    {
     "name": "stdout",
     "output_type": "stream",
     "text": [
      "INFO:tensorflow:Using config: {'_model_dir': 'C:\\\\Users\\\\23668\\\\AppData\\\\Local\\\\Temp\\\\tmp9rowxr56', '_tf_random_seed': None, '_save_summary_steps': 100, '_save_checkpoints_steps': None, '_save_checkpoints_secs': 600, '_session_config': allow_soft_placement: true\n",
      "graph_options {\n",
      "  rewrite_options {\n",
      "    meta_optimizer_iterations: ONE\n",
      "  }\n",
      "}\n",
      ", '_keep_checkpoint_max': 5, '_keep_checkpoint_every_n_hours': 10000, '_log_step_count_steps': 100, '_train_distribute': <tensorflow.python.distribute.mirrored_strategy.MirroredStrategy object at 0x00000220A5C43DA0>, '_device_fn': None, '_protocol': None, '_eval_distribute': None, '_experimental_distribute': None, '_experimental_max_worker_delay_secs': None, '_session_creation_timeout_secs': 7200, '_checkpoint_save_graph_def': True, '_service': None, '_cluster_spec': ClusterSpec({}), '_task_type': 'worker', '_task_id': 0, '_global_id_in_cluster': 0, '_master': '', '_evaluation_master': '', '_is_chief': True, '_num_ps_replicas': 0, '_num_worker_replicas': 1, '_distribute_coordinator_mode': None}\n"
     ]
    }
   ],
   "execution_count": 7
  },
  {
   "metadata": {},
   "cell_type": "markdown",
   "source": "使用tf.data定义用于训练和测试的输入函数",
   "id": "5ac69f7158a99aff"
  },
  {
   "metadata": {
    "ExecuteTime": {
     "end_time": "2024-06-23T12:00:02.519931Z",
     "start_time": "2024-06-23T12:00:02.503684Z"
    }
   },
   "cell_type": "code",
   "source": [
    "def input_fn(images, labels, batch_size, epochs):\n",
    "    dataset = tf.data.Dataset.from_tensor_slices((images, labels))\n",
    "    \n",
    "    SHUFFLE_SIZE = 5000\n",
    "    dataset = dataset.shuffle(buffer_size=SHUFFLE_SIZE).repeat(epochs).batch(batch_size)  # 随机打乱数据集\n",
    "    dataset = dataset.prefetch(None)  # 预取数据集, 提升性能\n",
    "    return dataset"
   ],
   "id": "da365c73417cadc3",
   "outputs": [],
   "execution_count": 13
  },
  {
   "metadata": {
    "ExecuteTime": {
     "end_time": "2024-06-23T12:01:59.651181Z",
     "start_time": "2024-06-23T12:00:03.865572Z"
    }
   },
   "cell_type": "code",
   "source": [
    "# 训练模型\n",
    "BATCH_SIZE = 512\n",
    "EPOCHS = 50\n",
    "estimator_train_result = estimator.train(input_fn=lambda: input_fn(train_images, train_labels,\n",
    "                                         batch_size=BATCH_SIZE,\n",
    "                                         epochs=EPOCHS))\n",
    "print(estimator_train_result)"
   ],
   "id": "d15185d8354d3fac",
   "outputs": [
    {
     "name": "stdout",
     "output_type": "stream",
     "text": [
      "INFO:tensorflow:Calling model_fn.\n",
      "INFO:tensorflow:Reduce to /replica:0/task:0/device:CPU:0 then broadcast to ('/replica:0/task:0/device:CPU:0',).\n",
      "INFO:tensorflow:Reduce to /replica:0/task:0/device:CPU:0 then broadcast to ('/replica:0/task:0/device:CPU:0',).\n",
      "INFO:tensorflow:Reduce to /replica:0/task:0/device:CPU:0 then broadcast to ('/replica:0/task:0/device:CPU:0',).\n",
      "INFO:tensorflow:Reduce to /replica:0/task:0/device:CPU:0 then broadcast to ('/replica:0/task:0/device:CPU:0',).\n",
      "INFO:tensorflow:Reduce to /replica:0/task:0/device:CPU:0 then broadcast to ('/replica:0/task:0/device:CPU:0',).\n",
      "INFO:tensorflow:Reduce to /replica:0/task:0/device:CPU:0 then broadcast to ('/replica:0/task:0/device:CPU:0',).\n",
      "INFO:tensorflow:Reduce to /replica:0/task:0/device:CPU:0 then broadcast to ('/replica:0/task:0/device:CPU:0',).\n",
      "INFO:tensorflow:Reduce to /replica:0/task:0/device:CPU:0 then broadcast to ('/replica:0/task:0/device:CPU:0',).\n",
      "INFO:tensorflow:Reduce to /replica:0/task:0/device:CPU:0 then broadcast to ('/replica:0/task:0/device:CPU:0',).\n",
      "INFO:tensorflow:Reduce to /replica:0/task:0/device:CPU:0 then broadcast to ('/replica:0/task:0/device:CPU:0',).\n",
      "INFO:tensorflow:Done calling model_fn.\n",
      "INFO:tensorflow:Warm-starting with WarmStartSettings: WarmStartSettings(ckpt_to_initialize_from='C:\\\\Users\\\\23668\\\\AppData\\\\Local\\\\Temp\\\\tmp9rowxr56\\\\keras\\\\keras_model.ckpt', vars_to_warm_start='.*', var_name_to_vocab_info={}, var_name_to_prev_var_name={})\n",
      "INFO:tensorflow:Warm-starting from: C:\\Users\\23668\\AppData\\Local\\Temp\\tmp9rowxr56\\keras\\keras_model.ckpt\n",
      "INFO:tensorflow:Warm-starting variables only in TRAINABLE_VARIABLES.\n",
      "INFO:tensorflow:Warm-started 8 variables.\n",
      "INFO:tensorflow:Create CheckpointSaverHook.\n",
      "WARNING:tensorflow:From D:\\environment\\anaconda3\\envs\\tensorflow\\lib\\site-packages\\tensorflow_estimator\\python\\estimator\\util.py:95: DistributedIteratorV1.initialize (from tensorflow.python.distribute.v1.input_lib) is deprecated and will be removed in a future version.\n",
      "Instructions for updating:\n",
      "Use the iterator's `initializer` property instead.\n",
      "INFO:tensorflow:Graph was finalized.\n",
      "INFO:tensorflow:Running local_init_op.\n",
      "INFO:tensorflow:Done running local_init_op.\n",
      "INFO:tensorflow:Calling checkpoint listeners before saving checkpoint 0...\n",
      "INFO:tensorflow:Saving checkpoints for 0 into C:\\Users\\23668\\AppData\\Local\\Temp\\tmp9rowxr56\\model.ckpt.\n",
      "INFO:tensorflow:Calling checkpoint listeners after saving checkpoint 0...\n",
      "INFO:tensorflow:loss = 2.3144186, step = 0\n",
      "INFO:tensorflow:global_step/sec: 73.7524\n",
      "INFO:tensorflow:loss = 2.0008316, step = 100 (1.356 sec)\n",
      "INFO:tensorflow:global_step/sec: 83.6362\n",
      "INFO:tensorflow:loss = 1.1268723, step = 200 (1.196 sec)\n",
      "INFO:tensorflow:global_step/sec: 84.0171\n",
      "INFO:tensorflow:loss = 0.93679017, step = 300 (1.190 sec)\n",
      "INFO:tensorflow:global_step/sec: 83.6566\n",
      "INFO:tensorflow:loss = 0.9027857, step = 400 (1.195 sec)\n",
      "INFO:tensorflow:global_step/sec: 83.8369\n",
      "INFO:tensorflow:loss = 0.76932853, step = 500 (1.193 sec)\n",
      "INFO:tensorflow:global_step/sec: 83.5902\n",
      "INFO:tensorflow:loss = 0.7330446, step = 600 (1.196 sec)\n",
      "INFO:tensorflow:global_step/sec: 84.3089\n",
      "INFO:tensorflow:loss = 0.6732663, step = 700 (1.187 sec)\n",
      "INFO:tensorflow:global_step/sec: 83.8598\n",
      "INFO:tensorflow:loss = 0.69279385, step = 800 (1.191 sec)\n",
      "INFO:tensorflow:global_step/sec: 83.7161\n",
      "INFO:tensorflow:loss = 0.6971642, step = 900 (1.196 sec)\n",
      "INFO:tensorflow:global_step/sec: 83.3247\n",
      "INFO:tensorflow:loss = 0.6420475, step = 1000 (1.200 sec)\n",
      "INFO:tensorflow:global_step/sec: 82.8927\n",
      "INFO:tensorflow:loss = 0.6797504, step = 1100 (1.206 sec)\n",
      "INFO:tensorflow:global_step/sec: 83.3008\n",
      "INFO:tensorflow:loss = 0.6239977, step = 1200 (1.200 sec)\n",
      "INFO:tensorflow:global_step/sec: 83.2329\n",
      "INFO:tensorflow:loss = 0.63557273, step = 1300 (1.201 sec)\n",
      "INFO:tensorflow:global_step/sec: 82.7125\n",
      "INFO:tensorflow:loss = 0.56924134, step = 1400 (1.210 sec)\n",
      "INFO:tensorflow:global_step/sec: 83.0027\n",
      "INFO:tensorflow:loss = 0.5652753, step = 1500 (1.205 sec)\n",
      "INFO:tensorflow:global_step/sec: 82.7612\n",
      "INFO:tensorflow:loss = 0.5455539, step = 1600 (1.207 sec)\n",
      "INFO:tensorflow:global_step/sec: 78.2569\n",
      "INFO:tensorflow:loss = 0.58548075, step = 1700 (1.278 sec)\n",
      "INFO:tensorflow:global_step/sec: 79.2911\n",
      "INFO:tensorflow:loss = 0.56872004, step = 1800 (1.262 sec)\n",
      "INFO:tensorflow:global_step/sec: 78.0466\n",
      "INFO:tensorflow:loss = 0.5879595, step = 1900 (1.280 sec)\n",
      "INFO:tensorflow:global_step/sec: 82.6911\n",
      "INFO:tensorflow:loss = 0.58868164, step = 2000 (1.209 sec)\n",
      "INFO:tensorflow:global_step/sec: 82.9319\n",
      "INFO:tensorflow:loss = 0.612386, step = 2100 (1.206 sec)\n",
      "INFO:tensorflow:global_step/sec: 82.5512\n",
      "INFO:tensorflow:loss = 0.48132586, step = 2200 (1.211 sec)\n",
      "INFO:tensorflow:global_step/sec: 81.2715\n",
      "INFO:tensorflow:loss = 0.46313238, step = 2300 (1.231 sec)\n",
      "INFO:tensorflow:global_step/sec: 82.7959\n",
      "INFO:tensorflow:loss = 0.55723584, step = 2400 (1.207 sec)\n",
      "INFO:tensorflow:global_step/sec: 82.5668\n",
      "INFO:tensorflow:loss = 0.4083774, step = 2500 (1.211 sec)\n",
      "INFO:tensorflow:global_step/sec: 82.7965\n",
      "INFO:tensorflow:loss = 0.49837336, step = 2600 (1.208 sec)\n",
      "INFO:tensorflow:global_step/sec: 82.731\n",
      "INFO:tensorflow:loss = 0.5339169, step = 2700 (1.208 sec)\n",
      "INFO:tensorflow:global_step/sec: 81.6798\n",
      "INFO:tensorflow:loss = 0.47010776, step = 2800 (1.225 sec)\n",
      "INFO:tensorflow:global_step/sec: 83.139\n",
      "INFO:tensorflow:loss = 0.49969262, step = 2900 (1.202 sec)\n",
      "INFO:tensorflow:global_step/sec: 82.8398\n",
      "INFO:tensorflow:loss = 0.42524728, step = 3000 (1.207 sec)\n",
      "INFO:tensorflow:global_step/sec: 82.4004\n",
      "INFO:tensorflow:loss = 0.48435232, step = 3100 (1.215 sec)\n",
      "INFO:tensorflow:global_step/sec: 82.6186\n",
      "INFO:tensorflow:loss = 0.46056908, step = 3200 (1.209 sec)\n",
      "INFO:tensorflow:global_step/sec: 82.9418\n",
      "INFO:tensorflow:loss = 0.4468736, step = 3300 (1.206 sec)\n",
      "INFO:tensorflow:global_step/sec: 82.6621\n",
      "INFO:tensorflow:loss = 0.43405902, step = 3400 (1.210 sec)\n",
      "INFO:tensorflow:global_step/sec: 82.7563\n",
      "INFO:tensorflow:loss = 0.45748177, step = 3500 (1.208 sec)\n",
      "INFO:tensorflow:global_step/sec: 82.1979\n",
      "INFO:tensorflow:loss = 0.49186125, step = 3600 (1.217 sec)\n",
      "INFO:tensorflow:global_step/sec: 81.804\n",
      "INFO:tensorflow:loss = 0.42052084, step = 3700 (1.222 sec)\n",
      "INFO:tensorflow:global_step/sec: 82.7679\n",
      "INFO:tensorflow:loss = 0.45755333, step = 3800 (1.208 sec)\n",
      "INFO:tensorflow:global_step/sec: 83.2098\n",
      "INFO:tensorflow:loss = 0.43727148, step = 3900 (1.203 sec)\n",
      "INFO:tensorflow:global_step/sec: 82.2477\n",
      "INFO:tensorflow:loss = 0.4119655, step = 4000 (1.215 sec)\n",
      "INFO:tensorflow:global_step/sec: 81.2881\n",
      "INFO:tensorflow:loss = 0.3813378, step = 4100 (1.231 sec)\n",
      "INFO:tensorflow:global_step/sec: 81.2939\n",
      "INFO:tensorflow:loss = 0.44485128, step = 4200 (1.228 sec)\n",
      "INFO:tensorflow:global_step/sec: 81.9187\n",
      "INFO:tensorflow:loss = 0.39378327, step = 4300 (1.222 sec)\n",
      "INFO:tensorflow:global_step/sec: 82.7631\n",
      "INFO:tensorflow:loss = 0.42140365, step = 4400 (1.208 sec)\n",
      "INFO:tensorflow:global_step/sec: 82.5659\n",
      "INFO:tensorflow:loss = 0.4174634, step = 4500 (1.211 sec)\n",
      "INFO:tensorflow:global_step/sec: 82.3048\n",
      "INFO:tensorflow:loss = 0.38428187, step = 4600 (1.215 sec)\n",
      "INFO:tensorflow:global_step/sec: 82.7031\n",
      "INFO:tensorflow:loss = 0.40528274, step = 4700 (1.210 sec)\n",
      "INFO:tensorflow:global_step/sec: 82.7374\n",
      "INFO:tensorflow:loss = 0.47777742, step = 4800 (1.208 sec)\n",
      "INFO:tensorflow:global_step/sec: 82.7717\n",
      "INFO:tensorflow:loss = 0.43197516, step = 4900 (1.208 sec)\n",
      "INFO:tensorflow:global_step/sec: 82.2888\n",
      "INFO:tensorflow:loss = 0.36041957, step = 5000 (1.215 sec)\n",
      "INFO:tensorflow:global_step/sec: 82.6832\n",
      "INFO:tensorflow:loss = 0.40403003, step = 5100 (1.209 sec)\n",
      "INFO:tensorflow:global_step/sec: 82.3805\n",
      "INFO:tensorflow:loss = 0.4426493, step = 5200 (1.214 sec)\n",
      "INFO:tensorflow:global_step/sec: 74.1035\n",
      "INFO:tensorflow:loss = 0.45521316, step = 5300 (1.349 sec)\n",
      "INFO:tensorflow:global_step/sec: 81.1975\n",
      "INFO:tensorflow:loss = 0.39521232, step = 5400 (1.233 sec)\n",
      "INFO:tensorflow:global_step/sec: 82.0315\n",
      "INFO:tensorflow:loss = 0.45778933, step = 5500 (1.218 sec)\n",
      "INFO:tensorflow:global_step/sec: 82.6631\n",
      "INFO:tensorflow:loss = 0.43270242, step = 5600 (1.210 sec)\n",
      "INFO:tensorflow:global_step/sec: 74.2103\n",
      "INFO:tensorflow:loss = 0.3405589, step = 5700 (1.348 sec)\n",
      "INFO:tensorflow:global_step/sec: 82.5907\n",
      "INFO:tensorflow:loss = 0.38832805, step = 5800 (1.211 sec)\n",
      "INFO:tensorflow:Calling checkpoint listeners before saving checkpoint 5860...\n",
      "INFO:tensorflow:Saving checkpoints for 5860 into C:\\Users\\23668\\AppData\\Local\\Temp\\tmp9rowxr56\\model.ckpt.\n",
      "INFO:tensorflow:Calling checkpoint listeners after saving checkpoint 5860...\n",
      "INFO:tensorflow:Loss for final step: 0.3624122.\n",
      "<tensorflow_estimator.python.estimator.estimator.EstimatorV2 object at 0x00000220B70129E8>\n"
     ]
    }
   ],
   "execution_count": 14
  },
  {
   "metadata": {
    "ExecuteTime": {
     "end_time": "2024-06-23T12:02:25.002762Z",
     "start_time": "2024-06-23T12:02:22.953407Z"
    }
   },
   "cell_type": "code",
   "source": "estimator.evaluate(input_fn=lambda: input_fn(test_images, test_labels,epochs=1, batch_size=BATCH_SIZE))",
   "id": "6c089f19a659d4bf",
   "outputs": [
    {
     "name": "stdout",
     "output_type": "stream",
     "text": [
      "INFO:tensorflow:Calling model_fn.\n",
      "INFO:tensorflow:Done calling model_fn.\n",
      "INFO:tensorflow:Starting evaluation at 2024-06-23T20:02:23\n",
      "INFO:tensorflow:Graph was finalized.\n",
      "INFO:tensorflow:Restoring parameters from C:\\Users\\23668\\AppData\\Local\\Temp\\tmp9rowxr56\\model.ckpt-5860\n",
      "INFO:tensorflow:Running local_init_op.\n"
     ]
    },
    {
     "name": "stderr",
     "output_type": "stream",
     "text": [
      "D:\\environment\\anaconda3\\envs\\tensorflow\\lib\\site-packages\\keras\\engine\\training_v1.py:2332: UserWarning: `Model.state_updates` will be removed in a future version. This property should not be used in TensorFlow 2.0, as `updates` are applied automatically.\n",
      "  updates = self.state_updates\n"
     ]
    },
    {
     "name": "stdout",
     "output_type": "stream",
     "text": [
      "INFO:tensorflow:Done running local_init_op.\n",
      "INFO:tensorflow:Inference Time : 1.42013s\n",
      "INFO:tensorflow:Finished evaluation at 2024-06-23-20:02:24\n",
      "INFO:tensorflow:Saving dict for global step 5860: accuracy = 0.8441, global_step = 5860, loss = 0.42820936\n",
      "INFO:tensorflow:Saving 'checkpoint_path' summary for global step 5860: C:\\Users\\23668\\AppData\\Local\\Temp\\tmp9rowxr56\\model.ckpt-5860\n"
     ]
    },
    {
     "data": {
      "text/plain": [
       "{'accuracy': 0.8441, 'loss': 0.42820936, 'global_step': 5860}"
      ]
     },
     "execution_count": 15,
     "metadata": {},
     "output_type": "execute_result"
    }
   ],
   "execution_count": 15
  },
  {
   "metadata": {},
   "cell_type": "code",
   "outputs": [],
   "execution_count": null,
   "source": "",
   "id": "43dbdf304c68236"
  }
 ],
 "metadata": {
  "kernelspec": {
   "display_name": "Python 3",
   "language": "python",
   "name": "python3"
  },
  "language_info": {
   "codemirror_mode": {
    "name": "ipython",
    "version": 2
   },
   "file_extension": ".py",
   "mimetype": "text/x-python",
   "name": "python",
   "nbconvert_exporter": "python",
   "pygments_lexer": "ipython2",
   "version": "2.7.6"
  }
 },
 "nbformat": 4,
 "nbformat_minor": 5
}
