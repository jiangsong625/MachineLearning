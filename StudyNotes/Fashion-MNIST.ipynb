{
 "cells": [
  {
   "metadata": {},
   "cell_type": "markdown",
   "source": "Estimator是Tensorflow中可用的一个高级API，可以快速搭建模型，训练模型，评估模型，预测模型，保存模型，加载模型。",
   "id": "f4f012a32fa2d96e"
  },
  {
   "cell_type": "code",
   "id": "initial_id",
   "metadata": {
    "collapsed": true,
    "ExecuteTime": {
     "end_time": "2024-07-02T12:39:51.529616Z",
     "start_time": "2024-07-02T12:38:19.906234Z"
    }
   },
   "source": [
    "import os\n",
    "import time\n",
    "import numpy as np\n",
    "import tensorflow as tf"
   ],
   "outputs": [],
   "execution_count": 1
  },
  {
   "metadata": {
    "ExecuteTime": {
     "end_time": "2024-06-23T11:11:21.370102Z",
     "start_time": "2024-06-23T11:11:20.432024Z"
    }
   },
   "cell_type": "code",
   "source": [
    "# 打印GPU信息\n",
    "tf.test.gpu_device_name()"
   ],
   "id": "6b31f120aa941c0d",
   "outputs": [
    {
     "data": {
      "text/plain": [
       "'/device:GPU:0'"
      ]
     },
     "execution_count": 2,
     "metadata": {},
     "output_type": "execute_result"
    }
   ],
   "execution_count": 2
  },
  {
   "metadata": {
    "ExecuteTime": {
     "end_time": "2024-06-22T09:13:39.991418Z",
     "start_time": "2024-06-22T09:13:39.977424Z"
    }
   },
   "cell_type": "code",
   "source": [
    "# 打印tensorflow-gpu版本\n",
    "tf.__version__"
   ],
   "id": "6d7763247370073f",
   "outputs": [
    {
     "data": {
      "text/plain": [
       "'2.10.0'"
      ]
     },
     "execution_count": 3,
     "metadata": {},
     "output_type": "execute_result"
    }
   ],
   "execution_count": 3
  },
  {
   "metadata": {
    "ExecuteTime": {
     "end_time": "2024-07-02T12:43:13.323516Z",
     "start_time": "2024-07-02T12:43:13.087147Z"
    }
   },
   "cell_type": "code",
   "source": [
    "gpus = tf.config.experimental.list_physical_devices(device_type='GPU')\n",
    "cpus = tf.config.experimental.list_physical_devices(device_type='CPU')\n",
    "print(gpus, cpus)"
   ],
   "id": "a6ad03e9a7c9f2c3",
   "outputs": [
    {
     "name": "stdout",
     "output_type": "stream",
     "text": [
      "[PhysicalDevice(name='/physical_device:GPU:0', device_type='GPU')] [PhysicalDevice(name='/physical_device:CPU:0', device_type='CPU')]\n"
     ]
    }
   ],
   "execution_count": 2
  },
  {
   "metadata": {
    "ExecuteTime": {
     "end_time": "2024-06-22T10:00:40.102028Z",
     "start_time": "2024-06-22T10:00:40.088039Z"
    }
   },
   "cell_type": "code",
   "source": [
    "print(tf.__version__)\n",
    "print(tf.config.experimental.list_physical_devices('GPU'))"
   ],
   "id": "ed07562b8dd5688c",
   "outputs": [
    {
     "name": "stdout",
     "output_type": "stream",
     "text": [
      "2.10.0\n",
      "[PhysicalDevice(name='/physical_device:GPU:0', device_type='GPU')]\n"
     ]
    }
   ],
   "execution_count": 4
  },
  {
   "metadata": {
    "ExecuteTime": {
     "end_time": "2024-07-02T12:50:00.827135Z",
     "start_time": "2024-07-02T12:49:59.536273Z"
    }
   },
   "cell_type": "code",
   "source": [
    "LABEL_DIMENSIONS = 10\n",
    "# 训练数据集\n",
    "(train_images, train_labels), (test_images, test_labels) = tf.keras.datasets.fashion_mnist.load_data()\n",
    "TRAINING_SIZE = len(train_images)\n",
    "TEST_SIZE = len(test_images)\n",
    "\n",
    "train_images = np.asarray(train_images, dtype=np.float32) / 255.0  # 训练数据集\n",
    "train_images = train_images.reshape([TRAINING_SIZE, 28, 28, 1])\n",
    "\n",
    "test_images = np.asarray(test_images, dtype=np.float32) / 255.0  # 测试数据集\n",
    "test_images = test_images.reshape([TEST_SIZE, 28, 28, 1])\n",
    "\n",
    "train_labels = tf.keras.utils.to_categorical(train_labels, LABEL_DIMENSIONS)\n",
    "test_labels = tf.keras.utils.to_categorical(test_labels, LABEL_DIMENSIONS)\n",
    "\n",
    "# 将标签转换为float32\n",
    "train_labels = train_labels.astype(np.float32)\n",
    "test_labels = test_labels.astype(np.float32)\n",
    "print(train_images.shape, train_labels.shape, test_images.shape, test_labels.shape)"
   ],
   "id": "2eb1b5aeab0dacb",
   "outputs": [
    {
     "name": "stdout",
     "output_type": "stream",
     "text": [
      "(60000, 28, 28, 1) (60000, 10) (10000, 28, 28, 1) (10000, 10)\n"
     ]
    }
   ],
   "execution_count": 3
  },
  {
   "metadata": {},
   "cell_type": "markdown",
   "source": "使用tf.Keras functional API构建卷积模型",
   "id": "77099d43d4245f28"
  },
  {
   "metadata": {
    "ExecuteTime": {
     "end_time": "2024-07-02T12:50:05.436829Z",
     "start_time": "2024-07-02T12:50:03.807577Z"
    }
   },
   "cell_type": "code",
   "source": [
    "inputs = tf.keras.Input(shape=(28, 28, 1))\n",
    "x = tf.keras.layers.Conv2D(filters=32, kernel_size=(3, 3), activation='relu')(inputs)\n",
    "x = tf.keras.layers.MaxPooling2D(pool_size=(2, 2))(x)\n",
    "x = tf.keras.layers.Conv2D(filters=64, kernel_size=(3, 3), activation='relu')(x)\n",
    "x = tf.keras.layers.MaxPooling2D(pool_size=(2, 2))(x)\n",
    "x = tf.keras.layers.Flatten()(x)\n",
    "x = tf.keras.layers.Dense(units=128, activation='relu')(x)\n",
    "predictions = tf.keras.layers.Dense(units=LABEL_DIMENSIONS, activation='softmax')(x)\n",
    "model = tf.keras.Model(inputs=inputs, outputs=predictions)\n",
    "model.summary()"
   ],
   "id": "69633e37513aa238",
   "outputs": [
    {
     "name": "stdout",
     "output_type": "stream",
     "text": [
      "Model: \"model\"\n",
      "_________________________________________________________________\n",
      " Layer (type)                Output Shape              Param #   \n",
      "=================================================================\n",
      " input_1 (InputLayer)        [(None, 28, 28, 1)]       0         \n",
      "                                                                 \n",
      " conv2d (Conv2D)             (None, 26, 26, 32)        320       \n",
      "                                                                 \n",
      " max_pooling2d (MaxPooling2D  (None, 13, 13, 32)       0         \n",
      " )                                                               \n",
      "                                                                 \n",
      " conv2d_1 (Conv2D)           (None, 11, 11, 64)        18496     \n",
      "                                                                 \n",
      " max_pooling2d_1 (MaxPooling  (None, 5, 5, 64)         0         \n",
      " 2D)                                                             \n",
      "                                                                 \n",
      " flatten (Flatten)           (None, 1600)              0         \n",
      "                                                                 \n",
      " dense (Dense)               (None, 128)               204928    \n",
      "                                                                 \n",
      " dense_1 (Dense)             (None, 10)                1290      \n",
      "                                                                 \n",
      "=================================================================\n",
      "Total params: 225,034\n",
      "Trainable params: 225,034\n",
      "Non-trainable params: 0\n",
      "_________________________________________________________________\n"
     ]
    }
   ],
   "execution_count": 4
  },
  {
   "metadata": {},
   "cell_type": "markdown",
   "source": "编译模型",
   "id": "173d95bda035dba2"
  },
  {
   "metadata": {
    "ExecuteTime": {
     "end_time": "2024-07-02T12:50:07.979644Z",
     "start_time": "2024-07-02T12:50:07.950721Z"
    }
   },
   "cell_type": "code",
   "source": [
    "optimizer = tf.keras.optimizers.SGD(learning_rate=0.01)\n",
    "model.compile(optimizer=optimizer, loss='categorical_crossentropy', metrics=['accuracy'])"
   ],
   "id": "92f782dcc869a527",
   "outputs": [],
   "execution_count": 5
  },
  {
   "metadata": {},
   "cell_type": "markdown",
   "source": "定义一个策略，目的是在GPU上训练模型，将tf.keras.estimator.model_to_estimator()函数传入模型和配置信息",
   "id": "fa8ba4dea574235d"
  },
  {
   "metadata": {
    "ExecuteTime": {
     "end_time": "2024-07-02T12:50:15.460225Z",
     "start_time": "2024-07-02T12:50:11.717271Z"
    }
   },
   "cell_type": "code",
   "source": [
    "strategy = tf.distribute.MirroredStrategy()\n",
    "config = tf.estimator.RunConfig(train_distribute=strategy)\n",
    "estimator = tf.keras.estimator.model_to_estimator(keras_model=model, config=config)"
   ],
   "id": "20600664a14c61de",
   "outputs": [
    {
     "name": "stdout",
     "output_type": "stream",
     "text": [
      "INFO:tensorflow:Using MirroredStrategy with devices ('/job:localhost/replica:0/task:0/device:GPU:0',)\n",
      "INFO:tensorflow:Initializing RunConfig with distribution strategies.\n",
      "INFO:tensorflow:Not using Distribute Coordinator.\n",
      "WARNING:tensorflow:Using temporary folder as model directory: C:\\Users\\23668\\AppData\\Local\\Temp\\tmpf9zluxai\n",
      "INFO:tensorflow:Using the Keras model provided.\n"
     ]
    },
    {
     "name": "stderr",
     "output_type": "stream",
     "text": [
      "D:\\environment\\anaconda3\\envs\\tensorflow\\lib\\site-packages\\keras\\backend.py:452: UserWarning: `tf.keras.backend.set_learning_phase` is deprecated and will be removed after 2020-10-11. To update it, simply pass a True/False value to the `training` argument of the `__call__` method of your layer or model.\n",
      "  \"`tf.keras.backend.set_learning_phase` is deprecated and \"\n"
     ]
    },
    {
     "name": "stdout",
     "output_type": "stream",
     "text": [
      "INFO:tensorflow:Using config: {'_model_dir': 'C:\\\\Users\\\\23668\\\\AppData\\\\Local\\\\Temp\\\\tmpf9zluxai', '_tf_random_seed': None, '_save_summary_steps': 100, '_save_checkpoints_steps': None, '_save_checkpoints_secs': 600, '_session_config': allow_soft_placement: true\n",
      "graph_options {\n",
      "  rewrite_options {\n",
      "    meta_optimizer_iterations: ONE\n",
      "  }\n",
      "}\n",
      ", '_keep_checkpoint_max': 5, '_keep_checkpoint_every_n_hours': 10000, '_log_step_count_steps': 100, '_train_distribute': <tensorflow.python.distribute.mirrored_strategy.MirroredStrategy object at 0x0000021E08864080>, '_device_fn': None, '_protocol': None, '_eval_distribute': None, '_experimental_distribute': None, '_experimental_max_worker_delay_secs': None, '_session_creation_timeout_secs': 7200, '_checkpoint_save_graph_def': True, '_service': None, '_cluster_spec': ClusterSpec({}), '_task_type': 'worker', '_task_id': 0, '_global_id_in_cluster': 0, '_master': '', '_evaluation_master': '', '_is_chief': True, '_num_ps_replicas': 0, '_num_worker_replicas': 1, '_distribute_coordinator_mode': None}\n"
     ]
    }
   ],
   "execution_count": 6
  },
  {
   "metadata": {},
   "cell_type": "markdown",
   "source": "使用tf.data定义用于训练和测试的输入函数",
   "id": "5ac69f7158a99aff"
  },
  {
   "metadata": {
    "ExecuteTime": {
     "end_time": "2024-07-02T12:50:18.485508Z",
     "start_time": "2024-07-02T12:50:18.477530Z"
    }
   },
   "cell_type": "code",
   "source": [
    "def input_fn(images, labels, batch_size, epochs):\n",
    "    dataset = tf.data.Dataset.from_tensor_slices((images, labels))\n",
    "    \n",
    "    SHUFFLE_SIZE = 5000\n",
    "    dataset = dataset.shuffle(buffer_size=SHUFFLE_SIZE).repeat(epochs).batch(batch_size)  # 随机打乱数据集\n",
    "    dataset = dataset.prefetch(None)  # 预取数据集, 提升性能\n",
    "    return dataset"
   ],
   "id": "da365c73417cadc3",
   "outputs": [],
   "execution_count": 7
  },
  {
   "metadata": {
    "ExecuteTime": {
     "end_time": "2024-07-02T12:54:05.566313Z",
     "start_time": "2024-07-02T12:50:20.723855Z"
    }
   },
   "cell_type": "code",
   "source": [
    "# 训练模型\n",
    "BATCH_SIZE = 512\n",
    "EPOCHS = 50\n",
    "estimator_train_result = estimator.train(input_fn=lambda: input_fn(train_images, train_labels,\n",
    "                                         batch_size=BATCH_SIZE,\n",
    "                                         epochs=EPOCHS))\n",
    "print(estimator_train_result)"
   ],
   "id": "d15185d8354d3fac",
   "outputs": [
    {
     "name": "stdout",
     "output_type": "stream",
     "text": [
      "WARNING:tensorflow:From D:\\environment\\anaconda3\\envs\\tensorflow\\lib\\site-packages\\tensorflow_estimator\\python\\estimator\\estimator.py:1244: StrategyBase.configure (from tensorflow.python.distribute.distribute_lib) is deprecated and will be removed in a future version.\n",
      "Instructions for updating:\n",
      "use `update_config_proto` instead.\n"
     ]
    },
    {
     "name": "stderr",
     "output_type": "stream",
     "text": [
      "D:\\environment\\anaconda3\\envs\\tensorflow\\lib\\site-packages\\tensorflow\\python\\data\\ops\\dataset_ops.py:461: UserWarning: To make it possible to preserve tf.data options across serialization boundaries, their implementation has moved to be part of the TensorFlow graph. As a consequence, the options value is in general no longer known at graph construction time. Invoking this method in graph mode retains the legacy behavior of the original implementation, but note that the returned value might not reflect the actual value of the options.\n",
      "  warnings.warn(\"To make it possible to preserve tf.data options across \"\n"
     ]
    },
    {
     "name": "stdout",
     "output_type": "stream",
     "text": [
      "INFO:tensorflow:Calling model_fn.\n",
      "INFO:tensorflow:Reduce to /replica:0/task:0/device:CPU:0 then broadcast to ('/replica:0/task:0/device:CPU:0',).\n",
      "INFO:tensorflow:Reduce to /replica:0/task:0/device:CPU:0 then broadcast to ('/replica:0/task:0/device:CPU:0',).\n",
      "INFO:tensorflow:Reduce to /replica:0/task:0/device:CPU:0 then broadcast to ('/replica:0/task:0/device:CPU:0',).\n",
      "INFO:tensorflow:Reduce to /replica:0/task:0/device:CPU:0 then broadcast to ('/replica:0/task:0/device:CPU:0',).\n",
      "INFO:tensorflow:Reduce to /replica:0/task:0/device:CPU:0 then broadcast to ('/replica:0/task:0/device:CPU:0',).\n",
      "INFO:tensorflow:Reduce to /replica:0/task:0/device:CPU:0 then broadcast to ('/replica:0/task:0/device:CPU:0',).\n",
      "INFO:tensorflow:Reduce to /replica:0/task:0/device:CPU:0 then broadcast to ('/replica:0/task:0/device:CPU:0',).\n",
      "INFO:tensorflow:Reduce to /replica:0/task:0/device:CPU:0 then broadcast to ('/replica:0/task:0/device:CPU:0',).\n",
      "INFO:tensorflow:Reduce to /replica:0/task:0/device:CPU:0 then broadcast to ('/replica:0/task:0/device:CPU:0',).\n",
      "INFO:tensorflow:Reduce to /replica:0/task:0/device:CPU:0 then broadcast to ('/replica:0/task:0/device:CPU:0',).\n",
      "INFO:tensorflow:Done calling model_fn.\n",
      "INFO:tensorflow:Warm-starting with WarmStartSettings: WarmStartSettings(ckpt_to_initialize_from='C:\\\\Users\\\\23668\\\\AppData\\\\Local\\\\Temp\\\\tmpf9zluxai\\\\keras\\\\keras_model.ckpt', vars_to_warm_start='.*', var_name_to_vocab_info={}, var_name_to_prev_var_name={})\n",
      "INFO:tensorflow:Warm-starting from: C:\\Users\\23668\\AppData\\Local\\Temp\\tmpf9zluxai\\keras\\keras_model.ckpt\n",
      "INFO:tensorflow:Warm-starting variables only in TRAINABLE_VARIABLES.\n",
      "INFO:tensorflow:Warm-started 8 variables.\n",
      "INFO:tensorflow:Create CheckpointSaverHook.\n",
      "WARNING:tensorflow:From D:\\environment\\anaconda3\\envs\\tensorflow\\lib\\site-packages\\tensorflow_estimator\\python\\estimator\\util.py:95: DistributedIteratorV1.initialize (from tensorflow.python.distribute.v1.input_lib) is deprecated and will be removed in a future version.\n",
      "Instructions for updating:\n",
      "Use the iterator's `initializer` property instead.\n",
      "INFO:tensorflow:Graph was finalized.\n",
      "INFO:tensorflow:Running local_init_op.\n",
      "INFO:tensorflow:Done running local_init_op.\n",
      "INFO:tensorflow:Calling checkpoint listeners before saving checkpoint 0...\n",
      "INFO:tensorflow:Saving checkpoints for 0 into C:\\Users\\23668\\AppData\\Local\\Temp\\tmpf9zluxai\\model.ckpt.\n",
      "INFO:tensorflow:Calling checkpoint listeners after saving checkpoint 0...\n",
      "INFO:tensorflow:loss = 2.3074546, step = 0\n",
      "INFO:tensorflow:global_step/sec: 56.1007\n",
      "INFO:tensorflow:loss = 1.9162952, step = 100 (1.788 sec)\n",
      "INFO:tensorflow:global_step/sec: 68.0999\n",
      "INFO:tensorflow:loss = 1.0391324, step = 200 (1.463 sec)\n",
      "INFO:tensorflow:global_step/sec: 68.6908\n",
      "INFO:tensorflow:loss = 0.8546021, step = 300 (1.451 sec)\n",
      "INFO:tensorflow:global_step/sec: 68.8791\n",
      "INFO:tensorflow:loss = 0.9278791, step = 400 (1.452 sec)\n",
      "INFO:tensorflow:global_step/sec: 66.0851\n",
      "INFO:tensorflow:loss = 0.72296435, step = 500 (1.514 sec)\n",
      "INFO:tensorflow:global_step/sec: 56.9928\n",
      "INFO:tensorflow:loss = 0.88118017, step = 600 (1.759 sec)\n",
      "INFO:tensorflow:global_step/sec: 56.0372\n",
      "INFO:tensorflow:loss = 0.710138, step = 700 (1.780 sec)\n",
      "INFO:tensorflow:global_step/sec: 65.2414\n",
      "INFO:tensorflow:loss = 0.7590477, step = 800 (1.535 sec)\n",
      "INFO:tensorflow:global_step/sec: 64.103\n",
      "INFO:tensorflow:loss = 0.75890225, step = 900 (1.562 sec)\n",
      "INFO:tensorflow:global_step/sec: 65.3317\n",
      "INFO:tensorflow:loss = 0.6446431, step = 1000 (1.528 sec)\n",
      "INFO:tensorflow:global_step/sec: 67.2827\n",
      "INFO:tensorflow:loss = 0.75051385, step = 1100 (1.486 sec)\n",
      "INFO:tensorflow:global_step/sec: 62.8174\n",
      "INFO:tensorflow:loss = 0.6676249, step = 1200 (1.591 sec)\n",
      "INFO:tensorflow:global_step/sec: 66.5661\n",
      "INFO:tensorflow:loss = 0.65621674, step = 1300 (1.503 sec)\n",
      "INFO:tensorflow:global_step/sec: 68.1535\n",
      "INFO:tensorflow:loss = 0.6398163, step = 1400 (1.466 sec)\n",
      "INFO:tensorflow:global_step/sec: 67.8051\n",
      "INFO:tensorflow:loss = 0.5973394, step = 1500 (1.477 sec)\n",
      "INFO:tensorflow:global_step/sec: 55.5581\n",
      "INFO:tensorflow:loss = 0.49363342, step = 1600 (1.800 sec)\n",
      "INFO:tensorflow:global_step/sec: 53.3253\n",
      "INFO:tensorflow:loss = 0.57858557, step = 1700 (1.879 sec)\n",
      "INFO:tensorflow:global_step/sec: 60.7411\n",
      "INFO:tensorflow:loss = 0.51968765, step = 1800 (1.641 sec)\n",
      "INFO:tensorflow:global_step/sec: 65.9547\n",
      "INFO:tensorflow:loss = 0.554485, step = 1900 (1.518 sec)\n",
      "INFO:tensorflow:global_step/sec: 64.5763\n",
      "INFO:tensorflow:loss = 0.5940521, step = 2000 (1.546 sec)\n",
      "INFO:tensorflow:global_step/sec: 62.0412\n",
      "INFO:tensorflow:loss = 0.48432976, step = 2100 (1.613 sec)\n",
      "INFO:tensorflow:global_step/sec: 65.9798\n",
      "INFO:tensorflow:loss = 0.5647304, step = 2200 (1.515 sec)\n",
      "INFO:tensorflow:global_step/sec: 62.545\n",
      "INFO:tensorflow:loss = 0.56783175, step = 2300 (1.599 sec)\n",
      "INFO:tensorflow:global_step/sec: 64.3935\n",
      "INFO:tensorflow:loss = 0.5065087, step = 2400 (1.556 sec)\n",
      "INFO:tensorflow:global_step/sec: 66.0371\n",
      "INFO:tensorflow:loss = 0.5119462, step = 2500 (1.512 sec)\n",
      "INFO:tensorflow:global_step/sec: 40.4011\n",
      "INFO:tensorflow:loss = 0.6732626, step = 2600 (2.476 sec)\n",
      "INFO:tensorflow:global_step/sec: 39.8863\n",
      "INFO:tensorflow:loss = 0.4720773, step = 2700 (2.505 sec)\n",
      "INFO:tensorflow:global_step/sec: 63.4352\n",
      "INFO:tensorflow:loss = 0.5060044, step = 2800 (1.577 sec)\n",
      "INFO:tensorflow:global_step/sec: 54.8907\n",
      "INFO:tensorflow:loss = 0.50833035, step = 2900 (1.821 sec)\n",
      "INFO:tensorflow:global_step/sec: 52.7543\n",
      "INFO:tensorflow:loss = 0.47799125, step = 3000 (1.897 sec)\n",
      "INFO:tensorflow:global_step/sec: 51.0616\n",
      "INFO:tensorflow:loss = 0.5447377, step = 3100 (1.957 sec)\n",
      "INFO:tensorflow:global_step/sec: 51.4002\n",
      "INFO:tensorflow:loss = 0.4520038, step = 3200 (1.950 sec)\n",
      "INFO:tensorflow:global_step/sec: 53.2998\n",
      "INFO:tensorflow:loss = 0.49327585, step = 3300 (1.872 sec)\n",
      "INFO:tensorflow:global_step/sec: 37.1854\n",
      "INFO:tensorflow:loss = 0.4514348, step = 3400 (2.691 sec)\n",
      "INFO:tensorflow:global_step/sec: 44.9287\n",
      "INFO:tensorflow:loss = 0.5176916, step = 3500 (2.224 sec)\n",
      "INFO:tensorflow:global_step/sec: 52.8764\n",
      "INFO:tensorflow:loss = 0.47460943, step = 3600 (1.891 sec)\n",
      "INFO:tensorflow:global_step/sec: 52.6026\n",
      "INFO:tensorflow:loss = 0.49059007, step = 3700 (1.906 sec)\n",
      "INFO:tensorflow:global_step/sec: 51.0854\n",
      "INFO:tensorflow:loss = 0.46812215, step = 3800 (1.954 sec)\n",
      "INFO:tensorflow:global_step/sec: 51.5863\n",
      "INFO:tensorflow:loss = 0.472224, step = 3900 (1.940 sec)\n",
      "INFO:tensorflow:global_step/sec: 51.4771\n",
      "INFO:tensorflow:loss = 0.423348, step = 4000 (1.941 sec)\n",
      "INFO:tensorflow:global_step/sec: 28.4232\n",
      "INFO:tensorflow:loss = 0.46085396, step = 4100 (3.518 sec)\n",
      "INFO:tensorflow:global_step/sec: 41.8107\n",
      "INFO:tensorflow:loss = 0.42341048, step = 4200 (2.391 sec)\n",
      "INFO:tensorflow:global_step/sec: 55.5592\n",
      "INFO:tensorflow:loss = 0.44848615, step = 4300 (1.802 sec)\n",
      "INFO:tensorflow:global_step/sec: 57.9876\n",
      "INFO:tensorflow:loss = 0.46724394, step = 4400 (1.726 sec)\n",
      "INFO:tensorflow:global_step/sec: 55.964\n",
      "INFO:tensorflow:loss = 0.40734893, step = 4500 (1.785 sec)\n",
      "INFO:tensorflow:global_step/sec: 57.4532\n",
      "INFO:tensorflow:loss = 0.49639863, step = 4600 (1.740 sec)\n",
      "INFO:tensorflow:global_step/sec: 58.1049\n",
      "INFO:tensorflow:loss = 0.44121915, step = 4700 (1.722 sec)\n",
      "INFO:tensorflow:global_step/sec: 58.6288\n",
      "INFO:tensorflow:loss = 0.49449858, step = 4800 (1.710 sec)\n",
      "INFO:tensorflow:global_step/sec: 52.6691\n",
      "INFO:tensorflow:loss = 0.46164423, step = 4900 (1.898 sec)\n",
      "INFO:tensorflow:global_step/sec: 40.3575\n",
      "INFO:tensorflow:loss = 0.38224083, step = 5000 (2.477 sec)\n",
      "INFO:tensorflow:global_step/sec: 52.5038\n",
      "INFO:tensorflow:loss = 0.4256898, step = 5100 (1.906 sec)\n",
      "INFO:tensorflow:global_step/sec: 56.3083\n",
      "INFO:tensorflow:loss = 0.3728804, step = 5200 (1.773 sec)\n",
      "INFO:tensorflow:global_step/sec: 58.2723\n",
      "INFO:tensorflow:loss = 0.43142173, step = 5300 (1.720 sec)\n",
      "INFO:tensorflow:global_step/sec: 59.1275\n",
      "INFO:tensorflow:loss = 0.44007564, step = 5400 (1.687 sec)\n",
      "INFO:tensorflow:global_step/sec: 58.2371\n",
      "INFO:tensorflow:loss = 0.3654729, step = 5500 (1.717 sec)\n",
      "INFO:tensorflow:global_step/sec: 58.4921\n",
      "INFO:tensorflow:loss = 0.41176057, step = 5600 (1.712 sec)\n",
      "INFO:tensorflow:global_step/sec: 59.4939\n",
      "INFO:tensorflow:loss = 0.3879577, step = 5700 (1.679 sec)\n",
      "INFO:tensorflow:global_step/sec: 47.2914\n",
      "INFO:tensorflow:loss = 0.3631224, step = 5800 (2.114 sec)\n",
      "INFO:tensorflow:Calling checkpoint listeners before saving checkpoint 5860...\n",
      "INFO:tensorflow:Saving checkpoints for 5860 into C:\\Users\\23668\\AppData\\Local\\Temp\\tmpf9zluxai\\model.ckpt.\n",
      "INFO:tensorflow:Calling checkpoint listeners after saving checkpoint 5860...\n",
      "INFO:tensorflow:Loss for final step: 0.45837417.\n",
      "<tensorflow_estimator.python.estimator.estimator.EstimatorV2 object at 0x0000021E0B420E48>\n"
     ]
    }
   ],
   "execution_count": 8
  },
  {
   "metadata": {
    "ExecuteTime": {
     "end_time": "2024-06-23T12:02:25.002762Z",
     "start_time": "2024-06-23T12:02:22.953407Z"
    }
   },
   "cell_type": "code",
   "source": "estimator.evaluate(input_fn=lambda: input_fn(test_images, test_labels,epochs=1, batch_size=BATCH_SIZE))",
   "id": "6c089f19a659d4bf",
   "outputs": [
    {
     "name": "stdout",
     "output_type": "stream",
     "text": [
      "INFO:tensorflow:Calling model_fn.\n",
      "INFO:tensorflow:Done calling model_fn.\n",
      "INFO:tensorflow:Starting evaluation at 2024-06-23T20:02:23\n",
      "INFO:tensorflow:Graph was finalized.\n",
      "INFO:tensorflow:Restoring parameters from C:\\Users\\23668\\AppData\\Local\\Temp\\tmp9rowxr56\\model.ckpt-5860\n",
      "INFO:tensorflow:Running local_init_op.\n"
     ]
    },
    {
     "name": "stderr",
     "output_type": "stream",
     "text": [
      "D:\\environment\\anaconda3\\envs\\tensorflow\\lib\\site-packages\\keras\\engine\\training_v1.py:2332: UserWarning: `Model.state_updates` will be removed in a future version. This property should not be used in TensorFlow 2.0, as `updates` are applied automatically.\n",
      "  updates = self.state_updates\n"
     ]
    },
    {
     "name": "stdout",
     "output_type": "stream",
     "text": [
      "INFO:tensorflow:Done running local_init_op.\n",
      "INFO:tensorflow:Inference Time : 1.42013s\n",
      "INFO:tensorflow:Finished evaluation at 2024-06-23-20:02:24\n",
      "INFO:tensorflow:Saving dict for global step 5860: accuracy = 0.8441, global_step = 5860, loss = 0.42820936\n",
      "INFO:tensorflow:Saving 'checkpoint_path' summary for global step 5860: C:\\Users\\23668\\AppData\\Local\\Temp\\tmp9rowxr56\\model.ckpt-5860\n"
     ]
    },
    {
     "data": {
      "text/plain": [
       "{'accuracy': 0.8441, 'loss': 0.42820936, 'global_step': 5860}"
      ]
     },
     "execution_count": 15,
     "metadata": {},
     "output_type": "execute_result"
    }
   ],
   "execution_count": 15
  },
  {
   "metadata": {},
   "cell_type": "code",
   "outputs": [],
   "execution_count": null,
   "source": "",
   "id": "43dbdf304c68236"
  }
 ],
 "metadata": {
  "kernelspec": {
   "display_name": "Python 3",
   "language": "python",
   "name": "python3"
  },
  "language_info": {
   "codemirror_mode": {
    "name": "ipython",
    "version": 2
   },
   "file_extension": ".py",
   "mimetype": "text/x-python",
   "name": "python",
   "nbconvert_exporter": "python",
   "pygments_lexer": "ipython2",
   "version": "2.7.6"
  }
 },
 "nbformat": 4,
 "nbformat_minor": 5
}
