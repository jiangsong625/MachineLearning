{
 "cells": [
  {
   "cell_type": "code",
   "execution_count": 1,
   "id": "initial_id",
   "metadata": {
    "ExecuteTime": {
     "end_time": "2024-06-12T08:03:11.052910Z",
     "start_time": "2024-06-12T08:03:08.335915Z"
    },
    "collapsed": true
   },
   "outputs": [],
   "source": [
    "import tensorflow as tf\n",
    "from tensorflow.keras import datasets, layers, models, optimizers\n",
    "import numpy as np\n",
    "from tensorflow.keras.preprocessing.image import ImageDataGenerator"
   ]
  },
  {
   "cell_type": "markdown",
   "id": "776d9c7eb4ded0a",
   "metadata": {},
   "source": [
    "CIFAR-10数据集包含10个类别，每个类别有6000张图片，每张照片大小为32*32，颜色为RGB。"
   ]
  },
  {
   "cell_type": "code",
   "execution_count": 2,
   "id": "fc161e5ff47e396",
   "metadata": {
    "ExecuteTime": {
     "end_time": "2024-06-12T08:03:16.155312Z",
     "start_time": "2024-06-12T08:03:16.136363Z"
    }
   },
   "outputs": [],
   "source": [
    "IMG_CHANNELS = 3\n",
    "IMG_ROWS = 32\n",
    "IMG_COLS = 32\n",
    "\n",
    "BATCH_SIZE = 128\n",
    "EPOCHS = 30\n",
    "CLASSES = 10\n",
    "VALIDATION_SPLIT = 0.2\n",
    "OPTIM = tf.keras.optimizers.Adam()"
   ]
  },
  {
   "cell_type": "code",
   "execution_count": 3,
   "id": "25f48097f9c9e882",
   "metadata": {
    "ExecuteTime": {
     "end_time": "2024-06-12T08:03:20.420257Z",
     "start_time": "2024-06-12T08:03:17.927882Z"
    }
   },
   "outputs": [],
   "source": [
    "(x_train, y_train), (x_test, y_test) = datasets.cifar10.load_data()\n",
    "x_train = x_train.astype('float32')\n",
    "x_test = x_test.astype('float32')\n",
    "# normalize\n",
    "mean = np.mean(x_train, axis=(0, 1, 2, 3))\n",
    "std = np.std(x_train, axis=(0, 1, 2, 3))\n",
    "y_train = tf.keras.utils.to_categorical(y_train, CLASSES)\n",
    "y_test = tf.keras.utils.to_categorical(y_test, CLASSES)"
   ]
  },
  {
   "cell_type": "code",
   "execution_count": 4,
   "id": "b97adf1159bd3896",
   "metadata": {
    "ExecuteTime": {
     "end_time": "2024-06-12T08:03:20.435218Z",
     "start_time": "2024-06-12T08:03:20.422251Z"
    }
   },
   "outputs": [],
   "source": [
    "def build(input_shape, classes):\n",
    "    model = models.Sequential()\n",
    "    # 卷积层\n",
    "    model.add(layers.Convolution2D(32, (3, 3), activation='relu', input_shape=input_shape))\n",
    "    # 池化层\n",
    "    model.add(layers.MaxPooling2D(pool_size=(2, 2)))\n",
    "    # 失活层\n",
    "    model.add(layers.Dropout(0.25))\n",
    "    # 稠密网络\n",
    "    model.add(layers.Flatten())\n",
    "    model.add(layers.Dense(512, activation='relu'))\n",
    "    model.add(layers.Dropout(0.5))\n",
    "    model.add(layers.Dense(classes, activation='softmax'))\n",
    "    return model"
   ]
  },
  {
   "cell_type": "code",
   "execution_count": 5,
   "id": "891aac1921efec8c",
   "metadata": {
    "ExecuteTime": {
     "end_time": "2024-06-12T08:03:27.154293Z",
     "start_time": "2024-06-12T08:03:27.147313Z"
    }
   },
   "outputs": [],
   "source": [
    "callbacks = [tf.keras.callbacks.TensorBoard(log_dir='./CIFAR-10/logs', histogram_freq=1)]"
   ]
  },
  {
   "cell_type": "code",
   "execution_count": 6,
   "id": "828fafd1fd2906f9",
   "metadata": {
    "ExecuteTime": {
     "end_time": "2024-06-12T08:18:19.066624Z",
     "start_time": "2024-06-12T08:03:28.080242Z"
    }
   },
   "outputs": [
    {
     "name": "stdout",
     "output_type": "stream",
     "text": [
      "Epoch 1/30\n",
      "313/313 [==============================] - 25s 79ms/step - loss: 15.2326 - accuracy: 0.0991 - val_loss: 2.3036 - val_accuracy: 0.0953\n",
      "Epoch 2/30\n",
      "313/313 [==============================] - 27s 86ms/step - loss: 2.3030 - accuracy: 0.0988 - val_loss: 2.3023 - val_accuracy: 0.0964\n",
      "Epoch 3/30\n",
      "313/313 [==============================] - 33s 104ms/step - loss: 2.3017 - accuracy: 0.1025 - val_loss: 2.2977 - val_accuracy: 0.1016\n",
      "Epoch 4/30\n",
      "313/313 [==============================] - 38s 120ms/step - loss: 2.2975 - accuracy: 0.1083 - val_loss: 2.3023 - val_accuracy: 0.0965\n",
      "Epoch 5/30\n",
      "313/313 [==============================] - 32s 103ms/step - loss: 2.2966 - accuracy: 0.1075 - val_loss: 2.2882 - val_accuracy: 0.1082\n",
      "Epoch 6/30\n",
      "313/313 [==============================] - 33s 107ms/step - loss: 2.2802 - accuracy: 0.1164 - val_loss: 2.2163 - val_accuracy: 0.1588\n",
      "Epoch 7/30\n",
      "313/313 [==============================] - 34s 109ms/step - loss: 2.1868 - accuracy: 0.1567 - val_loss: 2.0588 - val_accuracy: 0.2287\n",
      "Epoch 8/30\n",
      "313/313 [==============================] - 33s 105ms/step - loss: 2.1132 - accuracy: 0.1762 - val_loss: 1.9770 - val_accuracy: 0.2517\n",
      "Epoch 9/30\n",
      "313/313 [==============================] - 34s 109ms/step - loss: 2.0688 - accuracy: 0.1931 - val_loss: 1.9107 - val_accuracy: 0.2722\n",
      "Epoch 10/30\n",
      "313/313 [==============================] - 40s 128ms/step - loss: 1.9824 - accuracy: 0.2298 - val_loss: 1.7823 - val_accuracy: 0.3065\n",
      "Epoch 11/30\n",
      "313/313 [==============================] - 37s 117ms/step - loss: 1.9163 - accuracy: 0.2571 - val_loss: 1.6893 - val_accuracy: 0.3929\n",
      "Epoch 12/30\n",
      "313/313 [==============================] - 35s 112ms/step - loss: 1.8193 - accuracy: 0.3114 - val_loss: 1.6132 - val_accuracy: 0.4323\n",
      "Epoch 13/30\n",
      "313/313 [==============================] - 36s 114ms/step - loss: 1.7482 - accuracy: 0.3376 - val_loss: 1.5660 - val_accuracy: 0.4607\n",
      "Epoch 14/30\n",
      "313/313 [==============================] - 36s 114ms/step - loss: 1.7012 - accuracy: 0.3649 - val_loss: 1.4786 - val_accuracy: 0.4979\n",
      "Epoch 15/30\n",
      "313/313 [==============================] - 35s 112ms/step - loss: 1.6517 - accuracy: 0.3823 - val_loss: 1.4728 - val_accuracy: 0.4973\n",
      "Epoch 16/30\n",
      "313/313 [==============================] - 34s 110ms/step - loss: 1.6310 - accuracy: 0.3907 - val_loss: 1.4442 - val_accuracy: 0.4963\n",
      "Epoch 17/30\n",
      "313/313 [==============================] - 35s 111ms/step - loss: 1.5889 - accuracy: 0.4036 - val_loss: 1.4004 - val_accuracy: 0.5271\n",
      "Epoch 18/30\n",
      "313/313 [==============================] - 24s 77ms/step - loss: 1.5768 - accuracy: 0.4108 - val_loss: 1.4016 - val_accuracy: 0.5294\n",
      "Epoch 19/30\n",
      "313/313 [==============================] - 25s 80ms/step - loss: 1.5585 - accuracy: 0.4214 - val_loss: 1.3292 - val_accuracy: 0.5509\n",
      "Epoch 20/30\n",
      "313/313 [==============================] - 25s 79ms/step - loss: 1.5220 - accuracy: 0.4312 - val_loss: 1.3584 - val_accuracy: 0.5330\n",
      "Epoch 21/30\n",
      "313/313 [==============================] - 23s 75ms/step - loss: 1.5028 - accuracy: 0.4411 - val_loss: 1.4012 - val_accuracy: 0.5204\n",
      "Epoch 22/30\n",
      "313/313 [==============================] - 26s 82ms/step - loss: 1.4787 - accuracy: 0.4500 - val_loss: 1.3457 - val_accuracy: 0.5408\n",
      "Epoch 23/30\n",
      "313/313 [==============================] - 23s 73ms/step - loss: 1.4615 - accuracy: 0.4594 - val_loss: 1.3059 - val_accuracy: 0.5482\n",
      "Epoch 24/30\n",
      "313/313 [==============================] - 24s 78ms/step - loss: 1.4516 - accuracy: 0.4699 - val_loss: 1.2950 - val_accuracy: 0.5583\n",
      "Epoch 25/30\n",
      "313/313 [==============================] - 23s 73ms/step - loss: 1.4347 - accuracy: 0.4773 - val_loss: 1.2987 - val_accuracy: 0.5547\n",
      "Epoch 26/30\n",
      "313/313 [==============================] - 24s 75ms/step - loss: 1.4147 - accuracy: 0.4852 - val_loss: 1.2661 - val_accuracy: 0.5558\n",
      "Epoch 27/30\n",
      "313/313 [==============================] - 24s 75ms/step - loss: 1.3971 - accuracy: 0.4927 - val_loss: 1.2952 - val_accuracy: 0.5549\n",
      "Epoch 28/30\n",
      "313/313 [==============================] - 25s 79ms/step - loss: 1.3874 - accuracy: 0.4967 - val_loss: 1.2932 - val_accuracy: 0.5490\n",
      "Epoch 29/30\n",
      "313/313 [==============================] - 25s 78ms/step - loss: 1.3704 - accuracy: 0.5048 - val_loss: 1.2889 - val_accuracy: 0.5586\n",
      "Epoch 30/30\n",
      "313/313 [==============================] - 25s 78ms/step - loss: 1.3527 - accuracy: 0.5104 - val_loss: 1.2489 - val_accuracy: 0.5740\n"
     ]
    },
    {
     "data": {
      "text/plain": [
       "<keras.callbacks.History at 0x1d6802255f8>"
      ]
     },
     "execution_count": 6,
     "metadata": {},
     "output_type": "execute_result"
    }
   ],
   "source": [
    "model = build(input_shape=(IMG_ROWS, IMG_COLS, IMG_CHANNELS), classes=CLASSES)\n",
    "model.compile(loss='categorical_crossentropy', optimizer=OPTIM, metrics=['accuracy'])\n",
    "model.fit(x_train, y_train, \n",
    "          batch_size=BATCH_SIZE,\n",
    "          epochs=EPOCHS, \n",
    "          validation_split=VALIDATION_SPLIT, \n",
    "          callbacks=callbacks)"
   ]
  },
  {
   "cell_type": "code",
   "execution_count": 7,
   "id": "834fcf8590cfb537",
   "metadata": {
    "ExecuteTime": {
     "end_time": "2024-06-12T08:18:28.816447Z",
     "start_time": "2024-06-12T08:18:26.096702Z"
    }
   },
   "outputs": [
    {
     "name": "stdout",
     "output_type": "stream",
     "text": [
      "Test loss: 1.2451163530349731\n",
      "Test accuracy: 0.5687999725341797\n"
     ]
    }
   ],
   "source": [
    "score = model.evaluate(x_test, y_test, verbose=0)\n",
    "print('Test loss:', score[0])\n",
    "print('Test accuracy:', score[1])"
   ]
  },
  {
   "cell_type": "code",
   "execution_count": 8,
   "id": "26992005a289622d",
   "metadata": {
    "ExecuteTime": {
     "end_time": "2024-06-12T08:20:23.967207Z",
     "start_time": "2024-06-12T08:20:23.857182Z"
    }
   },
   "outputs": [],
   "source": [
    "# 模型保存\n",
    "model.save('./CIFAR-10/save/CIFAR-10_1.h5')"
   ]
  },
  {
   "cell_type": "markdown",
   "id": "d7e1e4902507468",
   "metadata": {},
   "source": [
    "使用更深的网络提高CIFAE-10的性能"
   ]
  },
  {
   "cell_type": "code",
   "execution_count": 9,
   "id": "82c4088138aaf2d4",
   "metadata": {
    "ExecuteTime": {
     "end_time": "2024-06-12T08:20:27.454962Z",
     "start_time": "2024-06-12T08:20:27.443992Z"
    }
   },
   "outputs": [],
   "source": [
    "def build_more():\n",
    "    model = models.Sequential()\n",
    "    model.add(layers.Convolution2D(32, (3, 3), padding='same', activation='relu', input_shape=(IMG_ROWS, IMG_COLS, IMG_CHANNELS)))\n",
    "    model.add(layers.BatchNormalization())\n",
    "    model.add(layers.Convolution2D(32, (3, 3), padding='same', activation='relu'))\n",
    "    model.add(layers.BatchNormalization())\n",
    "    model.add(layers.MaxPooling2D(pool_size=(2, 2)))\n",
    "    model.add(layers.Dropout(0.2))\n",
    "    \n",
    "    model.add(layers.Convolution2D(64, (3, 3), padding='same', activation='relu'))\n",
    "    model.add(layers.BatchNormalization())\n",
    "    model.add(layers.Convolution2D(64, (3, 3), padding='same', activation='relu'))\n",
    "    model.add(layers.BatchNormalization())\n",
    "    model.add(layers.MaxPooling2D(pool_size=(2, 2)))\n",
    "    model.add(layers.Dropout(0.3))\n",
    "    \n",
    "    model.add(layers.Convolution2D(128, (3, 3), padding='same', activation='relu'))\n",
    "    model.add(layers.BatchNormalization())\n",
    "    model.add(layers.Convolution2D(128, (3, 3), padding='same', activation='relu'))\n",
    "    model.add(layers.BatchNormalization())\n",
    "    model.add(layers.MaxPooling2D(pool_size=(2, 2)))\n",
    "    model.add(layers.Dropout(0.4))\n",
    "    \n",
    "    model.add(layers.Flatten())\n",
    "    model.add(layers.Dense(10, activation='softmax'))\n",
    "    return model"
   ]
  },
  {
   "cell_type": "code",
   "execution_count": 10,
   "id": "8ed481b277096735",
   "metadata": {
    "ExecuteTime": {
     "end_time": "2024-06-12T08:20:32.466724Z",
     "start_time": "2024-06-12T08:20:32.263909Z"
    }
   },
   "outputs": [
    {
     "name": "stdout",
     "output_type": "stream",
     "text": [
      "Model: \"sequential_1\"\n",
      "_________________________________________________________________\n",
      " Layer (type)                Output Shape              Param #   \n",
      "=================================================================\n",
      " conv2d_1 (Conv2D)           (None, 32, 32, 32)        896       \n",
      "                                                                 \n",
      " batch_normalization (BatchN  (None, 32, 32, 32)       128       \n",
      " ormalization)                                                   \n",
      "                                                                 \n",
      " conv2d_2 (Conv2D)           (None, 32, 32, 32)        9248      \n",
      "                                                                 \n",
      " batch_normalization_1 (Batc  (None, 32, 32, 32)       128       \n",
      " hNormalization)                                                 \n",
      "                                                                 \n",
      " max_pooling2d_1 (MaxPooling  (None, 16, 16, 32)       0         \n",
      " 2D)                                                             \n",
      "                                                                 \n",
      " dropout_2 (Dropout)         (None, 16, 16, 32)        0         \n",
      "                                                                 \n",
      " conv2d_3 (Conv2D)           (None, 16, 16, 64)        18496     \n",
      "                                                                 \n",
      " batch_normalization_2 (Batc  (None, 16, 16, 64)       256       \n",
      " hNormalization)                                                 \n",
      "                                                                 \n",
      " conv2d_4 (Conv2D)           (None, 16, 16, 64)        36928     \n",
      "                                                                 \n",
      " batch_normalization_3 (Batc  (None, 16, 16, 64)       256       \n",
      " hNormalization)                                                 \n",
      "                                                                 \n",
      " max_pooling2d_2 (MaxPooling  (None, 8, 8, 64)         0         \n",
      " 2D)                                                             \n",
      "                                                                 \n",
      " dropout_3 (Dropout)         (None, 8, 8, 64)          0         \n",
      "                                                                 \n",
      " conv2d_5 (Conv2D)           (None, 8, 8, 128)         73856     \n",
      "                                                                 \n",
      " batch_normalization_4 (Batc  (None, 8, 8, 128)        512       \n",
      " hNormalization)                                                 \n",
      "                                                                 \n",
      " conv2d_6 (Conv2D)           (None, 8, 8, 128)         147584    \n",
      "                                                                 \n",
      " batch_normalization_5 (Batc  (None, 8, 8, 128)        512       \n",
      " hNormalization)                                                 \n",
      "                                                                 \n",
      " max_pooling2d_3 (MaxPooling  (None, 4, 4, 128)        0         \n",
      " 2D)                                                             \n",
      "                                                                 \n",
      " dropout_4 (Dropout)         (None, 4, 4, 128)         0         \n",
      "                                                                 \n",
      " flatten_1 (Flatten)         (None, 2048)              0         \n",
      "                                                                 \n",
      " dense_2 (Dense)             (None, 10)                20490     \n",
      "                                                                 \n",
      "=================================================================\n",
      "Total params: 309,290\n",
      "Trainable params: 308,394\n",
      "Non-trainable params: 896\n",
      "_________________________________________________________________\n"
     ]
    }
   ],
   "source": [
    "model_more1 = build_more()\n",
    "model_more1.compile(loss='categorical_crossentropy', optimizer='RMSprop', metrics=['accuracy'])\n",
    "batch_size = 64\n",
    "model_more1.summary()"
   ]
  },
  {
   "cell_type": "code",
   "execution_count": 11,
   "id": "bdcb443dd36a3e43",
   "metadata": {
    "ExecuteTime": {
     "end_time": "2024-06-12T09:53:18.645212Z",
     "start_time": "2024-06-12T08:20:36.354079Z"
    }
   },
   "outputs": [
    {
     "name": "stdout",
     "output_type": "stream",
     "text": [
      "Epoch 1/30\n",
      "782/782 [==============================] - 214s 272ms/step - loss: 1.7717 - accuracy: 0.4793 - val_loss: 1.7164 - val_accuracy: 0.4969\n",
      "Epoch 2/30\n",
      "782/782 [==============================] - 230s 294ms/step - loss: 1.1818 - accuracy: 0.6469 - val_loss: 0.9960 - val_accuracy: 0.6880\n",
      "Epoch 3/30\n",
      "782/782 [==============================] - 227s 290ms/step - loss: 0.9589 - accuracy: 0.7034 - val_loss: 1.0014 - val_accuracy: 0.6679\n",
      "Epoch 4/30\n",
      "782/782 [==============================] - 221s 283ms/step - loss: 0.8277 - accuracy: 0.7358 - val_loss: 0.9029 - val_accuracy: 0.6920\n",
      "Epoch 5/30\n",
      "782/782 [==============================] - 184s 236ms/step - loss: 0.7183 - accuracy: 0.7611 - val_loss: 0.8557 - val_accuracy: 0.7193\n",
      "Epoch 6/30\n",
      "782/782 [==============================] - 151s 194ms/step - loss: 0.6427 - accuracy: 0.7805 - val_loss: 0.9621 - val_accuracy: 0.6943\n",
      "Epoch 7/30\n",
      "782/782 [==============================] - 152s 194ms/step - loss: 0.5903 - accuracy: 0.7986 - val_loss: 0.6973 - val_accuracy: 0.7716\n",
      "Epoch 8/30\n",
      "782/782 [==============================] - 152s 195ms/step - loss: 0.5453 - accuracy: 0.8130 - val_loss: 0.7497 - val_accuracy: 0.7479\n",
      "Epoch 9/30\n",
      "782/782 [==============================] - 152s 194ms/step - loss: 0.5097 - accuracy: 0.8247 - val_loss: 1.2669 - val_accuracy: 0.6508\n",
      "Epoch 10/30\n",
      "782/782 [==============================] - 152s 195ms/step - loss: 0.4832 - accuracy: 0.8336 - val_loss: 0.5518 - val_accuracy: 0.8140\n",
      "Epoch 11/30\n",
      "782/782 [==============================] - 156s 200ms/step - loss: 0.4522 - accuracy: 0.8442 - val_loss: 0.6150 - val_accuracy: 0.7907\n",
      "Epoch 12/30\n",
      "782/782 [==============================] - 169s 217ms/step - loss: 0.4280 - accuracy: 0.8521 - val_loss: 0.6253 - val_accuracy: 0.7888\n",
      "Epoch 13/30\n",
      "782/782 [==============================] - 278s 356ms/step - loss: 0.4068 - accuracy: 0.8591 - val_loss: 0.5784 - val_accuracy: 0.8075\n",
      "Epoch 14/30\n",
      "782/782 [==============================] - 302s 386ms/step - loss: 0.3875 - accuracy: 0.8659 - val_loss: 0.5343 - val_accuracy: 0.8241\n",
      "Epoch 15/30\n",
      "782/782 [==============================] - 255s 326ms/step - loss: 0.3691 - accuracy: 0.8697 - val_loss: 0.5559 - val_accuracy: 0.8209\n",
      "Epoch 16/30\n",
      "782/782 [==============================] - 293s 375ms/step - loss: 0.3579 - accuracy: 0.8755 - val_loss: 0.5243 - val_accuracy: 0.8317\n",
      "Epoch 17/30\n",
      "782/782 [==============================] - 229s 292ms/step - loss: 0.3495 - accuracy: 0.8778 - val_loss: 0.5959 - val_accuracy: 0.8118\n",
      "Epoch 18/30\n",
      "782/782 [==============================] - 146s 187ms/step - loss: 0.3301 - accuracy: 0.8838 - val_loss: 0.5862 - val_accuracy: 0.8153\n",
      "Epoch 19/30\n",
      "782/782 [==============================] - 152s 195ms/step - loss: 0.3201 - accuracy: 0.8870 - val_loss: 0.5644 - val_accuracy: 0.8195\n",
      "Epoch 20/30\n",
      "782/782 [==============================] - 159s 204ms/step - loss: 0.3090 - accuracy: 0.8914 - val_loss: 0.5261 - val_accuracy: 0.8393\n",
      "Epoch 21/30\n",
      "782/782 [==============================] - 161s 206ms/step - loss: 0.2992 - accuracy: 0.8974 - val_loss: 0.5103 - val_accuracy: 0.8312\n",
      "Epoch 22/30\n",
      "782/782 [==============================] - 160s 205ms/step - loss: 0.2893 - accuracy: 0.8980 - val_loss: 0.6863 - val_accuracy: 0.7888\n",
      "Epoch 23/30\n",
      "782/782 [==============================] - 155s 198ms/step - loss: 0.2807 - accuracy: 0.9012 - val_loss: 0.5211 - val_accuracy: 0.8359\n",
      "Epoch 24/30\n",
      "782/782 [==============================] - 157s 200ms/step - loss: 0.2720 - accuracy: 0.9040 - val_loss: 0.5451 - val_accuracy: 0.8338\n",
      "Epoch 25/30\n",
      "782/782 [==============================] - 154s 198ms/step - loss: 0.2689 - accuracy: 0.9041 - val_loss: 0.5112 - val_accuracy: 0.8426\n",
      "Epoch 26/30\n",
      "782/782 [==============================] - 157s 200ms/step - loss: 0.2576 - accuracy: 0.9087 - val_loss: 0.5146 - val_accuracy: 0.8391\n",
      "Epoch 27/30\n",
      "782/782 [==============================] - 157s 201ms/step - loss: 0.2495 - accuracy: 0.9109 - val_loss: 0.5400 - val_accuracy: 0.8336\n",
      "Epoch 28/30\n",
      "782/782 [==============================] - 161s 205ms/step - loss: 0.2482 - accuracy: 0.9110 - val_loss: 0.4994 - val_accuracy: 0.8456\n",
      "Epoch 29/30\n",
      "782/782 [==============================] - 162s 207ms/step - loss: 0.2404 - accuracy: 0.9153 - val_loss: 0.5066 - val_accuracy: 0.8467\n",
      "Epoch 30/30\n",
      "782/782 [==============================] - 162s 207ms/step - loss: 0.2322 - accuracy: 0.9179 - val_loss: 0.5152 - val_accuracy: 0.8480\n"
     ]
    },
    {
     "data": {
      "text/plain": [
       "<keras.callbacks.History at 0x1d68140e128>"
      ]
     },
     "execution_count": 11,
     "metadata": {},
     "output_type": "execute_result"
    }
   ],
   "source": [
    "EPOCHS = 30\n",
    "model_more1.fit(x_train, y_train,\n",
    "               batch_size=batch_size,\n",
    "               epochs=EPOCHS,\n",
    "               validation_data=(x_test, y_test),)"
   ]
  },
  {
   "cell_type": "code",
   "execution_count": 12,
   "id": "81d5766b9d79cc6a",
   "metadata": {
    "ExecuteTime": {
     "end_time": "2024-06-12T10:17:20.631632Z",
     "start_time": "2024-06-12T10:17:14.246875Z"
    }
   },
   "outputs": [
    {
     "name": "stdout",
     "output_type": "stream",
     "text": [
      "157/157 [==============================] - 6s 39ms/step - loss: 0.5152 - accuracy: 0.8480\n",
      "Test loss: 0.5151849389076233\n",
      "Test accuracy: 0.8479999899864197\n"
     ]
    }
   ],
   "source": [
    "score = model_more1.evaluate(x_test, y_test, batch_size=batch_size)\n",
    "print('Test loss:', score[0])\n",
    "print('Test accuracy:', score[1])"
   ]
  },
  {
   "cell_type": "code",
   "execution_count": 13,
   "id": "8946893a90b18a4c",
   "metadata": {
    "ExecuteTime": {
     "end_time": "2024-06-12T10:17:23.632227Z",
     "start_time": "2024-06-12T10:17:23.538917Z"
    }
   },
   "outputs": [],
   "source": [
    "model_more1.save('./CIFAR-10/save/CIFAR-10_2.h5')"
   ]
  },
  {
   "cell_type": "code",
   "execution_count": 14,
   "id": "a0cc35b9c0627b98",
   "metadata": {
    "ExecuteTime": {
     "end_time": "2024-06-12T10:17:27.417484Z",
     "start_time": "2024-06-12T10:17:26.423960Z"
    }
   },
   "outputs": [],
   "source": [
    "datagen = ImageDataGenerator(\n",
    "    rotation_range=30,\n",
    "    width_shift_range=0.2,\n",
    "    height_shift_range=0.2,\n",
    "    horizontal_flip=True)\n",
    "datagen.fit(x_train)"
   ]
  },
  {
   "cell_type": "code",
   "execution_count": null,
   "id": "35736b37d73fb604",
   "metadata": {
    "ExecuteTime": {
     "start_time": "2024-06-12T12:30:26.537924Z"
    },
    "jupyter": {
     "is_executing": true
    }
   },
   "outputs": [
    {
     "name": "stdout",
     "output_type": "stream",
     "text": [
      "Epoch 1/30\n",
      "156/781 [====>.........................] - ETA: 2:03 - loss: 2.5788 - accuracy: 0.2637"
     ]
    }
   ],
   "source": [
    "batch_size = 64\n",
    "model_more2 = build_more()\n",
    "model_more2.compile(loss='categorical_crossentropy', optimizer='RMSprop', metrics=['accuracy'])\n",
    "model_more2.fit(\n",
    "    datagen.flow(x_train, y_train, batch_size=batch_size),\n",
    "    steps_per_epoch=x_train.shape[0] // batch_size,\n",
    "    epochs=EPOCHS,\n",
    "    validation_data=(x_test, y_test),\n",
    "    workers=4)"
   ]
  },
  {
   "cell_type": "code",
   "execution_count": null,
   "id": "4eff921bc4e60c54",
   "metadata": {},
   "outputs": [],
   "source": [
    "model_json = model_more2.to_json()\n",
    "with open(\"model.json\", \"w\") as json_file:\n",
    "    json_file.write(model_json)\n",
    "model_more2.save_weights('model.h5')"
   ]
  },
  {
   "cell_type": "code",
   "execution_count": null,
   "id": "231e9491afd0795f",
   "metadata": {},
   "outputs": [],
   "source": [
    "score = model_more2.evaluate(x_test, y_test, batch_size=batch_size)\n",
    "print('Test loss:', score[0])\n",
    "print('Test accuracy:', score[1])"
   ]
  },
  {
   "cell_type": "code",
   "execution_count": null,
   "id": "4e85dd2a9f4d063f",
   "metadata": {},
   "outputs": [],
   "source": [
    "# 保存模型\n",
    "model_more2.save('./CIFAR-10/save/CIFAR-10_3.h5')"
   ]
  }
 ],
 "metadata": {
  "kernelspec": {
   "display_name": "Python 3 (ipykernel)",
   "language": "python",
   "name": "python3"
  },
  "language_info": {
   "codemirror_mode": {
    "name": "ipython",
    "version": 2
   },
   "file_extension": ".py",
   "mimetype": "text/x-python",
   "name": "python",
   "nbconvert_exporter": "python",
   "pygments_lexer": "ipython2",
   "version": "2.7.6"
  }
 },
 "nbformat": 4,
 "nbformat_minor": 5
}
