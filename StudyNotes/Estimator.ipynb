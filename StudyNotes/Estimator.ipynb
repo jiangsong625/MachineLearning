{
 "cells": [
  {
   "metadata": {},
   "cell_type": "markdown",
   "source": "导入所需模块",
   "id": "b60010003e8fabf1"
  },
  {
   "cell_type": "code",
   "id": "initial_id",
   "metadata": {
    "collapsed": true,
    "ExecuteTime": {
     "end_time": "2024-06-09T12:22:42.395137Z",
     "start_time": "2024-06-09T12:22:39.721790Z"
    }
   },
   "source": [
    "import tensorflow as tf\n",
    "from tensorflow import keras\n",
    "import numpy as np\n",
    "import matplotlib.pyplot as plt"
   ],
   "outputs": [],
   "execution_count": 1
  },
  {
   "metadata": {},
   "cell_type": "code",
   "source": "print(tf.__version__)",
   "id": "1f7cd4886120d883",
   "outputs": [],
   "execution_count": null
  },
  {
   "metadata": {},
   "cell_type": "markdown",
   "source": "获取tensorflow.keras.datasets.mnist数据集",
   "id": "1bf04bfc0b88a998"
  },
  {
   "metadata": {
    "ExecuteTime": {
     "end_time": "2024-06-09T12:27:14.333676Z",
     "start_time": "2024-06-09T12:27:14.086123Z"
    }
   },
   "cell_type": "code",
   "source": "(train_data, train_labels), (test_data, test_labels) = keras.datasets.mnist.load_data()",
   "id": "56495236cfec8e8a",
   "outputs": [],
   "execution_count": 12
  },
  {
   "metadata": {
    "ExecuteTime": {
     "end_time": "2024-06-09T12:22:45.825353Z",
     "start_time": "2024-06-09T12:22:45.809281Z"
    }
   },
   "cell_type": "code",
   "source": "print(f\"shape of train_data: {train_data.shape},type of train_label: {type(train_labels)}\")",
   "id": "d8b8357cb3ea7333",
   "outputs": [
    {
     "name": "stdout",
     "output_type": "stream",
     "text": [
      "shape of train_data: (60000, 28, 28),type of train_label: <class 'numpy.ndarray'>\n"
     ]
    }
   ],
   "execution_count": 3
  },
  {
   "metadata": {},
   "cell_type": "markdown",
   "source": "数据预处理",
   "id": "ad48b28223e0ecdb"
  },
  {
   "metadata": {
    "ExecuteTime": {
     "end_time": "2024-06-09T12:27:16.901232Z",
     "start_time": "2024-06-09T12:27:16.812918Z"
    }
   },
   "cell_type": "code",
   "source": [
    "train_data =train_data / np.float32(255)\n",
    "train_labels = train_labels.astype(np.int32)\n",
    "test_data = test_data / np.float32(255)\n",
    "test_labels = test_labels.astype(np.int32)"
   ],
   "id": "d550ddc81b46dc9a",
   "outputs": [],
   "execution_count": 13
  },
  {
   "metadata": {},
   "cell_type": "markdown",
   "source": "使用Tensorflow的feature_column模块定义大小为28\\*28的图片，图片像素为28\\*28，图片像素值在0-1之间",
   "id": "c127b3ae4985c99d"
  },
  {
   "metadata": {
    "ExecuteTime": {
     "end_time": "2024-06-09T12:22:50.462119Z",
     "start_time": "2024-06-09T12:22:50.440178Z"
    }
   },
   "cell_type": "code",
   "source": [
    "feature_columns = [tf.feature_column.numeric_column(\"x\", shape=[28, 28])]\n",
    "feature_columns"
   ],
   "id": "8a350cbec6537c31",
   "outputs": [
    {
     "data": {
      "text/plain": [
       "[NumericColumn(key='x', shape=(28, 28), default_value=None, dtype=tf.float32, normalizer_fn=None)]"
      ]
     },
     "execution_count": 5,
     "metadata": {},
     "output_type": "execute_result"
    }
   ],
   "execution_count": 5
  },
  {
   "metadata": {},
   "cell_type": "markdown",
   "source": "创建logistic回归估计器。使用一个简单的LinearClassifier。后续使用DNNClassifier",
   "id": "dc34bf3c4225173a"
  },
  {
   "metadata": {
    "ExecuteTime": {
     "end_time": "2024-06-09T12:36:44.347195Z",
     "start_time": "2024-06-09T12:36:44.330642Z"
    }
   },
   "cell_type": "code",
   "source": "LinearClassifier = tf.estimator.LinearClassifier(feature_columns=feature_columns, n_classes=10, model_dir=\"model\\\\model/LinearClassifier\")",
   "id": "90f8228c89dc230",
   "outputs": [
    {
     "name": "stdout",
     "output_type": "stream",
     "text": [
      "INFO:tensorflow:Using default config.\n",
      "INFO:tensorflow:Using config: {'_model_dir': 'model\\\\model/LinearClassifier', '_tf_random_seed': None, '_save_summary_steps': 100, '_save_checkpoints_steps': None, '_save_checkpoints_secs': 600, '_session_config': allow_soft_placement: true\n",
      "graph_options {\n",
      "  rewrite_options {\n",
      "    meta_optimizer_iterations: ONE\n",
      "  }\n",
      "}\n",
      ", '_keep_checkpoint_max': 5, '_keep_checkpoint_every_n_hours': 10000, '_log_step_count_steps': 100, '_train_distribute': None, '_device_fn': None, '_protocol': None, '_eval_distribute': None, '_experimental_distribute': None, '_experimental_max_worker_delay_secs': None, '_session_creation_timeout_secs': 7200, '_checkpoint_save_graph_def': True, '_service': None, '_cluster_spec': ClusterSpec({}), '_task_type': 'worker', '_task_id': 0, '_global_id_in_cluster': 0, '_master': '', '_evaluation_master': '', '_is_chief': True, '_num_ps_replicas': 0, '_num_worker_replicas': 1}\n"
     ]
    }
   ],
   "execution_count": 18
  },
  {
   "metadata": {},
   "cell_type": "markdown",
   "source": "构建一个input_function作为估计器输入",
   "id": "f09c61b0d924ee4f"
  },
  {
   "metadata": {
    "ExecuteTime": {
     "end_time": "2024-06-09T12:36:49.269246Z",
     "start_time": "2024-06-09T12:36:49.259236Z"
    }
   },
   "cell_type": "code",
   "source": "train_input_fn = tf.compat.v1.estimator.inputs.numpy_input_fn(x={\"x\": train_data}, y=train_labels, batch_size=100, num_epochs=None, shuffle=True)",
   "id": "d81b5d087ebffae5",
   "outputs": [],
   "execution_count": 19
  },
  {
   "metadata": {},
   "cell_type": "markdown",
   "source": [
    "- **`tf.compat.v1.estimator.inputs.numpy_input_fn`**: 此为TensorFlow 1.x版本中的兼容性函数，旨在确保从1.x向2.x过渡时的代码兼容性。尽管在TensorFlow 2.x中Estimator API依然可用，但现在更推荐使用`tf.data.Dataset`作为数据输入的标准方式。\n",
    "  \n",
    "- **`x={\"x\": train_data}`**: 定义了模型的输入特征字典，其中键`\"x\"`代表特征列的标识符，`train_data`是对应该特征的实际训练数据集，通常为NumPy数组或其他兼容的数据结构。\n",
    "  \n",
    "- **`y=train_labels`**: 提供了目标变量或标签数据，`train_labels`与`train_data`一一对应，包含了每个样本的目标值。\n",
    "  \n",
    "- **`batch_size=100`**: 设置了每次迭代时送入模型的样本数量为100。较小的批次有利于内存管理，而较大的批次则可能加速训练过程并提升模型收敛质量。\n",
    "  \n",
    "- **`num_epochs=None`**: 指定数据集的遍历次数。设为`None`意味着数据将无限循环直至训练停止条件达成（例如达到预设的迭代步数）。若设定为具体数字，则数据集将被重复使用该指定次数。\n",
    "  \n",
    "- **`shuffle=True`**: 启用数据洗牌功能，在每个epoch开始之前对数据进行随机排序。这一步对于避免模型过拟合、提升泛化能力至关重要，因为它确保了模型在训练过程中能接触到数据的不同排列组合。"
   ],
   "id": "279eefc2a3f663bb"
  },
  {
   "metadata": {
    "ExecuteTime": {
     "end_time": "2024-06-09T12:38:06.358201Z",
     "start_time": "2024-06-09T12:38:05.874731Z"
    }
   },
   "cell_type": "code",
   "source": "LinearClassifier.train(input_fn=train_input_fn, steps=10)",
   "id": "b8618f530c8a2237",
   "outputs": [
    {
     "name": "stdout",
     "output_type": "stream",
     "text": [
      "INFO:tensorflow:Calling model_fn.\n",
      "INFO:tensorflow:Done calling model_fn.\n",
      "INFO:tensorflow:Create CheckpointSaverHook.\n",
      "INFO:tensorflow:Graph was finalized.\n",
      "INFO:tensorflow:Running local_init_op.\n",
      "INFO:tensorflow:Done running local_init_op.\n",
      "INFO:tensorflow:Calling checkpoint listeners before saving checkpoint 0...\n",
      "INFO:tensorflow:Saving checkpoints for 0 into model\\model/LinearClassifier\\model.ckpt.\n"
     ]
    },
    {
     "ename": "UnicodeDecodeError",
     "evalue": "'utf-8' codec can't decode byte 0xd5 in position 159: invalid continuation byte",
     "output_type": "error",
     "traceback": [
      "\u001B[1;31m---------------------------------------------------------------------------\u001B[0m",
      "\u001B[1;31mUnicodeDecodeError\u001B[0m                        Traceback (most recent call last)",
      "\u001B[1;32m~\\AppData\\Local\\Temp\\ipykernel_27488\\3483593407.py\u001B[0m in \u001B[0;36m<module>\u001B[1;34m\u001B[0m\n\u001B[1;32m----> 1\u001B[1;33m \u001B[0mLinearClassifier\u001B[0m\u001B[1;33m.\u001B[0m\u001B[0mtrain\u001B[0m\u001B[1;33m(\u001B[0m\u001B[0minput_fn\u001B[0m\u001B[1;33m=\u001B[0m\u001B[0mtrain_input_fn\u001B[0m\u001B[1;33m,\u001B[0m \u001B[0msteps\u001B[0m\u001B[1;33m=\u001B[0m\u001B[1;36m10\u001B[0m\u001B[1;33m)\u001B[0m\u001B[1;33m\u001B[0m\u001B[1;33m\u001B[0m\u001B[0m\n\u001B[0m",
      "\u001B[1;32mD:\\environment\\anaconda3\\envs\\tensorflow\\lib\\site-packages\\tensorflow_estimator\\python\\estimator\\estimator.py\u001B[0m in \u001B[0;36mtrain\u001B[1;34m(self, input_fn, hooks, steps, max_steps, saving_listeners)\u001B[0m\n\u001B[0;32m    358\u001B[0m \u001B[1;33m\u001B[0m\u001B[0m\n\u001B[0;32m    359\u001B[0m       \u001B[0msaving_listeners\u001B[0m \u001B[1;33m=\u001B[0m \u001B[0m_check_listeners_type\u001B[0m\u001B[1;33m(\u001B[0m\u001B[0msaving_listeners\u001B[0m\u001B[1;33m)\u001B[0m\u001B[1;33m\u001B[0m\u001B[1;33m\u001B[0m\u001B[0m\n\u001B[1;32m--> 360\u001B[1;33m       \u001B[0mloss\u001B[0m \u001B[1;33m=\u001B[0m \u001B[0mself\u001B[0m\u001B[1;33m.\u001B[0m\u001B[0m_train_model\u001B[0m\u001B[1;33m(\u001B[0m\u001B[0minput_fn\u001B[0m\u001B[1;33m,\u001B[0m \u001B[0mhooks\u001B[0m\u001B[1;33m,\u001B[0m \u001B[0msaving_listeners\u001B[0m\u001B[1;33m)\u001B[0m\u001B[1;33m\u001B[0m\u001B[1;33m\u001B[0m\u001B[0m\n\u001B[0m\u001B[0;32m    361\u001B[0m       \u001B[0mlogging\u001B[0m\u001B[1;33m.\u001B[0m\u001B[0minfo\u001B[0m\u001B[1;33m(\u001B[0m\u001B[1;34m'Loss for final step: %s.'\u001B[0m\u001B[1;33m,\u001B[0m \u001B[0mloss\u001B[0m\u001B[1;33m)\u001B[0m\u001B[1;33m\u001B[0m\u001B[1;33m\u001B[0m\u001B[0m\n\u001B[0;32m    362\u001B[0m       \u001B[1;32mreturn\u001B[0m \u001B[0mself\u001B[0m\u001B[1;33m\u001B[0m\u001B[1;33m\u001B[0m\u001B[0m\n",
      "\u001B[1;32mD:\\environment\\anaconda3\\envs\\tensorflow\\lib\\site-packages\\tensorflow_estimator\\python\\estimator\\estimator.py\u001B[0m in \u001B[0;36m_train_model\u001B[1;34m(self, input_fn, hooks, saving_listeners)\u001B[0m\n\u001B[0;32m   1184\u001B[0m       \u001B[1;32mreturn\u001B[0m \u001B[0mself\u001B[0m\u001B[1;33m.\u001B[0m\u001B[0m_train_model_distributed\u001B[0m\u001B[1;33m(\u001B[0m\u001B[0minput_fn\u001B[0m\u001B[1;33m,\u001B[0m \u001B[0mhooks\u001B[0m\u001B[1;33m,\u001B[0m \u001B[0msaving_listeners\u001B[0m\u001B[1;33m)\u001B[0m\u001B[1;33m\u001B[0m\u001B[1;33m\u001B[0m\u001B[0m\n\u001B[0;32m   1185\u001B[0m     \u001B[1;32melse\u001B[0m\u001B[1;33m:\u001B[0m\u001B[1;33m\u001B[0m\u001B[1;33m\u001B[0m\u001B[0m\n\u001B[1;32m-> 1186\u001B[1;33m       \u001B[1;32mreturn\u001B[0m \u001B[0mself\u001B[0m\u001B[1;33m.\u001B[0m\u001B[0m_train_model_default\u001B[0m\u001B[1;33m(\u001B[0m\u001B[0minput_fn\u001B[0m\u001B[1;33m,\u001B[0m \u001B[0mhooks\u001B[0m\u001B[1;33m,\u001B[0m \u001B[0msaving_listeners\u001B[0m\u001B[1;33m)\u001B[0m\u001B[1;33m\u001B[0m\u001B[1;33m\u001B[0m\u001B[0m\n\u001B[0m\u001B[0;32m   1187\u001B[0m \u001B[1;33m\u001B[0m\u001B[0m\n\u001B[0;32m   1188\u001B[0m   \u001B[1;32mdef\u001B[0m \u001B[0m_train_model_default\u001B[0m\u001B[1;33m(\u001B[0m\u001B[0mself\u001B[0m\u001B[1;33m,\u001B[0m \u001B[0minput_fn\u001B[0m\u001B[1;33m,\u001B[0m \u001B[0mhooks\u001B[0m\u001B[1;33m,\u001B[0m \u001B[0msaving_listeners\u001B[0m\u001B[1;33m)\u001B[0m\u001B[1;33m:\u001B[0m\u001B[1;33m\u001B[0m\u001B[1;33m\u001B[0m\u001B[0m\n",
      "\u001B[1;32mD:\\environment\\anaconda3\\envs\\tensorflow\\lib\\site-packages\\tensorflow_estimator\\python\\estimator\\estimator.py\u001B[0m in \u001B[0;36m_train_model_default\u001B[1;34m(self, input_fn, hooks, saving_listeners)\u001B[0m\n\u001B[0;32m   1217\u001B[0m       return self._train_with_estimator_spec(estimator_spec, worker_hooks,\n\u001B[0;32m   1218\u001B[0m                                              \u001B[0mhooks\u001B[0m\u001B[1;33m,\u001B[0m \u001B[0mglobal_step_tensor\u001B[0m\u001B[1;33m,\u001B[0m\u001B[1;33m\u001B[0m\u001B[1;33m\u001B[0m\u001B[0m\n\u001B[1;32m-> 1219\u001B[1;33m                                              saving_listeners)\n\u001B[0m\u001B[0;32m   1220\u001B[0m \u001B[1;33m\u001B[0m\u001B[0m\n\u001B[0;32m   1221\u001B[0m   \u001B[1;32mdef\u001B[0m \u001B[0m_train_model_distributed\u001B[0m\u001B[1;33m(\u001B[0m\u001B[0mself\u001B[0m\u001B[1;33m,\u001B[0m \u001B[0minput_fn\u001B[0m\u001B[1;33m,\u001B[0m \u001B[0mhooks\u001B[0m\u001B[1;33m,\u001B[0m \u001B[0msaving_listeners\u001B[0m\u001B[1;33m)\u001B[0m\u001B[1;33m:\u001B[0m\u001B[1;33m\u001B[0m\u001B[1;33m\u001B[0m\u001B[0m\n",
      "\u001B[1;32mD:\\environment\\anaconda3\\envs\\tensorflow\\lib\\site-packages\\tensorflow_estimator\\python\\estimator\\estimator.py\u001B[0m in \u001B[0;36m_train_with_estimator_spec\u001B[1;34m(self, estimator_spec, worker_hooks, hooks, global_step_tensor, saving_listeners)\u001B[0m\n\u001B[0;32m   1523\u001B[0m         \u001B[0mmax_wait_secs\u001B[0m\u001B[1;33m=\u001B[0m\u001B[0mself\u001B[0m\u001B[1;33m.\u001B[0m\u001B[0m_config\u001B[0m\u001B[1;33m.\u001B[0m\u001B[0msession_creation_timeout_secs\u001B[0m\u001B[1;33m,\u001B[0m\u001B[1;33m\u001B[0m\u001B[1;33m\u001B[0m\u001B[0m\n\u001B[0;32m   1524\u001B[0m         \u001B[0mlog_step_count_steps\u001B[0m\u001B[1;33m=\u001B[0m\u001B[0mlog_step_count_steps\u001B[0m\u001B[1;33m,\u001B[0m\u001B[1;33m\u001B[0m\u001B[1;33m\u001B[0m\u001B[0m\n\u001B[1;32m-> 1525\u001B[1;33m         save_graph_def=self._config.checkpoint_save_graph_def) as mon_sess:\n\u001B[0m\u001B[0;32m   1526\u001B[0m       \u001B[0mloss\u001B[0m \u001B[1;33m=\u001B[0m \u001B[1;32mNone\u001B[0m\u001B[1;33m\u001B[0m\u001B[1;33m\u001B[0m\u001B[0m\n\u001B[0;32m   1527\u001B[0m       \u001B[0mcurrent_step\u001B[0m \u001B[1;33m=\u001B[0m \u001B[1;36m0\u001B[0m\u001B[1;33m\u001B[0m\u001B[1;33m\u001B[0m\u001B[0m\n",
      "\u001B[1;32mD:\\environment\\anaconda3\\envs\\tensorflow\\lib\\site-packages\\tensorflow\\python\\training\\monitored_session.py\u001B[0m in \u001B[0;36mMonitoredTrainingSession\u001B[1;34m(master, is_chief, checkpoint_dir, scaffold, hooks, chief_only_hooks, save_checkpoint_secs, save_summaries_steps, save_summaries_secs, config, stop_grace_period_secs, log_step_count_steps, max_wait_secs, save_checkpoint_steps, summary_dir, save_graph_def)\u001B[0m\n\u001B[0;32m    610\u001B[0m       \u001B[0msession_creator\u001B[0m\u001B[1;33m=\u001B[0m\u001B[0msession_creator\u001B[0m\u001B[1;33m,\u001B[0m\u001B[1;33m\u001B[0m\u001B[1;33m\u001B[0m\u001B[0m\n\u001B[0;32m    611\u001B[0m       \u001B[0mhooks\u001B[0m\u001B[1;33m=\u001B[0m\u001B[0mall_hooks\u001B[0m\u001B[1;33m,\u001B[0m\u001B[1;33m\u001B[0m\u001B[1;33m\u001B[0m\u001B[0m\n\u001B[1;32m--> 612\u001B[1;33m       stop_grace_period_secs=stop_grace_period_secs)\n\u001B[0m\u001B[0;32m    613\u001B[0m \u001B[1;33m\u001B[0m\u001B[0m\n\u001B[0;32m    614\u001B[0m \u001B[1;33m\u001B[0m\u001B[0m\n",
      "\u001B[1;32mD:\\environment\\anaconda3\\envs\\tensorflow\\lib\\site-packages\\tensorflow\\python\\training\\monitored_session.py\u001B[0m in \u001B[0;36m__init__\u001B[1;34m(self, session_creator, hooks, stop_grace_period_secs)\u001B[0m\n\u001B[0;32m   1056\u001B[0m         \u001B[0mhooks\u001B[0m\u001B[1;33m,\u001B[0m\u001B[1;33m\u001B[0m\u001B[1;33m\u001B[0m\u001B[0m\n\u001B[0;32m   1057\u001B[0m         \u001B[0mshould_recover\u001B[0m\u001B[1;33m=\u001B[0m\u001B[1;32mTrue\u001B[0m\u001B[1;33m,\u001B[0m\u001B[1;33m\u001B[0m\u001B[1;33m\u001B[0m\u001B[0m\n\u001B[1;32m-> 1058\u001B[1;33m         stop_grace_period_secs=stop_grace_period_secs)\n\u001B[0m\u001B[0;32m   1059\u001B[0m \u001B[1;33m\u001B[0m\u001B[0m\n\u001B[0;32m   1060\u001B[0m \u001B[1;33m\u001B[0m\u001B[0m\n",
      "\u001B[1;32mD:\\environment\\anaconda3\\envs\\tensorflow\\lib\\site-packages\\tensorflow\\python\\training\\monitored_session.py\u001B[0m in \u001B[0;36m__init__\u001B[1;34m(self, session_creator, hooks, should_recover, stop_grace_period_secs)\u001B[0m\n\u001B[0;32m    755\u001B[0m         stop_grace_period_secs=stop_grace_period_secs)\n\u001B[0;32m    756\u001B[0m     \u001B[1;32mif\u001B[0m \u001B[0mshould_recover\u001B[0m\u001B[1;33m:\u001B[0m\u001B[1;33m\u001B[0m\u001B[1;33m\u001B[0m\u001B[0m\n\u001B[1;32m--> 757\u001B[1;33m       \u001B[0mself\u001B[0m\u001B[1;33m.\u001B[0m\u001B[0m_sess\u001B[0m \u001B[1;33m=\u001B[0m \u001B[0m_RecoverableSession\u001B[0m\u001B[1;33m(\u001B[0m\u001B[0mself\u001B[0m\u001B[1;33m.\u001B[0m\u001B[0m_coordinated_creator\u001B[0m\u001B[1;33m)\u001B[0m\u001B[1;33m\u001B[0m\u001B[1;33m\u001B[0m\u001B[0m\n\u001B[0m\u001B[0;32m    758\u001B[0m     \u001B[1;32melse\u001B[0m\u001B[1;33m:\u001B[0m\u001B[1;33m\u001B[0m\u001B[1;33m\u001B[0m\u001B[0m\n\u001B[0;32m    759\u001B[0m       \u001B[0mself\u001B[0m\u001B[1;33m.\u001B[0m\u001B[0m_sess\u001B[0m \u001B[1;33m=\u001B[0m \u001B[0mself\u001B[0m\u001B[1;33m.\u001B[0m\u001B[0m_coordinated_creator\u001B[0m\u001B[1;33m.\u001B[0m\u001B[0mcreate_session\u001B[0m\u001B[1;33m(\u001B[0m\u001B[1;33m)\u001B[0m\u001B[1;33m\u001B[0m\u001B[1;33m\u001B[0m\u001B[0m\n",
      "\u001B[1;32mD:\\environment\\anaconda3\\envs\\tensorflow\\lib\\site-packages\\tensorflow\\python\\training\\monitored_session.py\u001B[0m in \u001B[0;36m__init__\u001B[1;34m(self, sess_creator)\u001B[0m\n\u001B[0;32m   1261\u001B[0m     \"\"\"\n\u001B[0;32m   1262\u001B[0m     \u001B[0mself\u001B[0m\u001B[1;33m.\u001B[0m\u001B[0m_sess_creator\u001B[0m \u001B[1;33m=\u001B[0m \u001B[0msess_creator\u001B[0m\u001B[1;33m\u001B[0m\u001B[1;33m\u001B[0m\u001B[0m\n\u001B[1;32m-> 1263\u001B[1;33m     \u001B[0m_WrappedSession\u001B[0m\u001B[1;33m.\u001B[0m\u001B[0m__init__\u001B[0m\u001B[1;33m(\u001B[0m\u001B[0mself\u001B[0m\u001B[1;33m,\u001B[0m \u001B[0mself\u001B[0m\u001B[1;33m.\u001B[0m\u001B[0m_create_session\u001B[0m\u001B[1;33m(\u001B[0m\u001B[1;33m)\u001B[0m\u001B[1;33m)\u001B[0m\u001B[1;33m\u001B[0m\u001B[1;33m\u001B[0m\u001B[0m\n\u001B[0m\u001B[0;32m   1264\u001B[0m \u001B[1;33m\u001B[0m\u001B[0m\n\u001B[0;32m   1265\u001B[0m   \u001B[1;32mdef\u001B[0m \u001B[0m_create_session\u001B[0m\u001B[1;33m(\u001B[0m\u001B[0mself\u001B[0m\u001B[1;33m)\u001B[0m\u001B[1;33m:\u001B[0m\u001B[1;33m\u001B[0m\u001B[1;33m\u001B[0m\u001B[0m\n",
      "\u001B[1;32mD:\\environment\\anaconda3\\envs\\tensorflow\\lib\\site-packages\\tensorflow\\python\\training\\monitored_session.py\u001B[0m in \u001B[0;36m_create_session\u001B[1;34m(self)\u001B[0m\n\u001B[0;32m   1266\u001B[0m     \u001B[1;32mwhile\u001B[0m \u001B[1;32mTrue\u001B[0m\u001B[1;33m:\u001B[0m\u001B[1;33m\u001B[0m\u001B[1;33m\u001B[0m\u001B[0m\n\u001B[0;32m   1267\u001B[0m       \u001B[1;32mtry\u001B[0m\u001B[1;33m:\u001B[0m\u001B[1;33m\u001B[0m\u001B[1;33m\u001B[0m\u001B[0m\n\u001B[1;32m-> 1268\u001B[1;33m         \u001B[1;32mreturn\u001B[0m \u001B[0mself\u001B[0m\u001B[1;33m.\u001B[0m\u001B[0m_sess_creator\u001B[0m\u001B[1;33m.\u001B[0m\u001B[0mcreate_session\u001B[0m\u001B[1;33m(\u001B[0m\u001B[1;33m)\u001B[0m\u001B[1;33m\u001B[0m\u001B[1;33m\u001B[0m\u001B[0m\n\u001B[0m\u001B[0;32m   1269\u001B[0m       \u001B[1;32mexcept\u001B[0m \u001B[0m_PREEMPTION_ERRORS\u001B[0m \u001B[1;32mas\u001B[0m \u001B[0me\u001B[0m\u001B[1;33m:\u001B[0m\u001B[1;33m\u001B[0m\u001B[1;33m\u001B[0m\u001B[0m\n\u001B[0;32m   1270\u001B[0m         logging.info(\n",
      "\u001B[1;32mD:\\environment\\anaconda3\\envs\\tensorflow\\lib\\site-packages\\tensorflow\\python\\training\\monitored_session.py\u001B[0m in \u001B[0;36mcreate_session\u001B[1;34m(self)\u001B[0m\n\u001B[0;32m    915\u001B[0m       \u001B[1;31m# Inform the hooks that a new session has been created.\u001B[0m\u001B[1;33m\u001B[0m\u001B[1;33m\u001B[0m\u001B[1;33m\u001B[0m\u001B[0m\n\u001B[0;32m    916\u001B[0m       \u001B[1;32mfor\u001B[0m \u001B[0mhook\u001B[0m \u001B[1;32min\u001B[0m \u001B[0mself\u001B[0m\u001B[1;33m.\u001B[0m\u001B[0m_hooks\u001B[0m\u001B[1;33m:\u001B[0m\u001B[1;33m\u001B[0m\u001B[1;33m\u001B[0m\u001B[0m\n\u001B[1;32m--> 917\u001B[1;33m         \u001B[0mhook\u001B[0m\u001B[1;33m.\u001B[0m\u001B[0mafter_create_session\u001B[0m\u001B[1;33m(\u001B[0m\u001B[0mself\u001B[0m\u001B[1;33m.\u001B[0m\u001B[0mtf_sess\u001B[0m\u001B[1;33m,\u001B[0m \u001B[0mself\u001B[0m\u001B[1;33m.\u001B[0m\u001B[0mcoord\u001B[0m\u001B[1;33m)\u001B[0m\u001B[1;33m\u001B[0m\u001B[1;33m\u001B[0m\u001B[0m\n\u001B[0m\u001B[0;32m    918\u001B[0m       return _CoordinatedSession(\n\u001B[0;32m    919\u001B[0m           \u001B[0m_HookedSession\u001B[0m\u001B[1;33m(\u001B[0m\u001B[0mself\u001B[0m\u001B[1;33m.\u001B[0m\u001B[0mtf_sess\u001B[0m\u001B[1;33m,\u001B[0m \u001B[0mself\u001B[0m\u001B[1;33m.\u001B[0m\u001B[0m_hooks\u001B[0m\u001B[1;33m)\u001B[0m\u001B[1;33m,\u001B[0m \u001B[0mself\u001B[0m\u001B[1;33m.\u001B[0m\u001B[0mcoord\u001B[0m\u001B[1;33m,\u001B[0m\u001B[1;33m\u001B[0m\u001B[1;33m\u001B[0m\u001B[0m\n",
      "\u001B[1;32mD:\\environment\\anaconda3\\envs\\tensorflow\\lib\\site-packages\\tensorflow\\python\\training\\basic_session_run_hooks.py\u001B[0m in \u001B[0;36mafter_create_session\u001B[1;34m(self, session, coord)\u001B[0m\n\u001B[0;32m    600\u001B[0m     \u001B[0mself\u001B[0m\u001B[1;33m.\u001B[0m\u001B[0m_summary_writer\u001B[0m\u001B[1;33m.\u001B[0m\u001B[0madd_meta_graph\u001B[0m\u001B[1;33m(\u001B[0m\u001B[0mmeta_graph_def\u001B[0m\u001B[1;33m)\u001B[0m\u001B[1;33m\u001B[0m\u001B[1;33m\u001B[0m\u001B[0m\n\u001B[0;32m    601\u001B[0m     \u001B[1;31m# The checkpoint saved here is the state at step \"global_step\".\u001B[0m\u001B[1;33m\u001B[0m\u001B[1;33m\u001B[0m\u001B[1;33m\u001B[0m\u001B[0m\n\u001B[1;32m--> 602\u001B[1;33m     \u001B[0mself\u001B[0m\u001B[1;33m.\u001B[0m\u001B[0m_save\u001B[0m\u001B[1;33m(\u001B[0m\u001B[0msession\u001B[0m\u001B[1;33m,\u001B[0m \u001B[0mglobal_step\u001B[0m\u001B[1;33m)\u001B[0m\u001B[1;33m\u001B[0m\u001B[1;33m\u001B[0m\u001B[0m\n\u001B[0m\u001B[0;32m    603\u001B[0m     \u001B[0mself\u001B[0m\u001B[1;33m.\u001B[0m\u001B[0m_timer\u001B[0m\u001B[1;33m.\u001B[0m\u001B[0mupdate_last_triggered_step\u001B[0m\u001B[1;33m(\u001B[0m\u001B[0mglobal_step\u001B[0m\u001B[1;33m)\u001B[0m\u001B[1;33m\u001B[0m\u001B[1;33m\u001B[0m\u001B[0m\n\u001B[0;32m    604\u001B[0m \u001B[1;33m\u001B[0m\u001B[0m\n",
      "\u001B[1;32mD:\\environment\\anaconda3\\envs\\tensorflow\\lib\\site-packages\\tensorflow\\python\\training\\basic_session_run_hooks.py\u001B[0m in \u001B[0;36m_save\u001B[1;34m(self, session, step)\u001B[0m\n\u001B[0;32m    633\u001B[0m     \u001B[0mlogging\u001B[0m\u001B[1;33m.\u001B[0m\u001B[0minfo\u001B[0m\u001B[1;33m(\u001B[0m\u001B[1;34m\"Saving checkpoints for %d into %s.\"\u001B[0m\u001B[1;33m,\u001B[0m \u001B[0mstep\u001B[0m\u001B[1;33m,\u001B[0m \u001B[0mself\u001B[0m\u001B[1;33m.\u001B[0m\u001B[0m_save_path\u001B[0m\u001B[1;33m)\u001B[0m\u001B[1;33m\u001B[0m\u001B[1;33m\u001B[0m\u001B[0m\n\u001B[0;32m    634\u001B[0m     self._get_saver().save(session, self._save_path, global_step=step,\n\u001B[1;32m--> 635\u001B[1;33m                            write_meta_graph=self._save_graph_def)\n\u001B[0m\u001B[0;32m    636\u001B[0m     self._summary_writer.add_session_log(\n\u001B[0;32m    637\u001B[0m         SessionLog(\n",
      "\u001B[1;32mD:\\environment\\anaconda3\\envs\\tensorflow\\lib\\site-packages\\tensorflow\\python\\training\\saver.py\u001B[0m in \u001B[0;36msave\u001B[1;34m(self, sess, save_path, global_step, latest_filename, meta_graph_suffix, write_meta_graph, write_state, strip_default_attrs, save_debug_info)\u001B[0m\n\u001B[0;32m   1284\u001B[0m           model_checkpoint_path = sess.run(\n\u001B[0;32m   1285\u001B[0m               \u001B[0mself\u001B[0m\u001B[1;33m.\u001B[0m\u001B[0msaver_def\u001B[0m\u001B[1;33m.\u001B[0m\u001B[0msave_tensor_name\u001B[0m\u001B[1;33m,\u001B[0m\u001B[1;33m\u001B[0m\u001B[1;33m\u001B[0m\u001B[0m\n\u001B[1;32m-> 1286\u001B[1;33m               {self.saver_def.filename_tensor_name: checkpoint_file})\n\u001B[0m\u001B[0;32m   1287\u001B[0m \u001B[1;33m\u001B[0m\u001B[0m\n\u001B[0;32m   1288\u001B[0m         \u001B[0mmodel_checkpoint_path\u001B[0m \u001B[1;33m=\u001B[0m \u001B[0mcompat\u001B[0m\u001B[1;33m.\u001B[0m\u001B[0mas_str\u001B[0m\u001B[1;33m(\u001B[0m\u001B[0mmodel_checkpoint_path\u001B[0m\u001B[1;33m)\u001B[0m\u001B[1;33m\u001B[0m\u001B[1;33m\u001B[0m\u001B[0m\n",
      "\u001B[1;32mD:\\environment\\anaconda3\\envs\\tensorflow\\lib\\site-packages\\tensorflow\\python\\client\\session.py\u001B[0m in \u001B[0;36mrun\u001B[1;34m(self, fetches, feed_dict, options, run_metadata)\u001B[0m\n\u001B[0;32m    967\u001B[0m     \u001B[1;32mtry\u001B[0m\u001B[1;33m:\u001B[0m\u001B[1;33m\u001B[0m\u001B[1;33m\u001B[0m\u001B[0m\n\u001B[0;32m    968\u001B[0m       result = self._run(None, fetches, feed_dict, options_ptr,\n\u001B[1;32m--> 969\u001B[1;33m                          run_metadata_ptr)\n\u001B[0m\u001B[0;32m    970\u001B[0m       \u001B[1;32mif\u001B[0m \u001B[0mrun_metadata\u001B[0m\u001B[1;33m:\u001B[0m\u001B[1;33m\u001B[0m\u001B[1;33m\u001B[0m\u001B[0m\n\u001B[0;32m    971\u001B[0m         \u001B[0mproto_data\u001B[0m \u001B[1;33m=\u001B[0m \u001B[0mtf_session\u001B[0m\u001B[1;33m.\u001B[0m\u001B[0mTF_GetBuffer\u001B[0m\u001B[1;33m(\u001B[0m\u001B[0mrun_metadata_ptr\u001B[0m\u001B[1;33m)\u001B[0m\u001B[1;33m\u001B[0m\u001B[1;33m\u001B[0m\u001B[0m\n",
      "\u001B[1;32mD:\\environment\\anaconda3\\envs\\tensorflow\\lib\\site-packages\\tensorflow\\python\\client\\session.py\u001B[0m in \u001B[0;36m_run\u001B[1;34m(self, handle, fetches, feed_dict, options, run_metadata)\u001B[0m\n\u001B[0;32m   1190\u001B[0m     \u001B[1;32mif\u001B[0m \u001B[0mfinal_fetches\u001B[0m \u001B[1;32mor\u001B[0m \u001B[0mfinal_targets\u001B[0m \u001B[1;32mor\u001B[0m \u001B[1;33m(\u001B[0m\u001B[0mhandle\u001B[0m \u001B[1;32mand\u001B[0m \u001B[0mfeed_dict_tensor\u001B[0m\u001B[1;33m)\u001B[0m\u001B[1;33m:\u001B[0m\u001B[1;33m\u001B[0m\u001B[1;33m\u001B[0m\u001B[0m\n\u001B[0;32m   1191\u001B[0m       results = self._do_run(handle, final_targets, final_fetches,\n\u001B[1;32m-> 1192\u001B[1;33m                              feed_dict_tensor, options, run_metadata)\n\u001B[0m\u001B[0;32m   1193\u001B[0m     \u001B[1;32melse\u001B[0m\u001B[1;33m:\u001B[0m\u001B[1;33m\u001B[0m\u001B[1;33m\u001B[0m\u001B[0m\n\u001B[0;32m   1194\u001B[0m       \u001B[0mresults\u001B[0m \u001B[1;33m=\u001B[0m \u001B[1;33m[\u001B[0m\u001B[1;33m]\u001B[0m\u001B[1;33m\u001B[0m\u001B[1;33m\u001B[0m\u001B[0m\n",
      "\u001B[1;32mD:\\environment\\anaconda3\\envs\\tensorflow\\lib\\site-packages\\tensorflow\\python\\client\\session.py\u001B[0m in \u001B[0;36m_do_run\u001B[1;34m(self, handle, target_list, fetch_list, feed_dict, options, run_metadata)\u001B[0m\n\u001B[0;32m   1370\u001B[0m     \u001B[1;32mif\u001B[0m \u001B[0mhandle\u001B[0m \u001B[1;32mis\u001B[0m \u001B[1;32mNone\u001B[0m\u001B[1;33m:\u001B[0m\u001B[1;33m\u001B[0m\u001B[1;33m\u001B[0m\u001B[0m\n\u001B[0;32m   1371\u001B[0m       return self._do_call(_run_fn, feeds, fetches, targets, options,\n\u001B[1;32m-> 1372\u001B[1;33m                            run_metadata)\n\u001B[0m\u001B[0;32m   1373\u001B[0m     \u001B[1;32melse\u001B[0m\u001B[1;33m:\u001B[0m\u001B[1;33m\u001B[0m\u001B[1;33m\u001B[0m\u001B[0m\n\u001B[0;32m   1374\u001B[0m       \u001B[1;32mreturn\u001B[0m \u001B[0mself\u001B[0m\u001B[1;33m.\u001B[0m\u001B[0m_do_call\u001B[0m\u001B[1;33m(\u001B[0m\u001B[0m_prun_fn\u001B[0m\u001B[1;33m,\u001B[0m \u001B[0mhandle\u001B[0m\u001B[1;33m,\u001B[0m \u001B[0mfeeds\u001B[0m\u001B[1;33m,\u001B[0m \u001B[0mfetches\u001B[0m\u001B[1;33m)\u001B[0m\u001B[1;33m\u001B[0m\u001B[1;33m\u001B[0m\u001B[0m\n",
      "\u001B[1;32mD:\\environment\\anaconda3\\envs\\tensorflow\\lib\\site-packages\\tensorflow\\python\\client\\session.py\u001B[0m in \u001B[0;36m_do_call\u001B[1;34m(self, fn, *args)\u001B[0m\n\u001B[0;32m   1376\u001B[0m   \u001B[1;32mdef\u001B[0m \u001B[0m_do_call\u001B[0m\u001B[1;33m(\u001B[0m\u001B[0mself\u001B[0m\u001B[1;33m,\u001B[0m \u001B[0mfn\u001B[0m\u001B[1;33m,\u001B[0m \u001B[1;33m*\u001B[0m\u001B[0margs\u001B[0m\u001B[1;33m)\u001B[0m\u001B[1;33m:\u001B[0m\u001B[1;33m\u001B[0m\u001B[1;33m\u001B[0m\u001B[0m\n\u001B[0;32m   1377\u001B[0m     \u001B[1;32mtry\u001B[0m\u001B[1;33m:\u001B[0m\u001B[1;33m\u001B[0m\u001B[1;33m\u001B[0m\u001B[0m\n\u001B[1;32m-> 1378\u001B[1;33m       \u001B[1;32mreturn\u001B[0m \u001B[0mfn\u001B[0m\u001B[1;33m(\u001B[0m\u001B[1;33m*\u001B[0m\u001B[0margs\u001B[0m\u001B[1;33m)\u001B[0m\u001B[1;33m\u001B[0m\u001B[1;33m\u001B[0m\u001B[0m\n\u001B[0m\u001B[0;32m   1379\u001B[0m     \u001B[1;32mexcept\u001B[0m \u001B[0merrors\u001B[0m\u001B[1;33m.\u001B[0m\u001B[0mOpError\u001B[0m \u001B[1;32mas\u001B[0m \u001B[0me\u001B[0m\u001B[1;33m:\u001B[0m\u001B[1;33m\u001B[0m\u001B[1;33m\u001B[0m\u001B[0m\n\u001B[0;32m   1380\u001B[0m       \u001B[0mmessage\u001B[0m \u001B[1;33m=\u001B[0m \u001B[0mcompat\u001B[0m\u001B[1;33m.\u001B[0m\u001B[0mas_text\u001B[0m\u001B[1;33m(\u001B[0m\u001B[0me\u001B[0m\u001B[1;33m.\u001B[0m\u001B[0mmessage\u001B[0m\u001B[1;33m)\u001B[0m\u001B[1;33m\u001B[0m\u001B[1;33m\u001B[0m\u001B[0m\n",
      "\u001B[1;32mD:\\environment\\anaconda3\\envs\\tensorflow\\lib\\site-packages\\tensorflow\\python\\client\\session.py\u001B[0m in \u001B[0;36m_run_fn\u001B[1;34m(feed_dict, fetch_list, target_list, options, run_metadata)\u001B[0m\n\u001B[0;32m   1360\u001B[0m       \u001B[0mself\u001B[0m\u001B[1;33m.\u001B[0m\u001B[0m_extend_graph\u001B[0m\u001B[1;33m(\u001B[0m\u001B[1;33m)\u001B[0m\u001B[1;33m\u001B[0m\u001B[1;33m\u001B[0m\u001B[0m\n\u001B[0;32m   1361\u001B[0m       return self._call_tf_sessionrun(options, feed_dict, fetch_list,\n\u001B[1;32m-> 1362\u001B[1;33m                                       target_list, run_metadata)\n\u001B[0m\u001B[0;32m   1363\u001B[0m \u001B[1;33m\u001B[0m\u001B[0m\n\u001B[0;32m   1364\u001B[0m     \u001B[1;32mdef\u001B[0m \u001B[0m_prun_fn\u001B[0m\u001B[1;33m(\u001B[0m\u001B[0mhandle\u001B[0m\u001B[1;33m,\u001B[0m \u001B[0mfeed_dict\u001B[0m\u001B[1;33m,\u001B[0m \u001B[0mfetch_list\u001B[0m\u001B[1;33m)\u001B[0m\u001B[1;33m:\u001B[0m\u001B[1;33m\u001B[0m\u001B[1;33m\u001B[0m\u001B[0m\n",
      "\u001B[1;32mD:\\environment\\anaconda3\\envs\\tensorflow\\lib\\site-packages\\tensorflow\\python\\client\\session.py\u001B[0m in \u001B[0;36m_call_tf_sessionrun\u001B[1;34m(self, options, feed_dict, fetch_list, target_list, run_metadata)\u001B[0m\n\u001B[0;32m   1454\u001B[0m     return tf_session.TF_SessionRun_wrapper(self._session, options, feed_dict,\n\u001B[0;32m   1455\u001B[0m                                             \u001B[0mfetch_list\u001B[0m\u001B[1;33m,\u001B[0m \u001B[0mtarget_list\u001B[0m\u001B[1;33m,\u001B[0m\u001B[1;33m\u001B[0m\u001B[1;33m\u001B[0m\u001B[0m\n\u001B[1;32m-> 1456\u001B[1;33m                                             run_metadata)\n\u001B[0m\u001B[0;32m   1457\u001B[0m \u001B[1;33m\u001B[0m\u001B[0m\n\u001B[0;32m   1458\u001B[0m   \u001B[1;32mdef\u001B[0m \u001B[0m_call_tf_sessionprun\u001B[0m\u001B[1;33m(\u001B[0m\u001B[0mself\u001B[0m\u001B[1;33m,\u001B[0m \u001B[0mhandle\u001B[0m\u001B[1;33m,\u001B[0m \u001B[0mfeed_dict\u001B[0m\u001B[1;33m,\u001B[0m \u001B[0mfetch_list\u001B[0m\u001B[1;33m)\u001B[0m\u001B[1;33m:\u001B[0m\u001B[1;33m\u001B[0m\u001B[1;33m\u001B[0m\u001B[0m\n",
      "\u001B[1;31mUnicodeDecodeError\u001B[0m: 'utf-8' codec can't decode byte 0xd5 in position 159: invalid continuation byte"
     ]
    }
   ],
   "execution_count": 21
  },
  {
   "metadata": {},
   "cell_type": "markdown",
   "source": [
    "- **`LinearClassifier`**: 这是TensorFlow Estimator API中的一个类，用于实现线性模型的分类任务。它适用于那些逻辑回归或多项式逻辑回归能够有效解决问题的场景。\n",
    "\n",
    "- **`.train(...)`**: 方法用于启动模型的训练过程。Estimator框架内部会根据模型类型（在这里是线性分类器）和提供的参数自动执行训练步骤。\n",
    "\n",
    "- **`input_fn=train_input_fn`**: `input_fn`是一个函数，负责为模型训练提供数据。在这个例子中，`train_input_fn`是之前定义好的输入函数，它使用`numpy_input_fn`创建，负责从`train_data`和`train_labels`中读取数据，并配置了数据处理的细节，比如批处理大小、是否打乱数据等。\n",
    "\n",
    "- **`steps=2000`**: 指定了训练的总步数。每一步都涉及到一次或多次（取决于批次大小）模型权重的更新。设置`steps=2000`意味着模型将会基于训练数据迭代2000次，或者直到数据集遍历完成（依据`num_epochs`的设定），以先到者为准。这一步数的选择需要根据实际问题复杂度和模型收敛情况来调整。"
   ],
   "id": "cc51c51d65ca1d8a"
  },
  {
   "metadata": {
    "ExecuteTime": {
     "end_time": "2024-06-09T12:27:55.398830Z",
     "start_time": "2024-06-09T12:27:55.390853Z"
    }
   },
   "cell_type": "code",
   "source": "val_input_fn = tf.compat.v1.estimator.inputs.numpy_input_fn(x={\"x\": test_data}, y=test_labels, num_epochs=1, shuffle=False)",
   "id": "82874fa773b256dc",
   "outputs": [],
   "execution_count": 16
  },
  {
   "metadata": {
    "ExecuteTime": {
     "end_time": "2024-06-09T12:27:58.431366Z",
     "start_time": "2024-06-09T12:27:57.372292Z"
    }
   },
   "cell_type": "code",
   "source": [
    "test_result = LinearClassifier.evaluate(input_fn=val_input_fn)\n",
    "print(test_result)"
   ],
   "id": "aa4dc4eb22863f93",
   "outputs": [
    {
     "name": "stdout",
     "output_type": "stream",
     "text": [
      "INFO:tensorflow:Could not find trained model in model_dir: ./model/LinearClassifier, running initialization to evaluate.\n",
      "INFO:tensorflow:Calling model_fn.\n",
      "INFO:tensorflow:Done calling model_fn.\n",
      "INFO:tensorflow:Starting evaluation at 2024-06-09T20:27:57\n",
      "INFO:tensorflow:Graph was finalized.\n",
      "INFO:tensorflow:Running local_init_op.\n",
      "INFO:tensorflow:Done running local_init_op.\n",
      "INFO:tensorflow:Inference Time : 0.55243s\n",
      "INFO:tensorflow:Finished evaluation at 2024-06-09-20:27:58\n",
      "INFO:tensorflow:Saving dict for global step 0: accuracy = 0.098, average_loss = 2.3025832, global_step = 0, loss = 2.3025832\n",
      "{'accuracy': 0.098, 'average_loss': 2.3025832, 'loss': 2.3025832, 'global_step': 0}\n"
     ]
    }
   ],
   "execution_count": 17
  },
  {
   "metadata": {},
   "cell_type": "markdown",
   "source": "这些指标显示模型当前的性能不佳，需要进一步优化。可能的改进措施包括调整模型架构、优化超参数、收集更多或更高质量的数据、调整学习率策略等。",
   "id": "47be77619e0aef7c"
  },
  {
   "metadata": {
    "ExecuteTime": {
     "end_time": "2024-06-09T12:39:49.368054Z",
     "start_time": "2024-06-09T12:39:48.193574Z"
    }
   },
   "cell_type": "code",
   "source": [
    "DNNClassifier = tf.estimator.DNNClassifier(feature_columns=feature_columns, hidden_units=[256, 128, 64], n_classes=10, model_dir=\"./model/DNNClassifier\")\n",
    "DNNClassifier.train(input_fn=train_input_fn, steps=10)"
   ],
   "id": "a25cf6330c50133e",
   "outputs": [
    {
     "name": "stdout",
     "output_type": "stream",
     "text": [
      "INFO:tensorflow:Using default config.\n",
      "INFO:tensorflow:Using config: {'_model_dir': './model/DNNClassifier', '_tf_random_seed': None, '_save_summary_steps': 100, '_save_checkpoints_steps': None, '_save_checkpoints_secs': 600, '_session_config': allow_soft_placement: true\n",
      "graph_options {\n",
      "  rewrite_options {\n",
      "    meta_optimizer_iterations: ONE\n",
      "  }\n",
      "}\n",
      ", '_keep_checkpoint_max': 5, '_keep_checkpoint_every_n_hours': 10000, '_log_step_count_steps': 100, '_train_distribute': None, '_device_fn': None, '_protocol': None, '_eval_distribute': None, '_experimental_distribute': None, '_experimental_max_worker_delay_secs': None, '_session_creation_timeout_secs': 7200, '_checkpoint_save_graph_def': True, '_service': None, '_cluster_spec': ClusterSpec({}), '_task_type': 'worker', '_task_id': 0, '_global_id_in_cluster': 0, '_master': '', '_evaluation_master': '', '_is_chief': True, '_num_ps_replicas': 0, '_num_worker_replicas': 1}\n",
      "INFO:tensorflow:Calling model_fn.\n",
      "INFO:tensorflow:Done calling model_fn.\n",
      "INFO:tensorflow:Create CheckpointSaverHook.\n",
      "INFO:tensorflow:Graph was finalized.\n",
      "INFO:tensorflow:Running local_init_op.\n",
      "INFO:tensorflow:Done running local_init_op.\n",
      "INFO:tensorflow:Calling checkpoint listeners before saving checkpoint 0...\n",
      "INFO:tensorflow:Saving checkpoints for 0 into ./model/DNNClassifier\\model.ckpt.\n"
     ]
    },
    {
     "ename": "UnicodeDecodeError",
     "evalue": "'utf-8' codec can't decode byte 0xd5 in position 153: invalid continuation byte",
     "output_type": "error",
     "traceback": [
      "\u001B[1;31m---------------------------------------------------------------------------\u001B[0m",
      "\u001B[1;31mUnicodeDecodeError\u001B[0m                        Traceback (most recent call last)",
      "\u001B[1;32m~\\AppData\\Local\\Temp\\ipykernel_27488\\340275567.py\u001B[0m in \u001B[0;36m<module>\u001B[1;34m\u001B[0m\n\u001B[0;32m      1\u001B[0m \u001B[0mDNNClassifier\u001B[0m \u001B[1;33m=\u001B[0m \u001B[0mtf\u001B[0m\u001B[1;33m.\u001B[0m\u001B[0mestimator\u001B[0m\u001B[1;33m.\u001B[0m\u001B[0mDNNClassifier\u001B[0m\u001B[1;33m(\u001B[0m\u001B[0mfeature_columns\u001B[0m\u001B[1;33m=\u001B[0m\u001B[0mfeature_columns\u001B[0m\u001B[1;33m,\u001B[0m \u001B[0mhidden_units\u001B[0m\u001B[1;33m=\u001B[0m\u001B[1;33m[\u001B[0m\u001B[1;36m256\u001B[0m\u001B[1;33m,\u001B[0m \u001B[1;36m128\u001B[0m\u001B[1;33m,\u001B[0m \u001B[1;36m64\u001B[0m\u001B[1;33m]\u001B[0m\u001B[1;33m,\u001B[0m \u001B[0mn_classes\u001B[0m\u001B[1;33m=\u001B[0m\u001B[1;36m10\u001B[0m\u001B[1;33m,\u001B[0m \u001B[0mmodel_dir\u001B[0m\u001B[1;33m=\u001B[0m\u001B[1;34m\"./model/DNNClassifier\"\u001B[0m\u001B[1;33m)\u001B[0m\u001B[1;33m\u001B[0m\u001B[1;33m\u001B[0m\u001B[0m\n\u001B[1;32m----> 2\u001B[1;33m \u001B[0mDNNClassifier\u001B[0m\u001B[1;33m.\u001B[0m\u001B[0mtrain\u001B[0m\u001B[1;33m(\u001B[0m\u001B[0minput_fn\u001B[0m\u001B[1;33m=\u001B[0m\u001B[0mtrain_input_fn\u001B[0m\u001B[1;33m,\u001B[0m \u001B[0msteps\u001B[0m\u001B[1;33m=\u001B[0m\u001B[1;36m10\u001B[0m\u001B[1;33m)\u001B[0m\u001B[1;33m\u001B[0m\u001B[1;33m\u001B[0m\u001B[0m\n\u001B[0m",
      "\u001B[1;32mD:\\environment\\anaconda3\\envs\\tensorflow\\lib\\site-packages\\tensorflow_estimator\\python\\estimator\\estimator.py\u001B[0m in \u001B[0;36mtrain\u001B[1;34m(self, input_fn, hooks, steps, max_steps, saving_listeners)\u001B[0m\n\u001B[0;32m    358\u001B[0m \u001B[1;33m\u001B[0m\u001B[0m\n\u001B[0;32m    359\u001B[0m       \u001B[0msaving_listeners\u001B[0m \u001B[1;33m=\u001B[0m \u001B[0m_check_listeners_type\u001B[0m\u001B[1;33m(\u001B[0m\u001B[0msaving_listeners\u001B[0m\u001B[1;33m)\u001B[0m\u001B[1;33m\u001B[0m\u001B[1;33m\u001B[0m\u001B[0m\n\u001B[1;32m--> 360\u001B[1;33m       \u001B[0mloss\u001B[0m \u001B[1;33m=\u001B[0m \u001B[0mself\u001B[0m\u001B[1;33m.\u001B[0m\u001B[0m_train_model\u001B[0m\u001B[1;33m(\u001B[0m\u001B[0minput_fn\u001B[0m\u001B[1;33m,\u001B[0m \u001B[0mhooks\u001B[0m\u001B[1;33m,\u001B[0m \u001B[0msaving_listeners\u001B[0m\u001B[1;33m)\u001B[0m\u001B[1;33m\u001B[0m\u001B[1;33m\u001B[0m\u001B[0m\n\u001B[0m\u001B[0;32m    361\u001B[0m       \u001B[0mlogging\u001B[0m\u001B[1;33m.\u001B[0m\u001B[0minfo\u001B[0m\u001B[1;33m(\u001B[0m\u001B[1;34m'Loss for final step: %s.'\u001B[0m\u001B[1;33m,\u001B[0m \u001B[0mloss\u001B[0m\u001B[1;33m)\u001B[0m\u001B[1;33m\u001B[0m\u001B[1;33m\u001B[0m\u001B[0m\n\u001B[0;32m    362\u001B[0m       \u001B[1;32mreturn\u001B[0m \u001B[0mself\u001B[0m\u001B[1;33m\u001B[0m\u001B[1;33m\u001B[0m\u001B[0m\n",
      "\u001B[1;32mD:\\environment\\anaconda3\\envs\\tensorflow\\lib\\site-packages\\tensorflow_estimator\\python\\estimator\\estimator.py\u001B[0m in \u001B[0;36m_train_model\u001B[1;34m(self, input_fn, hooks, saving_listeners)\u001B[0m\n\u001B[0;32m   1184\u001B[0m       \u001B[1;32mreturn\u001B[0m \u001B[0mself\u001B[0m\u001B[1;33m.\u001B[0m\u001B[0m_train_model_distributed\u001B[0m\u001B[1;33m(\u001B[0m\u001B[0minput_fn\u001B[0m\u001B[1;33m,\u001B[0m \u001B[0mhooks\u001B[0m\u001B[1;33m,\u001B[0m \u001B[0msaving_listeners\u001B[0m\u001B[1;33m)\u001B[0m\u001B[1;33m\u001B[0m\u001B[1;33m\u001B[0m\u001B[0m\n\u001B[0;32m   1185\u001B[0m     \u001B[1;32melse\u001B[0m\u001B[1;33m:\u001B[0m\u001B[1;33m\u001B[0m\u001B[1;33m\u001B[0m\u001B[0m\n\u001B[1;32m-> 1186\u001B[1;33m       \u001B[1;32mreturn\u001B[0m \u001B[0mself\u001B[0m\u001B[1;33m.\u001B[0m\u001B[0m_train_model_default\u001B[0m\u001B[1;33m(\u001B[0m\u001B[0minput_fn\u001B[0m\u001B[1;33m,\u001B[0m \u001B[0mhooks\u001B[0m\u001B[1;33m,\u001B[0m \u001B[0msaving_listeners\u001B[0m\u001B[1;33m)\u001B[0m\u001B[1;33m\u001B[0m\u001B[1;33m\u001B[0m\u001B[0m\n\u001B[0m\u001B[0;32m   1187\u001B[0m \u001B[1;33m\u001B[0m\u001B[0m\n\u001B[0;32m   1188\u001B[0m   \u001B[1;32mdef\u001B[0m \u001B[0m_train_model_default\u001B[0m\u001B[1;33m(\u001B[0m\u001B[0mself\u001B[0m\u001B[1;33m,\u001B[0m \u001B[0minput_fn\u001B[0m\u001B[1;33m,\u001B[0m \u001B[0mhooks\u001B[0m\u001B[1;33m,\u001B[0m \u001B[0msaving_listeners\u001B[0m\u001B[1;33m)\u001B[0m\u001B[1;33m:\u001B[0m\u001B[1;33m\u001B[0m\u001B[1;33m\u001B[0m\u001B[0m\n",
      "\u001B[1;32mD:\\environment\\anaconda3\\envs\\tensorflow\\lib\\site-packages\\tensorflow_estimator\\python\\estimator\\estimator.py\u001B[0m in \u001B[0;36m_train_model_default\u001B[1;34m(self, input_fn, hooks, saving_listeners)\u001B[0m\n\u001B[0;32m   1217\u001B[0m       return self._train_with_estimator_spec(estimator_spec, worker_hooks,\n\u001B[0;32m   1218\u001B[0m                                              \u001B[0mhooks\u001B[0m\u001B[1;33m,\u001B[0m \u001B[0mglobal_step_tensor\u001B[0m\u001B[1;33m,\u001B[0m\u001B[1;33m\u001B[0m\u001B[1;33m\u001B[0m\u001B[0m\n\u001B[1;32m-> 1219\u001B[1;33m                                              saving_listeners)\n\u001B[0m\u001B[0;32m   1220\u001B[0m \u001B[1;33m\u001B[0m\u001B[0m\n\u001B[0;32m   1221\u001B[0m   \u001B[1;32mdef\u001B[0m \u001B[0m_train_model_distributed\u001B[0m\u001B[1;33m(\u001B[0m\u001B[0mself\u001B[0m\u001B[1;33m,\u001B[0m \u001B[0minput_fn\u001B[0m\u001B[1;33m,\u001B[0m \u001B[0mhooks\u001B[0m\u001B[1;33m,\u001B[0m \u001B[0msaving_listeners\u001B[0m\u001B[1;33m)\u001B[0m\u001B[1;33m:\u001B[0m\u001B[1;33m\u001B[0m\u001B[1;33m\u001B[0m\u001B[0m\n",
      "\u001B[1;32mD:\\environment\\anaconda3\\envs\\tensorflow\\lib\\site-packages\\tensorflow_estimator\\python\\estimator\\estimator.py\u001B[0m in \u001B[0;36m_train_with_estimator_spec\u001B[1;34m(self, estimator_spec, worker_hooks, hooks, global_step_tensor, saving_listeners)\u001B[0m\n\u001B[0;32m   1523\u001B[0m         \u001B[0mmax_wait_secs\u001B[0m\u001B[1;33m=\u001B[0m\u001B[0mself\u001B[0m\u001B[1;33m.\u001B[0m\u001B[0m_config\u001B[0m\u001B[1;33m.\u001B[0m\u001B[0msession_creation_timeout_secs\u001B[0m\u001B[1;33m,\u001B[0m\u001B[1;33m\u001B[0m\u001B[1;33m\u001B[0m\u001B[0m\n\u001B[0;32m   1524\u001B[0m         \u001B[0mlog_step_count_steps\u001B[0m\u001B[1;33m=\u001B[0m\u001B[0mlog_step_count_steps\u001B[0m\u001B[1;33m,\u001B[0m\u001B[1;33m\u001B[0m\u001B[1;33m\u001B[0m\u001B[0m\n\u001B[1;32m-> 1525\u001B[1;33m         save_graph_def=self._config.checkpoint_save_graph_def) as mon_sess:\n\u001B[0m\u001B[0;32m   1526\u001B[0m       \u001B[0mloss\u001B[0m \u001B[1;33m=\u001B[0m \u001B[1;32mNone\u001B[0m\u001B[1;33m\u001B[0m\u001B[1;33m\u001B[0m\u001B[0m\n\u001B[0;32m   1527\u001B[0m       \u001B[0mcurrent_step\u001B[0m \u001B[1;33m=\u001B[0m \u001B[1;36m0\u001B[0m\u001B[1;33m\u001B[0m\u001B[1;33m\u001B[0m\u001B[0m\n",
      "\u001B[1;32mD:\\environment\\anaconda3\\envs\\tensorflow\\lib\\site-packages\\tensorflow\\python\\training\\monitored_session.py\u001B[0m in \u001B[0;36mMonitoredTrainingSession\u001B[1;34m(master, is_chief, checkpoint_dir, scaffold, hooks, chief_only_hooks, save_checkpoint_secs, save_summaries_steps, save_summaries_secs, config, stop_grace_period_secs, log_step_count_steps, max_wait_secs, save_checkpoint_steps, summary_dir, save_graph_def)\u001B[0m\n\u001B[0;32m    610\u001B[0m       \u001B[0msession_creator\u001B[0m\u001B[1;33m=\u001B[0m\u001B[0msession_creator\u001B[0m\u001B[1;33m,\u001B[0m\u001B[1;33m\u001B[0m\u001B[1;33m\u001B[0m\u001B[0m\n\u001B[0;32m    611\u001B[0m       \u001B[0mhooks\u001B[0m\u001B[1;33m=\u001B[0m\u001B[0mall_hooks\u001B[0m\u001B[1;33m,\u001B[0m\u001B[1;33m\u001B[0m\u001B[1;33m\u001B[0m\u001B[0m\n\u001B[1;32m--> 612\u001B[1;33m       stop_grace_period_secs=stop_grace_period_secs)\n\u001B[0m\u001B[0;32m    613\u001B[0m \u001B[1;33m\u001B[0m\u001B[0m\n\u001B[0;32m    614\u001B[0m \u001B[1;33m\u001B[0m\u001B[0m\n",
      "\u001B[1;32mD:\\environment\\anaconda3\\envs\\tensorflow\\lib\\site-packages\\tensorflow\\python\\training\\monitored_session.py\u001B[0m in \u001B[0;36m__init__\u001B[1;34m(self, session_creator, hooks, stop_grace_period_secs)\u001B[0m\n\u001B[0;32m   1056\u001B[0m         \u001B[0mhooks\u001B[0m\u001B[1;33m,\u001B[0m\u001B[1;33m\u001B[0m\u001B[1;33m\u001B[0m\u001B[0m\n\u001B[0;32m   1057\u001B[0m         \u001B[0mshould_recover\u001B[0m\u001B[1;33m=\u001B[0m\u001B[1;32mTrue\u001B[0m\u001B[1;33m,\u001B[0m\u001B[1;33m\u001B[0m\u001B[1;33m\u001B[0m\u001B[0m\n\u001B[1;32m-> 1058\u001B[1;33m         stop_grace_period_secs=stop_grace_period_secs)\n\u001B[0m\u001B[0;32m   1059\u001B[0m \u001B[1;33m\u001B[0m\u001B[0m\n\u001B[0;32m   1060\u001B[0m \u001B[1;33m\u001B[0m\u001B[0m\n",
      "\u001B[1;32mD:\\environment\\anaconda3\\envs\\tensorflow\\lib\\site-packages\\tensorflow\\python\\training\\monitored_session.py\u001B[0m in \u001B[0;36m__init__\u001B[1;34m(self, session_creator, hooks, should_recover, stop_grace_period_secs)\u001B[0m\n\u001B[0;32m    755\u001B[0m         stop_grace_period_secs=stop_grace_period_secs)\n\u001B[0;32m    756\u001B[0m     \u001B[1;32mif\u001B[0m \u001B[0mshould_recover\u001B[0m\u001B[1;33m:\u001B[0m\u001B[1;33m\u001B[0m\u001B[1;33m\u001B[0m\u001B[0m\n\u001B[1;32m--> 757\u001B[1;33m       \u001B[0mself\u001B[0m\u001B[1;33m.\u001B[0m\u001B[0m_sess\u001B[0m \u001B[1;33m=\u001B[0m \u001B[0m_RecoverableSession\u001B[0m\u001B[1;33m(\u001B[0m\u001B[0mself\u001B[0m\u001B[1;33m.\u001B[0m\u001B[0m_coordinated_creator\u001B[0m\u001B[1;33m)\u001B[0m\u001B[1;33m\u001B[0m\u001B[1;33m\u001B[0m\u001B[0m\n\u001B[0m\u001B[0;32m    758\u001B[0m     \u001B[1;32melse\u001B[0m\u001B[1;33m:\u001B[0m\u001B[1;33m\u001B[0m\u001B[1;33m\u001B[0m\u001B[0m\n\u001B[0;32m    759\u001B[0m       \u001B[0mself\u001B[0m\u001B[1;33m.\u001B[0m\u001B[0m_sess\u001B[0m \u001B[1;33m=\u001B[0m \u001B[0mself\u001B[0m\u001B[1;33m.\u001B[0m\u001B[0m_coordinated_creator\u001B[0m\u001B[1;33m.\u001B[0m\u001B[0mcreate_session\u001B[0m\u001B[1;33m(\u001B[0m\u001B[1;33m)\u001B[0m\u001B[1;33m\u001B[0m\u001B[1;33m\u001B[0m\u001B[0m\n",
      "\u001B[1;32mD:\\environment\\anaconda3\\envs\\tensorflow\\lib\\site-packages\\tensorflow\\python\\training\\monitored_session.py\u001B[0m in \u001B[0;36m__init__\u001B[1;34m(self, sess_creator)\u001B[0m\n\u001B[0;32m   1261\u001B[0m     \"\"\"\n\u001B[0;32m   1262\u001B[0m     \u001B[0mself\u001B[0m\u001B[1;33m.\u001B[0m\u001B[0m_sess_creator\u001B[0m \u001B[1;33m=\u001B[0m \u001B[0msess_creator\u001B[0m\u001B[1;33m\u001B[0m\u001B[1;33m\u001B[0m\u001B[0m\n\u001B[1;32m-> 1263\u001B[1;33m     \u001B[0m_WrappedSession\u001B[0m\u001B[1;33m.\u001B[0m\u001B[0m__init__\u001B[0m\u001B[1;33m(\u001B[0m\u001B[0mself\u001B[0m\u001B[1;33m,\u001B[0m \u001B[0mself\u001B[0m\u001B[1;33m.\u001B[0m\u001B[0m_create_session\u001B[0m\u001B[1;33m(\u001B[0m\u001B[1;33m)\u001B[0m\u001B[1;33m)\u001B[0m\u001B[1;33m\u001B[0m\u001B[1;33m\u001B[0m\u001B[0m\n\u001B[0m\u001B[0;32m   1264\u001B[0m \u001B[1;33m\u001B[0m\u001B[0m\n\u001B[0;32m   1265\u001B[0m   \u001B[1;32mdef\u001B[0m \u001B[0m_create_session\u001B[0m\u001B[1;33m(\u001B[0m\u001B[0mself\u001B[0m\u001B[1;33m)\u001B[0m\u001B[1;33m:\u001B[0m\u001B[1;33m\u001B[0m\u001B[1;33m\u001B[0m\u001B[0m\n",
      "\u001B[1;32mD:\\environment\\anaconda3\\envs\\tensorflow\\lib\\site-packages\\tensorflow\\python\\training\\monitored_session.py\u001B[0m in \u001B[0;36m_create_session\u001B[1;34m(self)\u001B[0m\n\u001B[0;32m   1266\u001B[0m     \u001B[1;32mwhile\u001B[0m \u001B[1;32mTrue\u001B[0m\u001B[1;33m:\u001B[0m\u001B[1;33m\u001B[0m\u001B[1;33m\u001B[0m\u001B[0m\n\u001B[0;32m   1267\u001B[0m       \u001B[1;32mtry\u001B[0m\u001B[1;33m:\u001B[0m\u001B[1;33m\u001B[0m\u001B[1;33m\u001B[0m\u001B[0m\n\u001B[1;32m-> 1268\u001B[1;33m         \u001B[1;32mreturn\u001B[0m \u001B[0mself\u001B[0m\u001B[1;33m.\u001B[0m\u001B[0m_sess_creator\u001B[0m\u001B[1;33m.\u001B[0m\u001B[0mcreate_session\u001B[0m\u001B[1;33m(\u001B[0m\u001B[1;33m)\u001B[0m\u001B[1;33m\u001B[0m\u001B[1;33m\u001B[0m\u001B[0m\n\u001B[0m\u001B[0;32m   1269\u001B[0m       \u001B[1;32mexcept\u001B[0m \u001B[0m_PREEMPTION_ERRORS\u001B[0m \u001B[1;32mas\u001B[0m \u001B[0me\u001B[0m\u001B[1;33m:\u001B[0m\u001B[1;33m\u001B[0m\u001B[1;33m\u001B[0m\u001B[0m\n\u001B[0;32m   1270\u001B[0m         logging.info(\n",
      "\u001B[1;32mD:\\environment\\anaconda3\\envs\\tensorflow\\lib\\site-packages\\tensorflow\\python\\training\\monitored_session.py\u001B[0m in \u001B[0;36mcreate_session\u001B[1;34m(self)\u001B[0m\n\u001B[0;32m    915\u001B[0m       \u001B[1;31m# Inform the hooks that a new session has been created.\u001B[0m\u001B[1;33m\u001B[0m\u001B[1;33m\u001B[0m\u001B[1;33m\u001B[0m\u001B[0m\n\u001B[0;32m    916\u001B[0m       \u001B[1;32mfor\u001B[0m \u001B[0mhook\u001B[0m \u001B[1;32min\u001B[0m \u001B[0mself\u001B[0m\u001B[1;33m.\u001B[0m\u001B[0m_hooks\u001B[0m\u001B[1;33m:\u001B[0m\u001B[1;33m\u001B[0m\u001B[1;33m\u001B[0m\u001B[0m\n\u001B[1;32m--> 917\u001B[1;33m         \u001B[0mhook\u001B[0m\u001B[1;33m.\u001B[0m\u001B[0mafter_create_session\u001B[0m\u001B[1;33m(\u001B[0m\u001B[0mself\u001B[0m\u001B[1;33m.\u001B[0m\u001B[0mtf_sess\u001B[0m\u001B[1;33m,\u001B[0m \u001B[0mself\u001B[0m\u001B[1;33m.\u001B[0m\u001B[0mcoord\u001B[0m\u001B[1;33m)\u001B[0m\u001B[1;33m\u001B[0m\u001B[1;33m\u001B[0m\u001B[0m\n\u001B[0m\u001B[0;32m    918\u001B[0m       return _CoordinatedSession(\n\u001B[0;32m    919\u001B[0m           \u001B[0m_HookedSession\u001B[0m\u001B[1;33m(\u001B[0m\u001B[0mself\u001B[0m\u001B[1;33m.\u001B[0m\u001B[0mtf_sess\u001B[0m\u001B[1;33m,\u001B[0m \u001B[0mself\u001B[0m\u001B[1;33m.\u001B[0m\u001B[0m_hooks\u001B[0m\u001B[1;33m)\u001B[0m\u001B[1;33m,\u001B[0m \u001B[0mself\u001B[0m\u001B[1;33m.\u001B[0m\u001B[0mcoord\u001B[0m\u001B[1;33m,\u001B[0m\u001B[1;33m\u001B[0m\u001B[1;33m\u001B[0m\u001B[0m\n",
      "\u001B[1;32mD:\\environment\\anaconda3\\envs\\tensorflow\\lib\\site-packages\\tensorflow\\python\\training\\basic_session_run_hooks.py\u001B[0m in \u001B[0;36mafter_create_session\u001B[1;34m(self, session, coord)\u001B[0m\n\u001B[0;32m    600\u001B[0m     \u001B[0mself\u001B[0m\u001B[1;33m.\u001B[0m\u001B[0m_summary_writer\u001B[0m\u001B[1;33m.\u001B[0m\u001B[0madd_meta_graph\u001B[0m\u001B[1;33m(\u001B[0m\u001B[0mmeta_graph_def\u001B[0m\u001B[1;33m)\u001B[0m\u001B[1;33m\u001B[0m\u001B[1;33m\u001B[0m\u001B[0m\n\u001B[0;32m    601\u001B[0m     \u001B[1;31m# The checkpoint saved here is the state at step \"global_step\".\u001B[0m\u001B[1;33m\u001B[0m\u001B[1;33m\u001B[0m\u001B[1;33m\u001B[0m\u001B[0m\n\u001B[1;32m--> 602\u001B[1;33m     \u001B[0mself\u001B[0m\u001B[1;33m.\u001B[0m\u001B[0m_save\u001B[0m\u001B[1;33m(\u001B[0m\u001B[0msession\u001B[0m\u001B[1;33m,\u001B[0m \u001B[0mglobal_step\u001B[0m\u001B[1;33m)\u001B[0m\u001B[1;33m\u001B[0m\u001B[1;33m\u001B[0m\u001B[0m\n\u001B[0m\u001B[0;32m    603\u001B[0m     \u001B[0mself\u001B[0m\u001B[1;33m.\u001B[0m\u001B[0m_timer\u001B[0m\u001B[1;33m.\u001B[0m\u001B[0mupdate_last_triggered_step\u001B[0m\u001B[1;33m(\u001B[0m\u001B[0mglobal_step\u001B[0m\u001B[1;33m)\u001B[0m\u001B[1;33m\u001B[0m\u001B[1;33m\u001B[0m\u001B[0m\n\u001B[0;32m    604\u001B[0m \u001B[1;33m\u001B[0m\u001B[0m\n",
      "\u001B[1;32mD:\\environment\\anaconda3\\envs\\tensorflow\\lib\\site-packages\\tensorflow\\python\\training\\basic_session_run_hooks.py\u001B[0m in \u001B[0;36m_save\u001B[1;34m(self, session, step)\u001B[0m\n\u001B[0;32m    633\u001B[0m     \u001B[0mlogging\u001B[0m\u001B[1;33m.\u001B[0m\u001B[0minfo\u001B[0m\u001B[1;33m(\u001B[0m\u001B[1;34m\"Saving checkpoints for %d into %s.\"\u001B[0m\u001B[1;33m,\u001B[0m \u001B[0mstep\u001B[0m\u001B[1;33m,\u001B[0m \u001B[0mself\u001B[0m\u001B[1;33m.\u001B[0m\u001B[0m_save_path\u001B[0m\u001B[1;33m)\u001B[0m\u001B[1;33m\u001B[0m\u001B[1;33m\u001B[0m\u001B[0m\n\u001B[0;32m    634\u001B[0m     self._get_saver().save(session, self._save_path, global_step=step,\n\u001B[1;32m--> 635\u001B[1;33m                            write_meta_graph=self._save_graph_def)\n\u001B[0m\u001B[0;32m    636\u001B[0m     self._summary_writer.add_session_log(\n\u001B[0;32m    637\u001B[0m         SessionLog(\n",
      "\u001B[1;32mD:\\environment\\anaconda3\\envs\\tensorflow\\lib\\site-packages\\tensorflow\\python\\training\\saver.py\u001B[0m in \u001B[0;36msave\u001B[1;34m(self, sess, save_path, global_step, latest_filename, meta_graph_suffix, write_meta_graph, write_state, strip_default_attrs, save_debug_info)\u001B[0m\n\u001B[0;32m   1284\u001B[0m           model_checkpoint_path = sess.run(\n\u001B[0;32m   1285\u001B[0m               \u001B[0mself\u001B[0m\u001B[1;33m.\u001B[0m\u001B[0msaver_def\u001B[0m\u001B[1;33m.\u001B[0m\u001B[0msave_tensor_name\u001B[0m\u001B[1;33m,\u001B[0m\u001B[1;33m\u001B[0m\u001B[1;33m\u001B[0m\u001B[0m\n\u001B[1;32m-> 1286\u001B[1;33m               {self.saver_def.filename_tensor_name: checkpoint_file})\n\u001B[0m\u001B[0;32m   1287\u001B[0m \u001B[1;33m\u001B[0m\u001B[0m\n\u001B[0;32m   1288\u001B[0m         \u001B[0mmodel_checkpoint_path\u001B[0m \u001B[1;33m=\u001B[0m \u001B[0mcompat\u001B[0m\u001B[1;33m.\u001B[0m\u001B[0mas_str\u001B[0m\u001B[1;33m(\u001B[0m\u001B[0mmodel_checkpoint_path\u001B[0m\u001B[1;33m)\u001B[0m\u001B[1;33m\u001B[0m\u001B[1;33m\u001B[0m\u001B[0m\n",
      "\u001B[1;32mD:\\environment\\anaconda3\\envs\\tensorflow\\lib\\site-packages\\tensorflow\\python\\client\\session.py\u001B[0m in \u001B[0;36mrun\u001B[1;34m(self, fetches, feed_dict, options, run_metadata)\u001B[0m\n\u001B[0;32m    967\u001B[0m     \u001B[1;32mtry\u001B[0m\u001B[1;33m:\u001B[0m\u001B[1;33m\u001B[0m\u001B[1;33m\u001B[0m\u001B[0m\n\u001B[0;32m    968\u001B[0m       result = self._run(None, fetches, feed_dict, options_ptr,\n\u001B[1;32m--> 969\u001B[1;33m                          run_metadata_ptr)\n\u001B[0m\u001B[0;32m    970\u001B[0m       \u001B[1;32mif\u001B[0m \u001B[0mrun_metadata\u001B[0m\u001B[1;33m:\u001B[0m\u001B[1;33m\u001B[0m\u001B[1;33m\u001B[0m\u001B[0m\n\u001B[0;32m    971\u001B[0m         \u001B[0mproto_data\u001B[0m \u001B[1;33m=\u001B[0m \u001B[0mtf_session\u001B[0m\u001B[1;33m.\u001B[0m\u001B[0mTF_GetBuffer\u001B[0m\u001B[1;33m(\u001B[0m\u001B[0mrun_metadata_ptr\u001B[0m\u001B[1;33m)\u001B[0m\u001B[1;33m\u001B[0m\u001B[1;33m\u001B[0m\u001B[0m\n",
      "\u001B[1;32mD:\\environment\\anaconda3\\envs\\tensorflow\\lib\\site-packages\\tensorflow\\python\\client\\session.py\u001B[0m in \u001B[0;36m_run\u001B[1;34m(self, handle, fetches, feed_dict, options, run_metadata)\u001B[0m\n\u001B[0;32m   1190\u001B[0m     \u001B[1;32mif\u001B[0m \u001B[0mfinal_fetches\u001B[0m \u001B[1;32mor\u001B[0m \u001B[0mfinal_targets\u001B[0m \u001B[1;32mor\u001B[0m \u001B[1;33m(\u001B[0m\u001B[0mhandle\u001B[0m \u001B[1;32mand\u001B[0m \u001B[0mfeed_dict_tensor\u001B[0m\u001B[1;33m)\u001B[0m\u001B[1;33m:\u001B[0m\u001B[1;33m\u001B[0m\u001B[1;33m\u001B[0m\u001B[0m\n\u001B[0;32m   1191\u001B[0m       results = self._do_run(handle, final_targets, final_fetches,\n\u001B[1;32m-> 1192\u001B[1;33m                              feed_dict_tensor, options, run_metadata)\n\u001B[0m\u001B[0;32m   1193\u001B[0m     \u001B[1;32melse\u001B[0m\u001B[1;33m:\u001B[0m\u001B[1;33m\u001B[0m\u001B[1;33m\u001B[0m\u001B[0m\n\u001B[0;32m   1194\u001B[0m       \u001B[0mresults\u001B[0m \u001B[1;33m=\u001B[0m \u001B[1;33m[\u001B[0m\u001B[1;33m]\u001B[0m\u001B[1;33m\u001B[0m\u001B[1;33m\u001B[0m\u001B[0m\n",
      "\u001B[1;32mD:\\environment\\anaconda3\\envs\\tensorflow\\lib\\site-packages\\tensorflow\\python\\client\\session.py\u001B[0m in \u001B[0;36m_do_run\u001B[1;34m(self, handle, target_list, fetch_list, feed_dict, options, run_metadata)\u001B[0m\n\u001B[0;32m   1370\u001B[0m     \u001B[1;32mif\u001B[0m \u001B[0mhandle\u001B[0m \u001B[1;32mis\u001B[0m \u001B[1;32mNone\u001B[0m\u001B[1;33m:\u001B[0m\u001B[1;33m\u001B[0m\u001B[1;33m\u001B[0m\u001B[0m\n\u001B[0;32m   1371\u001B[0m       return self._do_call(_run_fn, feeds, fetches, targets, options,\n\u001B[1;32m-> 1372\u001B[1;33m                            run_metadata)\n\u001B[0m\u001B[0;32m   1373\u001B[0m     \u001B[1;32melse\u001B[0m\u001B[1;33m:\u001B[0m\u001B[1;33m\u001B[0m\u001B[1;33m\u001B[0m\u001B[0m\n\u001B[0;32m   1374\u001B[0m       \u001B[1;32mreturn\u001B[0m \u001B[0mself\u001B[0m\u001B[1;33m.\u001B[0m\u001B[0m_do_call\u001B[0m\u001B[1;33m(\u001B[0m\u001B[0m_prun_fn\u001B[0m\u001B[1;33m,\u001B[0m \u001B[0mhandle\u001B[0m\u001B[1;33m,\u001B[0m \u001B[0mfeeds\u001B[0m\u001B[1;33m,\u001B[0m \u001B[0mfetches\u001B[0m\u001B[1;33m)\u001B[0m\u001B[1;33m\u001B[0m\u001B[1;33m\u001B[0m\u001B[0m\n",
      "\u001B[1;32mD:\\environment\\anaconda3\\envs\\tensorflow\\lib\\site-packages\\tensorflow\\python\\client\\session.py\u001B[0m in \u001B[0;36m_do_call\u001B[1;34m(self, fn, *args)\u001B[0m\n\u001B[0;32m   1376\u001B[0m   \u001B[1;32mdef\u001B[0m \u001B[0m_do_call\u001B[0m\u001B[1;33m(\u001B[0m\u001B[0mself\u001B[0m\u001B[1;33m,\u001B[0m \u001B[0mfn\u001B[0m\u001B[1;33m,\u001B[0m \u001B[1;33m*\u001B[0m\u001B[0margs\u001B[0m\u001B[1;33m)\u001B[0m\u001B[1;33m:\u001B[0m\u001B[1;33m\u001B[0m\u001B[1;33m\u001B[0m\u001B[0m\n\u001B[0;32m   1377\u001B[0m     \u001B[1;32mtry\u001B[0m\u001B[1;33m:\u001B[0m\u001B[1;33m\u001B[0m\u001B[1;33m\u001B[0m\u001B[0m\n\u001B[1;32m-> 1378\u001B[1;33m       \u001B[1;32mreturn\u001B[0m \u001B[0mfn\u001B[0m\u001B[1;33m(\u001B[0m\u001B[1;33m*\u001B[0m\u001B[0margs\u001B[0m\u001B[1;33m)\u001B[0m\u001B[1;33m\u001B[0m\u001B[1;33m\u001B[0m\u001B[0m\n\u001B[0m\u001B[0;32m   1379\u001B[0m     \u001B[1;32mexcept\u001B[0m \u001B[0merrors\u001B[0m\u001B[1;33m.\u001B[0m\u001B[0mOpError\u001B[0m \u001B[1;32mas\u001B[0m \u001B[0me\u001B[0m\u001B[1;33m:\u001B[0m\u001B[1;33m\u001B[0m\u001B[1;33m\u001B[0m\u001B[0m\n\u001B[0;32m   1380\u001B[0m       \u001B[0mmessage\u001B[0m \u001B[1;33m=\u001B[0m \u001B[0mcompat\u001B[0m\u001B[1;33m.\u001B[0m\u001B[0mas_text\u001B[0m\u001B[1;33m(\u001B[0m\u001B[0me\u001B[0m\u001B[1;33m.\u001B[0m\u001B[0mmessage\u001B[0m\u001B[1;33m)\u001B[0m\u001B[1;33m\u001B[0m\u001B[1;33m\u001B[0m\u001B[0m\n",
      "\u001B[1;32mD:\\environment\\anaconda3\\envs\\tensorflow\\lib\\site-packages\\tensorflow\\python\\client\\session.py\u001B[0m in \u001B[0;36m_run_fn\u001B[1;34m(feed_dict, fetch_list, target_list, options, run_metadata)\u001B[0m\n\u001B[0;32m   1360\u001B[0m       \u001B[0mself\u001B[0m\u001B[1;33m.\u001B[0m\u001B[0m_extend_graph\u001B[0m\u001B[1;33m(\u001B[0m\u001B[1;33m)\u001B[0m\u001B[1;33m\u001B[0m\u001B[1;33m\u001B[0m\u001B[0m\n\u001B[0;32m   1361\u001B[0m       return self._call_tf_sessionrun(options, feed_dict, fetch_list,\n\u001B[1;32m-> 1362\u001B[1;33m                                       target_list, run_metadata)\n\u001B[0m\u001B[0;32m   1363\u001B[0m \u001B[1;33m\u001B[0m\u001B[0m\n\u001B[0;32m   1364\u001B[0m     \u001B[1;32mdef\u001B[0m \u001B[0m_prun_fn\u001B[0m\u001B[1;33m(\u001B[0m\u001B[0mhandle\u001B[0m\u001B[1;33m,\u001B[0m \u001B[0mfeed_dict\u001B[0m\u001B[1;33m,\u001B[0m \u001B[0mfetch_list\u001B[0m\u001B[1;33m)\u001B[0m\u001B[1;33m:\u001B[0m\u001B[1;33m\u001B[0m\u001B[1;33m\u001B[0m\u001B[0m\n",
      "\u001B[1;32mD:\\environment\\anaconda3\\envs\\tensorflow\\lib\\site-packages\\tensorflow\\python\\client\\session.py\u001B[0m in \u001B[0;36m_call_tf_sessionrun\u001B[1;34m(self, options, feed_dict, fetch_list, target_list, run_metadata)\u001B[0m\n\u001B[0;32m   1454\u001B[0m     return tf_session.TF_SessionRun_wrapper(self._session, options, feed_dict,\n\u001B[0;32m   1455\u001B[0m                                             \u001B[0mfetch_list\u001B[0m\u001B[1;33m,\u001B[0m \u001B[0mtarget_list\u001B[0m\u001B[1;33m,\u001B[0m\u001B[1;33m\u001B[0m\u001B[1;33m\u001B[0m\u001B[0m\n\u001B[1;32m-> 1456\u001B[1;33m                                             run_metadata)\n\u001B[0m\u001B[0;32m   1457\u001B[0m \u001B[1;33m\u001B[0m\u001B[0m\n\u001B[0;32m   1458\u001B[0m   \u001B[1;32mdef\u001B[0m \u001B[0m_call_tf_sessionprun\u001B[0m\u001B[1;33m(\u001B[0m\u001B[0mself\u001B[0m\u001B[1;33m,\u001B[0m \u001B[0mhandle\u001B[0m\u001B[1;33m,\u001B[0m \u001B[0mfeed_dict\u001B[0m\u001B[1;33m,\u001B[0m \u001B[0mfetch_list\u001B[0m\u001B[1;33m)\u001B[0m\u001B[1;33m:\u001B[0m\u001B[1;33m\u001B[0m\u001B[1;33m\u001B[0m\u001B[0m\n",
      "\u001B[1;31mUnicodeDecodeError\u001B[0m: 'utf-8' codec can't decode byte 0xd5 in position 153: invalid continuation byte"
     ]
    }
   ],
   "execution_count": 22
  },
  {
   "metadata": {
    "ExecuteTime": {
     "end_time": "2024-06-09T12:39:57.205738Z",
     "start_time": "2024-06-09T12:39:56.385928Z"
    }
   },
   "cell_type": "code",
   "source": [
    "test_result = DNNClassifier.evaluate(input_fn=val_input_fn)\n",
    "print(test_result)"
   ],
   "id": "9d5dc48664a77a17",
   "outputs": [
    {
     "name": "stdout",
     "output_type": "stream",
     "text": [
      "INFO:tensorflow:Could not find trained model in model_dir: ./model/DNNClassifier, running initialization to evaluate.\n",
      "INFO:tensorflow:Calling model_fn.\n",
      "INFO:tensorflow:Done calling model_fn.\n",
      "INFO:tensorflow:Starting evaluation at 2024-06-09T20:39:56\n",
      "INFO:tensorflow:Graph was finalized.\n",
      "INFO:tensorflow:Running local_init_op.\n",
      "INFO:tensorflow:Done running local_init_op.\n",
      "INFO:tensorflow:Inference Time : 0.36801s\n",
      "INFO:tensorflow:Finished evaluation at 2024-06-09-20:39:57\n",
      "INFO:tensorflow:Saving dict for global step 0: accuracy = 0.076, average_loss = 2.3452759, global_step = 0, loss = 2.3455408\n",
      "{'accuracy': 0.076, 'average_loss': 2.3452759, 'loss': 2.3455408, 'global_step': 0}\n"
     ]
    }
   ],
   "execution_count": 23
  },
  {
   "metadata": {},
   "cell_type": "markdown",
   "source": "总结而言，模型的准确率和损失值都有所变动，显示出模型性能的微弱提升，但整体仍然处于较低水平。接下来，考虑加大训练力度，调整模型参数，或引入更有效的训练策略来进一步提升模型性能。同时，确保global_step计数的准确性对于监控模型训练进度也非常重要。",
   "id": "757234478d5aeb46"
  }
 ],
 "metadata": {
  "kernelspec": {
   "display_name": "Python 3",
   "language": "python",
   "name": "python3"
  },
  "language_info": {
   "codemirror_mode": {
    "name": "ipython",
    "version": 2
   },
   "file_extension": ".py",
   "mimetype": "text/x-python",
   "name": "python",
   "nbconvert_exporter": "python",
   "pygments_lexer": "ipython2",
   "version": "2.7.6"
  }
 },
 "nbformat": 4,
 "nbformat_minor": 5
}
