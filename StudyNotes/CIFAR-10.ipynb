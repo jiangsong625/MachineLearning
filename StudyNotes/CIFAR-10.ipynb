{
 "cells": [
  {
   "cell_type": "code",
   "id": "initial_id",
   "metadata": {
    "collapsed": true,
    "ExecuteTime": {
     "end_time": "2024-06-11T23:55:54.030067Z",
     "start_time": "2024-06-11T23:55:11.337231Z"
    }
   },
   "source": [
    "import tensorflow as tf\n",
    "from tensorflow.keras import datasets, layers, models, optimizers\n",
    "import numpy as np\n",
    "from tensorflow.keras.preprocessing.image import ImageDataGenerator"
   ],
   "outputs": [],
   "execution_count": 1
  },
  {
   "metadata": {},
   "cell_type": "markdown",
   "source": "CIFAR-10数据集包含10个类别，每个类别有6000张图片，每张照片大小为32*32，颜色为RGB。",
   "id": "776d9c7eb4ded0a"
  },
  {
   "metadata": {
    "ExecuteTime": {
     "end_time": "2024-06-11T23:55:58.667662Z",
     "start_time": "2024-06-11T23:55:58.530030Z"
    }
   },
   "cell_type": "code",
   "source": [
    "IMG_CHANNELS = 3\n",
    "IMG_ROWS = 32\n",
    "IMG_COLS = 32\n",
    "\n",
    "BATCH_SIZE = 128\n",
    "EPOCHS = 30\n",
    "CLASSES = 10\n",
    "VALIDATION_SPLIT = 0.2\n",
    "OPTIM = tf.keras.optimizers.Adam()"
   ],
   "id": "fc161e5ff47e396",
   "outputs": [],
   "execution_count": 2
  },
  {
   "metadata": {
    "ExecuteTime": {
     "end_time": "2024-06-11T23:56:03.994388Z",
     "start_time": "2024-06-11T23:56:01.661240Z"
    }
   },
   "cell_type": "code",
   "source": [
    "(x_train, y_train), (x_test, y_test) = datasets.cifar10.load_data()\n",
    "x_train = x_train.astype('float32')\n",
    "x_test = x_test.astype('float32')\n",
    "# normalize\n",
    "mean = np.mean(x_train, axis=(0, 1, 2, 3))\n",
    "std = np.std(x_train, axis=(0, 1, 2, 3))\n",
    "y_train = tf.keras.utils.to_categorical(y_train, CLASSES)\n",
    "y_test = tf.keras.utils.to_categorical(y_test, CLASSES)"
   ],
   "id": "25f48097f9c9e882",
   "outputs": [],
   "execution_count": 3
  },
  {
   "metadata": {
    "ExecuteTime": {
     "end_time": "2024-06-11T23:56:07.081134Z",
     "start_time": "2024-06-11T23:56:07.060223Z"
    }
   },
   "cell_type": "code",
   "source": [
    "def build(input_shape, classes):\n",
    "    model = models.Sequential()\n",
    "    # 卷积层\n",
    "    model.add(layers.Convolution2D(32, (3, 3), activation='relu', input_shape=input_shape))\n",
    "    # 池化层\n",
    "    model.add(layers.MaxPooling2D(pool_size=(2, 2)))\n",
    "    # 失活层\n",
    "    model.add(layers.Dropout(0.25))\n",
    "    # 稠密网络\n",
    "    model.add(layers.Flatten())\n",
    "    model.add(layers.Dense(512, activation='relu'))\n",
    "    model.add(layers.Dropout(0.5))\n",
    "    model.add(layers.Dense(classes, activation='softmax'))\n",
    "    return model"
   ],
   "id": "b97adf1159bd3896",
   "outputs": [],
   "execution_count": 4
  },
  {
   "metadata": {
    "ExecuteTime": {
     "end_time": "2024-06-11T23:56:09.541189Z",
     "start_time": "2024-06-11T23:56:09.531215Z"
    }
   },
   "cell_type": "code",
   "source": "callbacks = [tf.keras.callbacks.TensorBoard(log_dir='./CIFAR-10/logs', histogram_freq=1)]",
   "id": "891aac1921efec8c",
   "outputs": [],
   "execution_count": 5
  },
  {
   "metadata": {
    "ExecuteTime": {
     "end_time": "2024-06-12T00:06:16.933541Z",
     "start_time": "2024-06-11T23:56:10.143565Z"
    }
   },
   "cell_type": "code",
   "source": [
    "model = build(input_shape=(IMG_ROWS, IMG_COLS, IMG_CHANNELS), classes=CLASSES)\n",
    "model.compile(loss='categorical_crossentropy', optimizer=OPTIM, metrics=['accuracy'])\n",
    "model.fit(x_train, y_train, \n",
    "          batch_size=BATCH_SIZE,\n",
    "          epochs=EPOCHS, \n",
    "          validation_split=VALIDATION_SPLIT, \n",
    "          callbacks=callbacks)"
   ],
   "id": "828fafd1fd2906f9",
   "outputs": [
    {
     "name": "stdout",
     "output_type": "stream",
     "text": [
      "Epoch 1/30\n",
      "313/313 [==============================] - 22s 67ms/step - loss: 10.6620 - accuracy: 0.1145 - val_loss: 2.1766 - val_accuracy: 0.1649\n",
      "Epoch 2/30\n",
      "313/313 [==============================] - 20s 64ms/step - loss: 2.1981 - accuracy: 0.1553 - val_loss: 1.9980 - val_accuracy: 0.2292\n",
      "Epoch 3/30\n",
      "313/313 [==============================] - 22s 70ms/step - loss: 2.0691 - accuracy: 0.2079 - val_loss: 1.9723 - val_accuracy: 0.2651\n",
      "Epoch 4/30\n",
      "313/313 [==============================] - 22s 72ms/step - loss: 1.9825 - accuracy: 0.2416 - val_loss: 1.7692 - val_accuracy: 0.3382\n",
      "Epoch 5/30\n",
      "313/313 [==============================] - 21s 68ms/step - loss: 1.9119 - accuracy: 0.2686 - val_loss: 1.7226 - val_accuracy: 0.3514\n",
      "Epoch 6/30\n",
      "313/313 [==============================] - 20s 64ms/step - loss: 1.8594 - accuracy: 0.2946 - val_loss: 1.6892 - val_accuracy: 0.3752\n",
      "Epoch 7/30\n",
      "313/313 [==============================] - 20s 64ms/step - loss: 1.8038 - accuracy: 0.3178 - val_loss: 1.6106 - val_accuracy: 0.4121\n",
      "Epoch 8/30\n",
      "313/313 [==============================] - 21s 67ms/step - loss: 1.7361 - accuracy: 0.3540 - val_loss: 1.5755 - val_accuracy: 0.4245\n",
      "Epoch 9/30\n",
      "313/313 [==============================] - 20s 65ms/step - loss: 1.6885 - accuracy: 0.3749 - val_loss: 1.5213 - val_accuracy: 0.4680\n",
      "Epoch 10/30\n",
      "313/313 [==============================] - 20s 65ms/step - loss: 1.6350 - accuracy: 0.4010 - val_loss: 1.4843 - val_accuracy: 0.4711\n",
      "Epoch 11/30\n",
      "313/313 [==============================] - 22s 71ms/step - loss: 1.5899 - accuracy: 0.4146 - val_loss: 1.4513 - val_accuracy: 0.4969\n",
      "Epoch 12/30\n",
      "313/313 [==============================] - 20s 64ms/step - loss: 1.5687 - accuracy: 0.4239 - val_loss: 1.4582 - val_accuracy: 0.4867\n",
      "Epoch 13/30\n",
      "313/313 [==============================] - 19s 61ms/step - loss: 1.5491 - accuracy: 0.4378 - val_loss: 1.3685 - val_accuracy: 0.5322\n",
      "Epoch 14/30\n",
      "313/313 [==============================] - 19s 61ms/step - loss: 1.5029 - accuracy: 0.4552 - val_loss: 1.3739 - val_accuracy: 0.5141\n",
      "Epoch 15/30\n",
      "313/313 [==============================] - 19s 61ms/step - loss: 1.4769 - accuracy: 0.4626 - val_loss: 1.3346 - val_accuracy: 0.5324\n",
      "Epoch 16/30\n",
      "313/313 [==============================] - 19s 62ms/step - loss: 1.4385 - accuracy: 0.4773 - val_loss: 1.2843 - val_accuracy: 0.5457\n",
      "Epoch 17/30\n",
      "313/313 [==============================] - 19s 61ms/step - loss: 1.4158 - accuracy: 0.4872 - val_loss: 1.3102 - val_accuracy: 0.5375\n",
      "Epoch 18/30\n",
      "313/313 [==============================] - 19s 61ms/step - loss: 1.3820 - accuracy: 0.5017 - val_loss: 1.2834 - val_accuracy: 0.5546\n",
      "Epoch 19/30\n",
      "313/313 [==============================] - 19s 61ms/step - loss: 1.3597 - accuracy: 0.5120 - val_loss: 1.2874 - val_accuracy: 0.5555\n",
      "Epoch 20/30\n",
      "313/313 [==============================] - 19s 61ms/step - loss: 1.3534 - accuracy: 0.5155 - val_loss: 1.2889 - val_accuracy: 0.5444\n",
      "Epoch 21/30\n",
      "313/313 [==============================] - 20s 64ms/step - loss: 1.3232 - accuracy: 0.5279 - val_loss: 1.3127 - val_accuracy: 0.5686\n",
      "Epoch 22/30\n",
      "313/313 [==============================] - 21s 67ms/step - loss: 1.3236 - accuracy: 0.5268 - val_loss: 1.2272 - val_accuracy: 0.5816\n",
      "Epoch 23/30\n",
      "313/313 [==============================] - 19s 62ms/step - loss: 1.2931 - accuracy: 0.5363 - val_loss: 1.2678 - val_accuracy: 0.5825\n",
      "Epoch 24/30\n",
      "313/313 [==============================] - 21s 67ms/step - loss: 1.2732 - accuracy: 0.5454 - val_loss: 1.2775 - val_accuracy: 0.5638\n",
      "Epoch 25/30\n",
      "313/313 [==============================] - 21s 66ms/step - loss: 1.2650 - accuracy: 0.5508 - val_loss: 1.2561 - val_accuracy: 0.5605\n",
      "Epoch 26/30\n",
      "313/313 [==============================] - 19s 61ms/step - loss: 1.2559 - accuracy: 0.5545 - val_loss: 1.2118 - val_accuracy: 0.5867\n",
      "Epoch 27/30\n",
      "313/313 [==============================] - 20s 62ms/step - loss: 1.2538 - accuracy: 0.5562 - val_loss: 1.2246 - val_accuracy: 0.5838\n",
      "Epoch 28/30\n",
      "313/313 [==============================] - 21s 66ms/step - loss: 1.2191 - accuracy: 0.5657 - val_loss: 1.2177 - val_accuracy: 0.5939\n",
      "Epoch 29/30\n",
      "313/313 [==============================] - 19s 60ms/step - loss: 1.2248 - accuracy: 0.5666 - val_loss: 1.2197 - val_accuracy: 0.5835\n",
      "Epoch 30/30\n",
      "313/313 [==============================] - 19s 62ms/step - loss: 1.2000 - accuracy: 0.5753 - val_loss: 1.2047 - val_accuracy: 0.5957\n"
     ]
    },
    {
     "data": {
      "text/plain": [
       "<keras.callbacks.History at 0x1d959053748>"
      ]
     },
     "execution_count": 6,
     "metadata": {},
     "output_type": "execute_result"
    }
   ],
   "execution_count": 6
  },
  {
   "metadata": {
    "ExecuteTime": {
     "end_time": "2024-06-12T00:06:28.159988Z",
     "start_time": "2024-06-12T00:06:25.773404Z"
    }
   },
   "cell_type": "code",
   "source": [
    "score = model.evaluate(x_test, y_test, verbose=0)\n",
    "print('Test loss:', score[0])\n",
    "print('Test accuracy:', score[1])"
   ],
   "id": "834fcf8590cfb537",
   "outputs": [
    {
     "name": "stdout",
     "output_type": "stream",
     "text": [
      "Test loss: 1.2007423639297485\n",
      "Test accuracy: 0.5921000242233276\n"
     ]
    }
   ],
   "execution_count": 7
  },
  {
   "metadata": {},
   "cell_type": "markdown",
   "source": "使用更深的网络提高CIFAE-10的性能",
   "id": "d7e1e4902507468"
  },
  {
   "metadata": {
    "ExecuteTime": {
     "end_time": "2024-06-12T00:06:30.942164Z",
     "start_time": "2024-06-12T00:06:30.921220Z"
    }
   },
   "cell_type": "code",
   "source": [
    "def build_more():\n",
    "    model = models.Sequential()\n",
    "    model.add(layers.Convolution2D(32, (3, 3), padding='same', activation='relu', input_shape=(IMG_ROWS, IMG_COLS, IMG_CHANNELS)))\n",
    "    model.add(layers.BatchNormalization())\n",
    "    model.add(layers.Convolution2D(32, (3, 3), padding='same', activation='relu'))\n",
    "    model.add(layers.BatchNormalization())\n",
    "    model.add(layers.MaxPooling2D(pool_size=(2, 2)))\n",
    "    model.add(layers.Dropout(0.2))\n",
    "    \n",
    "    model.add(layers.Convolution2D(64, (3, 3), padding='same', activation='relu'))\n",
    "    model.add(layers.BatchNormalization())\n",
    "    model.add(layers.Convolution2D(64, (3, 3), padding='same', activation='relu'))\n",
    "    model.add(layers.BatchNormalization())\n",
    "    model.add(layers.MaxPooling2D(pool_size=(2, 2)))\n",
    "    model.add(layers.Dropout(0.3))\n",
    "    \n",
    "    model.add(layers.Convolution2D(128, (3, 3), padding='same', activation='relu'))\n",
    "    model.add(layers.BatchNormalization())\n",
    "    model.add(layers.Convolution2D(128, (3, 3), padding='same', activation='relu'))\n",
    "    model.add(layers.BatchNormalization())\n",
    "    model.add(layers.MaxPooling2D(pool_size=(2, 2)))\n",
    "    model.add(layers.Dropout(0.4))\n",
    "    \n",
    "    model.add(layers.Flatten())\n",
    "    model.add(layers.Dense(10, activation='softmax'))\n",
    "    return model"
   ],
   "id": "82c4088138aaf2d4",
   "outputs": [],
   "execution_count": 8
  },
  {
   "metadata": {
    "ExecuteTime": {
     "end_time": "2024-06-12T00:06:37.018461Z",
     "start_time": "2024-06-12T00:06:36.829948Z"
    }
   },
   "cell_type": "code",
   "source": [
    "model_more = build_more()\n",
    "model_more.compile(loss='categorical_crossentropy', optimizer='RMSprop', metrics=['accuracy'])\n",
    "batch_size = 64\n",
    "model_more.summary()"
   ],
   "id": "8ed481b277096735",
   "outputs": [
    {
     "name": "stdout",
     "output_type": "stream",
     "text": [
      "Model: \"sequential_1\"\n",
      "_________________________________________________________________\n",
      " Layer (type)                Output Shape              Param #   \n",
      "=================================================================\n",
      " conv2d_1 (Conv2D)           (None, 32, 32, 32)        896       \n",
      "                                                                 \n",
      " batch_normalization (BatchN  (None, 32, 32, 32)       128       \n",
      " ormalization)                                                   \n",
      "                                                                 \n",
      " conv2d_2 (Conv2D)           (None, 32, 32, 32)        9248      \n",
      "                                                                 \n",
      " batch_normalization_1 (Batc  (None, 32, 32, 32)       128       \n",
      " hNormalization)                                                 \n",
      "                                                                 \n",
      " max_pooling2d_1 (MaxPooling  (None, 16, 16, 32)       0         \n",
      " 2D)                                                             \n",
      "                                                                 \n",
      " dropout_2 (Dropout)         (None, 16, 16, 32)        0         \n",
      "                                                                 \n",
      " conv2d_3 (Conv2D)           (None, 16, 16, 64)        18496     \n",
      "                                                                 \n",
      " batch_normalization_2 (Batc  (None, 16, 16, 64)       256       \n",
      " hNormalization)                                                 \n",
      "                                                                 \n",
      " conv2d_4 (Conv2D)           (None, 16, 16, 64)        36928     \n",
      "                                                                 \n",
      " batch_normalization_3 (Batc  (None, 16, 16, 64)       256       \n",
      " hNormalization)                                                 \n",
      "                                                                 \n",
      " max_pooling2d_2 (MaxPooling  (None, 8, 8, 64)         0         \n",
      " 2D)                                                             \n",
      "                                                                 \n",
      " dropout_3 (Dropout)         (None, 8, 8, 64)          0         \n",
      "                                                                 \n",
      " conv2d_5 (Conv2D)           (None, 8, 8, 128)         73856     \n",
      "                                                                 \n",
      " batch_normalization_4 (Batc  (None, 8, 8, 128)        512       \n",
      " hNormalization)                                                 \n",
      "                                                                 \n",
      " conv2d_6 (Conv2D)           (None, 8, 8, 128)         147584    \n",
      "                                                                 \n",
      " batch_normalization_5 (Batc  (None, 8, 8, 128)        512       \n",
      " hNormalization)                                                 \n",
      "                                                                 \n",
      " max_pooling2d_3 (MaxPooling  (None, 4, 4, 128)        0         \n",
      " 2D)                                                             \n",
      "                                                                 \n",
      " dropout_4 (Dropout)         (None, 4, 4, 128)         0         \n",
      "                                                                 \n",
      " flatten_1 (Flatten)         (None, 2048)              0         \n",
      "                                                                 \n",
      " dense_2 (Dense)             (None, 10)                20490     \n",
      "                                                                 \n",
      "=================================================================\n",
      "Total params: 309,290\n",
      "Trainable params: 308,394\n",
      "Non-trainable params: 896\n",
      "_________________________________________________________________\n"
     ]
    }
   ],
   "execution_count": 9
  },
  {
   "metadata": {
    "ExecuteTime": {
     "end_time": "2024-06-12T02:15:31.241450Z",
     "start_time": "2024-06-12T00:06:40.182594Z"
    }
   },
   "cell_type": "code",
   "source": [
    "EPOCHS = 50\n",
    "model_more.fit(x_train, y_train,\n",
    "               batch_size=batch_size,\n",
    "               epochs=EPOCHS,\n",
    "               validation_data=(x_test, y_test),)"
   ],
   "id": "bdcb443dd36a3e43",
   "outputs": [
    {
     "name": "stdout",
     "output_type": "stream",
     "text": [
      "Epoch 1/50\n",
      "782/782 [==============================] - 154s 195ms/step - loss: 1.7693 - accuracy: 0.4867 - val_loss: 1.7343 - val_accuracy: 0.5084\n",
      "Epoch 2/50\n",
      "782/782 [==============================] - 154s 197ms/step - loss: 1.1782 - accuracy: 0.6471 - val_loss: 1.0065 - val_accuracy: 0.6694\n",
      "Epoch 3/50\n",
      "782/782 [==============================] - 156s 199ms/step - loss: 0.9626 - accuracy: 0.7023 - val_loss: 1.0851 - val_accuracy: 0.6683\n",
      "Epoch 4/50\n",
      "782/782 [==============================] - 156s 200ms/step - loss: 0.8076 - accuracy: 0.7357 - val_loss: 0.8692 - val_accuracy: 0.7205\n",
      "Epoch 5/50\n",
      "782/782 [==============================] - 135s 173ms/step - loss: 0.7046 - accuracy: 0.7616 - val_loss: 0.7010 - val_accuracy: 0.7640\n",
      "Epoch 6/50\n",
      "782/782 [==============================] - 149s 190ms/step - loss: 0.6313 - accuracy: 0.7861 - val_loss: 0.6762 - val_accuracy: 0.7676\n",
      "Epoch 7/50\n",
      "782/782 [==============================] - 154s 198ms/step - loss: 0.5770 - accuracy: 0.8029 - val_loss: 0.8764 - val_accuracy: 0.7223\n",
      "Epoch 8/50\n",
      "782/782 [==============================] - 155s 198ms/step - loss: 0.5370 - accuracy: 0.8157 - val_loss: 0.6746 - val_accuracy: 0.7775\n",
      "Epoch 9/50\n",
      "782/782 [==============================] - 151s 194ms/step - loss: 0.5089 - accuracy: 0.8245 - val_loss: 0.7842 - val_accuracy: 0.7495\n",
      "Epoch 10/50\n",
      "782/782 [==============================] - 155s 198ms/step - loss: 0.4781 - accuracy: 0.8344 - val_loss: 0.7048 - val_accuracy: 0.7649\n",
      "Epoch 11/50\n",
      "782/782 [==============================] - 153s 195ms/step - loss: 0.4496 - accuracy: 0.8448 - val_loss: 0.5352 - val_accuracy: 0.8246\n",
      "Epoch 12/50\n",
      "782/782 [==============================] - 153s 196ms/step - loss: 0.4299 - accuracy: 0.8492 - val_loss: 0.6008 - val_accuracy: 0.8014\n",
      "Epoch 13/50\n",
      "782/782 [==============================] - 154s 197ms/step - loss: 0.4077 - accuracy: 0.8589 - val_loss: 0.5378 - val_accuracy: 0.8248\n",
      "Epoch 14/50\n",
      "782/782 [==============================] - 154s 197ms/step - loss: 0.3856 - accuracy: 0.8662 - val_loss: 0.5139 - val_accuracy: 0.8301\n",
      "Epoch 15/50\n",
      "782/782 [==============================] - 154s 197ms/step - loss: 0.3749 - accuracy: 0.8693 - val_loss: 0.5883 - val_accuracy: 0.8113\n",
      "Epoch 16/50\n",
      "782/782 [==============================] - 152s 195ms/step - loss: 0.3601 - accuracy: 0.8750 - val_loss: 0.7509 - val_accuracy: 0.7647\n",
      "Epoch 17/50\n",
      "782/782 [==============================] - 154s 197ms/step - loss: 0.3444 - accuracy: 0.8793 - val_loss: 0.5176 - val_accuracy: 0.8281\n",
      "Epoch 18/50\n",
      "782/782 [==============================] - 151s 193ms/step - loss: 0.3301 - accuracy: 0.8846 - val_loss: 0.5830 - val_accuracy: 0.8184\n",
      "Epoch 19/50\n",
      "782/782 [==============================] - 151s 193ms/step - loss: 0.3231 - accuracy: 0.8870 - val_loss: 0.6397 - val_accuracy: 0.8044\n",
      "Epoch 20/50\n",
      "782/782 [==============================] - 152s 194ms/step - loss: 0.3086 - accuracy: 0.8914 - val_loss: 0.5319 - val_accuracy: 0.8278\n",
      "Epoch 21/50\n",
      "782/782 [==============================] - 152s 194ms/step - loss: 0.2960 - accuracy: 0.8966 - val_loss: 0.4738 - val_accuracy: 0.8507\n",
      "Epoch 22/50\n",
      "782/782 [==============================] - 158s 202ms/step - loss: 0.2942 - accuracy: 0.8957 - val_loss: 0.4854 - val_accuracy: 0.8433\n",
      "Epoch 23/50\n",
      "782/782 [==============================] - 157s 201ms/step - loss: 0.2848 - accuracy: 0.9000 - val_loss: 0.4821 - val_accuracy: 0.8500\n",
      "Epoch 24/50\n",
      "782/782 [==============================] - 158s 202ms/step - loss: 0.2738 - accuracy: 0.9027 - val_loss: 0.6235 - val_accuracy: 0.8117\n",
      "Epoch 25/50\n",
      "782/782 [==============================] - 157s 201ms/step - loss: 0.2653 - accuracy: 0.9058 - val_loss: 0.5672 - val_accuracy: 0.8246\n",
      "Epoch 26/50\n",
      "782/782 [==============================] - 157s 201ms/step - loss: 0.2612 - accuracy: 0.9079 - val_loss: 0.5065 - val_accuracy: 0.8460\n",
      "Epoch 27/50\n",
      "782/782 [==============================] - 158s 202ms/step - loss: 0.2544 - accuracy: 0.9096 - val_loss: 0.4809 - val_accuracy: 0.8453\n",
      "Epoch 28/50\n",
      "782/782 [==============================] - 156s 200ms/step - loss: 0.2456 - accuracy: 0.9124 - val_loss: 0.5226 - val_accuracy: 0.8402\n",
      "Epoch 29/50\n",
      "782/782 [==============================] - 157s 201ms/step - loss: 0.2379 - accuracy: 0.9154 - val_loss: 0.5898 - val_accuracy: 0.8185\n",
      "Epoch 30/50\n",
      "782/782 [==============================] - 157s 200ms/step - loss: 0.2355 - accuracy: 0.9157 - val_loss: 0.5702 - val_accuracy: 0.8322\n",
      "Epoch 31/50\n",
      "782/782 [==============================] - 156s 200ms/step - loss: 0.2231 - accuracy: 0.9205 - val_loss: 0.5325 - val_accuracy: 0.8389\n",
      "Epoch 32/50\n",
      "782/782 [==============================] - 157s 201ms/step - loss: 0.2253 - accuracy: 0.9214 - val_loss: 0.5627 - val_accuracy: 0.8358\n",
      "Epoch 33/50\n",
      "782/782 [==============================] - 157s 201ms/step - loss: 0.2211 - accuracy: 0.9198 - val_loss: 0.5116 - val_accuracy: 0.8478\n",
      "Epoch 34/50\n",
      "782/782 [==============================] - 156s 200ms/step - loss: 0.2150 - accuracy: 0.9233 - val_loss: 0.4932 - val_accuracy: 0.8541\n",
      "Epoch 35/50\n",
      "782/782 [==============================] - 153s 196ms/step - loss: 0.2147 - accuracy: 0.9239 - val_loss: 0.4892 - val_accuracy: 0.8564\n",
      "Epoch 36/50\n",
      "782/782 [==============================] - 151s 193ms/step - loss: 0.2034 - accuracy: 0.9280 - val_loss: 0.5138 - val_accuracy: 0.8476\n",
      "Epoch 37/50\n",
      "782/782 [==============================] - 163s 209ms/step - loss: 0.2012 - accuracy: 0.9283 - val_loss: 0.5659 - val_accuracy: 0.8389\n",
      "Epoch 38/50\n",
      "782/782 [==============================] - 161s 206ms/step - loss: 0.2007 - accuracy: 0.9276 - val_loss: 0.6138 - val_accuracy: 0.8323\n",
      "Epoch 39/50\n",
      "782/782 [==============================] - 159s 203ms/step - loss: 0.1977 - accuracy: 0.9293 - val_loss: 0.5108 - val_accuracy: 0.8524\n",
      "Epoch 40/50\n",
      "782/782 [==============================] - 155s 199ms/step - loss: 0.1944 - accuracy: 0.9303 - val_loss: 0.4907 - val_accuracy: 0.8586\n",
      "Epoch 41/50\n",
      "782/782 [==============================] - 154s 197ms/step - loss: 0.1907 - accuracy: 0.9320 - val_loss: 0.5499 - val_accuracy: 0.8490\n",
      "Epoch 42/50\n",
      "782/782 [==============================] - 155s 198ms/step - loss: 0.1857 - accuracy: 0.9337 - val_loss: 0.5002 - val_accuracy: 0.8594\n",
      "Epoch 43/50\n",
      "782/782 [==============================] - 156s 200ms/step - loss: 0.1834 - accuracy: 0.9349 - val_loss: 0.5759 - val_accuracy: 0.8363\n",
      "Epoch 44/50\n",
      "782/782 [==============================] - 154s 197ms/step - loss: 0.1822 - accuracy: 0.9348 - val_loss: 0.5401 - val_accuracy: 0.8480\n",
      "Epoch 45/50\n",
      "782/782 [==============================] - 154s 197ms/step - loss: 0.1777 - accuracy: 0.9362 - val_loss: 0.5019 - val_accuracy: 0.8566\n",
      "Epoch 46/50\n",
      "782/782 [==============================] - 154s 197ms/step - loss: 0.1749 - accuracy: 0.9377 - val_loss: 0.5548 - val_accuracy: 0.8476\n",
      "Epoch 47/50\n",
      "782/782 [==============================] - 156s 200ms/step - loss: 0.1735 - accuracy: 0.9399 - val_loss: 0.5361 - val_accuracy: 0.8533\n",
      "Epoch 48/50\n",
      "782/782 [==============================] - 154s 197ms/step - loss: 0.1715 - accuracy: 0.9380 - val_loss: 0.5499 - val_accuracy: 0.8525\n",
      "Epoch 49/50\n",
      "782/782 [==============================] - 154s 197ms/step - loss: 0.1721 - accuracy: 0.9390 - val_loss: 0.5314 - val_accuracy: 0.8482\n",
      "Epoch 50/50\n",
      "782/782 [==============================] - 155s 198ms/step - loss: 0.1652 - accuracy: 0.9407 - val_loss: 0.5932 - val_accuracy: 0.8423\n"
     ]
    },
    {
     "data": {
      "text/plain": [
       "<keras.callbacks.History at 0x1d924a49ef0>"
      ]
     },
     "execution_count": 10,
     "metadata": {},
     "output_type": "execute_result"
    }
   ],
   "execution_count": 10
  },
  {
   "metadata": {
    "ExecuteTime": {
     "end_time": "2024-06-12T02:16:47.327902Z",
     "start_time": "2024-06-12T02:16:41.504128Z"
    }
   },
   "cell_type": "code",
   "source": [
    "score = model_more.evaluate(x_test, y_test, batch_size=batch_size)\n",
    "print('Test loss:', score[0])\n",
    "print('Test accuracy:', score[1])"
   ],
   "id": "81d5766b9d79cc6a",
   "outputs": [
    {
     "name": "stdout",
     "output_type": "stream",
     "text": [
      "157/157 [==============================] - 6s 36ms/step - loss: 0.5932 - accuracy: 0.8423\n",
      "Test loss: 0.5932190418243408\n",
      "Test accuracy: 0.8422999978065491\n"
     ]
    }
   ],
   "execution_count": 11
  },
  {
   "metadata": {},
   "cell_type": "code",
   "outputs": [],
   "execution_count": null,
   "source": "",
   "id": "a0cc35b9c0627b98"
  }
 ],
 "metadata": {
  "kernelspec": {
   "display_name": "Python 3",
   "language": "python",
   "name": "python3"
  },
  "language_info": {
   "codemirror_mode": {
    "name": "ipython",
    "version": 2
   },
   "file_extension": ".py",
   "mimetype": "text/x-python",
   "name": "python",
   "nbconvert_exporter": "python",
   "pygments_lexer": "ipython2",
   "version": "2.7.6"
  }
 },
 "nbformat": 4,
 "nbformat_minor": 5
}
