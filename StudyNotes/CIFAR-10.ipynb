{
 "cells": [
  {
   "cell_type": "code",
   "id": "initial_id",
   "metadata": {
    "collapsed": true,
    "ExecuteTime": {
     "end_time": "2024-06-13T03:12:47.306881Z",
     "start_time": "2024-06-13T03:12:20.435125Z"
    }
   },
   "source": [
    "import tensorflow as tf\n",
    "from tensorflow.keras import datasets, layers, models, optimizers\n",
    "import numpy as np\n",
    "from tensorflow.keras.preprocessing.image import ImageDataGenerator"
   ],
   "outputs": [],
   "execution_count": 1
  },
  {
   "cell_type": "markdown",
   "id": "776d9c7eb4ded0a",
   "metadata": {},
   "source": [
    "CIFAR-10数据集包含10个类别，每个类别有6000张图片，每张照片大小为32*32，颜色为RGB。"
   ]
  },
  {
   "cell_type": "code",
   "id": "fc161e5ff47e396",
   "metadata": {
    "ExecuteTime": {
     "end_time": "2024-06-13T03:13:24.486978Z",
     "start_time": "2024-06-13T03:13:24.339381Z"
    }
   },
   "source": [
    "IMG_CHANNELS = 3\n",
    "IMG_ROWS = 32\n",
    "IMG_COLS = 32\n",
    "\n",
    "BATCH_SIZE = 128\n",
    "EPOCHS = 30\n",
    "CLASSES = 10\n",
    "VALIDATION_SPLIT = 0.2\n",
    "OPTIM = tf.keras.optimizers.Adam()"
   ],
   "outputs": [],
   "execution_count": 2
  },
  {
   "cell_type": "code",
   "id": "25f48097f9c9e882",
   "metadata": {
    "ExecuteTime": {
     "end_time": "2024-06-13T03:13:29.791097Z",
     "start_time": "2024-06-13T03:13:27.390117Z"
    }
   },
   "source": [
    "(x_train, y_train), (x_test, y_test) = datasets.cifar10.load_data()\n",
    "x_train = x_train.astype('float32')\n",
    "x_test = x_test.astype('float32')\n",
    "# normalize\n",
    "mean = np.mean(x_train, axis=(0, 1, 2, 3))\n",
    "std = np.std(x_train, axis=(0, 1, 2, 3))\n",
    "y_train = tf.keras.utils.to_categorical(y_train, CLASSES)\n",
    "y_test = tf.keras.utils.to_categorical(y_test, CLASSES)"
   ],
   "outputs": [],
   "execution_count": 3
  },
  {
   "cell_type": "code",
   "execution_count": 63,
   "id": "b97adf1159bd3896",
   "metadata": {
    "ExecuteTime": {
     "end_time": "2024-06-12T14:46:05.451618Z",
     "start_time": "2024-06-12T14:46:05.438652Z"
    }
   },
   "outputs": [],
   "source": [
    "def build(input_shape, classes):\n",
    "    model = models.Sequential()\n",
    "    # 卷积层\n",
    "    model.add(layers.Convolution2D(32, (3, 3), activation='relu', input_shape=input_shape))\n",
    "    # 池化层\n",
    "    model.add(layers.MaxPooling2D(pool_size=(2, 2)))\n",
    "    # 失活层\n",
    "    model.add(layers.Dropout(0.25))\n",
    "    # 稠密网络\n",
    "    model.add(layers.Flatten())\n",
    "    model.add(layers.Dense(512, activation='relu'))\n",
    "    model.add(layers.Dropout(0.5))\n",
    "    model.add(layers.Dense(classes, activation='softmax'))\n",
    "    return model"
   ]
  },
  {
   "cell_type": "code",
   "execution_count": 64,
   "id": "891aac1921efec8c",
   "metadata": {
    "ExecuteTime": {
     "end_time": "2024-06-12T14:46:06.909335Z",
     "start_time": "2024-06-12T14:46:06.904347Z"
    }
   },
   "outputs": [],
   "source": [
    "callbacks = [tf.keras.callbacks.TensorBoard(log_dir='./CIFAR-10/logs', histogram_freq=1)]"
   ]
  },
  {
   "cell_type": "code",
   "execution_count": 83,
   "id": "828fafd1fd2906f9",
   "metadata": {
    "ExecuteTime": {
     "end_time": "2024-06-12T15:01:52.214461Z",
     "start_time": "2024-06-12T14:51:54.108777Z"
    }
   },
   "outputs": [
    {
     "name": "stdout",
     "output_type": "stream",
     "text": [
      "Epoch 1/30\n",
      "313/313 [==============================] - 21s 65ms/step - loss: 12.1041 - accuracy: 0.1170 - val_loss: 2.2941 - val_accuracy: 0.1135\n",
      "Epoch 2/30\n",
      "313/313 [==============================] - 20s 63ms/step - loss: 2.2605 - accuracy: 0.1375 - val_loss: 2.2696 - val_accuracy: 0.1367\n",
      "Epoch 3/30\n",
      "313/313 [==============================] - 20s 63ms/step - loss: 2.2162 - accuracy: 0.1640 - val_loss: 2.2314 - val_accuracy: 0.1609\n",
      "Epoch 4/30\n",
      "313/313 [==============================] - 20s 63ms/step - loss: 2.1567 - accuracy: 0.1890 - val_loss: 2.1776 - val_accuracy: 0.1898\n",
      "Epoch 5/30\n",
      "313/313 [==============================] - 20s 64ms/step - loss: 2.0816 - accuracy: 0.2256 - val_loss: 2.0935 - val_accuracy: 0.2252\n",
      "Epoch 6/30\n",
      "313/313 [==============================] - 20s 65ms/step - loss: 1.9995 - accuracy: 0.2605 - val_loss: 2.0573 - val_accuracy: 0.2467\n",
      "Epoch 7/30\n",
      "313/313 [==============================] - 20s 63ms/step - loss: 1.9005 - accuracy: 0.3011 - val_loss: 1.9637 - val_accuracy: 0.2867\n",
      "Epoch 8/30\n",
      "313/313 [==============================] - 20s 63ms/step - loss: 1.8169 - accuracy: 0.3366 - val_loss: 1.8829 - val_accuracy: 0.3237\n",
      "Epoch 9/30\n",
      "313/313 [==============================] - 20s 64ms/step - loss: 1.7302 - accuracy: 0.3667 - val_loss: 1.8442 - val_accuracy: 0.3385\n",
      "Epoch 10/30\n",
      "313/313 [==============================] - 20s 64ms/step - loss: 1.6714 - accuracy: 0.3927 - val_loss: 1.9204 - val_accuracy: 0.3183\n",
      "Epoch 11/30\n",
      "313/313 [==============================] - 20s 63ms/step - loss: 1.6183 - accuracy: 0.4110 - val_loss: 1.8071 - val_accuracy: 0.3618\n",
      "Epoch 12/30\n",
      "313/313 [==============================] - 20s 63ms/step - loss: 1.5441 - accuracy: 0.4411 - val_loss: 1.8272 - val_accuracy: 0.3527\n",
      "Epoch 13/30\n",
      "313/313 [==============================] - 21s 66ms/step - loss: 1.5177 - accuracy: 0.4513 - val_loss: 1.8054 - val_accuracy: 0.3700\n",
      "Epoch 14/30\n",
      "313/313 [==============================] - 20s 62ms/step - loss: 1.4542 - accuracy: 0.4761 - val_loss: 1.7824 - val_accuracy: 0.3806\n",
      "Epoch 15/30\n",
      "313/313 [==============================] - 20s 63ms/step - loss: 1.4337 - accuracy: 0.4857 - val_loss: 1.8135 - val_accuracy: 0.3681\n",
      "Epoch 16/30\n",
      "313/313 [==============================] - 20s 63ms/step - loss: 1.3890 - accuracy: 0.4979 - val_loss: 1.7628 - val_accuracy: 0.3933\n",
      "Epoch 17/30\n",
      "313/313 [==============================] - 20s 62ms/step - loss: 1.3553 - accuracy: 0.5124 - val_loss: 1.7943 - val_accuracy: 0.3915\n",
      "Epoch 18/30\n",
      "313/313 [==============================] - 20s 62ms/step - loss: 1.3167 - accuracy: 0.5257 - val_loss: 1.7525 - val_accuracy: 0.4060\n",
      "Epoch 19/30\n",
      "313/313 [==============================] - 20s 63ms/step - loss: 1.2838 - accuracy: 0.5410 - val_loss: 1.7617 - val_accuracy: 0.4030\n",
      "Epoch 20/30\n",
      "313/313 [==============================] - 20s 63ms/step - loss: 1.2597 - accuracy: 0.5484 - val_loss: 1.8815 - val_accuracy: 0.3858\n",
      "Epoch 21/30\n",
      "313/313 [==============================] - 19s 62ms/step - loss: 1.2376 - accuracy: 0.5583 - val_loss: 1.7470 - val_accuracy: 0.4129\n",
      "Epoch 22/30\n",
      "313/313 [==============================] - 20s 64ms/step - loss: 1.2185 - accuracy: 0.5647 - val_loss: 1.8076 - val_accuracy: 0.3998\n",
      "Epoch 23/30\n",
      "313/313 [==============================] - 20s 63ms/step - loss: 1.1978 - accuracy: 0.5758 - val_loss: 1.7450 - val_accuracy: 0.4183\n",
      "Epoch 24/30\n",
      "313/313 [==============================] - 20s 64ms/step - loss: 1.1763 - accuracy: 0.5801 - val_loss: 1.8372 - val_accuracy: 0.4041\n",
      "Epoch 25/30\n",
      "313/313 [==============================] - 20s 64ms/step - loss: 1.1474 - accuracy: 0.5926 - val_loss: 1.8213 - val_accuracy: 0.4106\n",
      "Epoch 26/30\n",
      "313/313 [==============================] - 20s 65ms/step - loss: 1.1222 - accuracy: 0.6008 - val_loss: 1.8115 - val_accuracy: 0.4165\n",
      "Epoch 27/30\n",
      "313/313 [==============================] - 20s 64ms/step - loss: 1.1169 - accuracy: 0.6025 - val_loss: 1.8532 - val_accuracy: 0.4147\n",
      "Epoch 28/30\n",
      "313/313 [==============================] - 20s 65ms/step - loss: 1.1033 - accuracy: 0.6090 - val_loss: 1.8776 - val_accuracy: 0.4113\n",
      "Epoch 29/30\n",
      "313/313 [==============================] - 20s 65ms/step - loss: 1.0874 - accuracy: 0.6126 - val_loss: 1.8959 - val_accuracy: 0.4094\n",
      "Epoch 30/30\n",
      "313/313 [==============================] - 20s 65ms/step - loss: 1.0654 - accuracy: 0.6233 - val_loss: 1.8923 - val_accuracy: 0.4114\n"
     ]
    },
    {
     "data": {
      "text/plain": [
       "<keras.callbacks.History at 0x1d68151d7b8>"
      ]
     },
     "execution_count": 83,
     "metadata": {},
     "output_type": "execute_result"
    }
   ],
   "source": [
    "model = build(input_shape=(IMG_ROWS, IMG_COLS, IMG_CHANNELS), classes=CLASSES)\n",
    "model.compile(loss='categorical_crossentropy', optimizer=OPTIM, metrics=['accuracy'])\n",
    "model.fit(x_train, y_train, \n",
    "          batch_size=BATCH_SIZE,\n",
    "          epochs=EPOCHS, \n",
    "          validation_split=VALIDATION_SPLIT, \n",
    "          callbacks=callbacks)"
   ]
  },
  {
   "cell_type": "code",
   "id": "834fcf8590cfb537",
   "metadata": {
    "ExecuteTime": {
     "end_time": "2024-06-13T03:13:58.096037Z",
     "start_time": "2024-06-13T03:13:54.880598Z"
    }
   },
   "source": [
    "score = model.evaluate(x_test, y_test, verbose=0)\n",
    "print('Test loss:', score[0])\n",
    "print('Test accuracy:', score[1])"
   ],
   "outputs": [
    {
     "name": "stdout",
     "output_type": "stream",
     "text": [
      "Test loss: 1.2451163530349731\n",
      "Test accuracy: 0.5687999725341797\n"
     ]
    }
   ],
   "execution_count": 5
  },
  {
   "cell_type": "code",
   "execution_count": 8,
   "id": "26992005a289622d",
   "metadata": {
    "ExecuteTime": {
     "end_time": "2024-06-12T08:20:23.967207Z",
     "start_time": "2024-06-12T08:20:23.857182Z"
    }
   },
   "outputs": [],
   "source": [
    "# 模型保存\n",
    "model.save('./CIFAR-10/save/CIFAR-10_1.h5')"
   ]
  },
  {
   "cell_type": "code",
   "id": "3192108bd8f115c6",
   "metadata": {
    "ExecuteTime": {
     "end_time": "2024-06-13T03:13:44.591485Z",
     "start_time": "2024-06-13T03:13:42.526285Z"
    }
   },
   "source": [
    "# 模型加载\n",
    "model = tf.keras.models.load_model('./CIFAR-10/save/CIFAR-10_1.h5')\n",
    "model.summary()"
   ],
   "outputs": [
    {
     "name": "stdout",
     "output_type": "stream",
     "text": [
      "Model: \"sequential\"\n",
      "_________________________________________________________________\n",
      " Layer (type)                Output Shape              Param #   \n",
      "=================================================================\n",
      " conv2d (Conv2D)             (None, 30, 30, 32)        896       \n",
      "                                                                 \n",
      " max_pooling2d (MaxPooling2D  (None, 15, 15, 32)       0         \n",
      " )                                                               \n",
      "                                                                 \n",
      " dropout (Dropout)           (None, 15, 15, 32)        0         \n",
      "                                                                 \n",
      " flatten (Flatten)           (None, 7200)              0         \n",
      "                                                                 \n",
      " dense (Dense)               (None, 512)               3686912   \n",
      "                                                                 \n",
      " dropout_1 (Dropout)         (None, 512)               0         \n",
      "                                                                 \n",
      " dense_1 (Dense)             (None, 10)                5130      \n",
      "                                                                 \n",
      "=================================================================\n",
      "Total params: 3,692,938\n",
      "Trainable params: 3,692,938\n",
      "Non-trainable params: 0\n",
      "_________________________________________________________________\n"
     ]
    }
   ],
   "execution_count": 4
  },
  {
   "cell_type": "markdown",
   "id": "d7e1e4902507468",
   "metadata": {},
   "source": [
    "使用更深的网络提高CIFAE-10的性能"
   ]
  },
  {
   "cell_type": "code",
   "execution_count": 9,
   "id": "82c4088138aaf2d4",
   "metadata": {
    "ExecuteTime": {
     "end_time": "2024-06-12T08:20:27.454962Z",
     "start_time": "2024-06-12T08:20:27.443992Z"
    }
   },
   "outputs": [],
   "source": [
    "def build_more():\n",
    "    model = models.Sequential()\n",
    "    model.add(layers.Convolution2D(32, (3, 3), padding='same', activation='relu', input_shape=(IMG_ROWS, IMG_COLS, IMG_CHANNELS)))\n",
    "    model.add(layers.BatchNormalization())\n",
    "    model.add(layers.Convolution2D(32, (3, 3), padding='same', activation='relu'))\n",
    "    model.add(layers.BatchNormalization())\n",
    "    model.add(layers.MaxPooling2D(pool_size=(2, 2)))\n",
    "    model.add(layers.Dropout(0.2))\n",
    "    \n",
    "    model.add(layers.Convolution2D(64, (3, 3), padding='same', activation='relu'))\n",
    "    model.add(layers.BatchNormalization())\n",
    "    model.add(layers.Convolution2D(64, (3, 3), padding='same', activation='relu'))\n",
    "    model.add(layers.BatchNormalization())\n",
    "    model.add(layers.MaxPooling2D(pool_size=(2, 2)))\n",
    "    model.add(layers.Dropout(0.3))\n",
    "    \n",
    "    model.add(layers.Convolution2D(128, (3, 3), padding='same', activation='relu'))\n",
    "    model.add(layers.BatchNormalization())\n",
    "    model.add(layers.Convolution2D(128, (3, 3), padding='same', activation='relu'))\n",
    "    model.add(layers.BatchNormalization())\n",
    "    model.add(layers.MaxPooling2D(pool_size=(2, 2)))\n",
    "    model.add(layers.Dropout(0.4))\n",
    "    \n",
    "    model.add(layers.Flatten())\n",
    "    model.add(layers.Dense(10, activation='softmax'))\n",
    "    return model"
   ]
  },
  {
   "cell_type": "code",
   "execution_count": 10,
   "id": "8ed481b277096735",
   "metadata": {
    "ExecuteTime": {
     "end_time": "2024-06-12T08:20:32.466724Z",
     "start_time": "2024-06-12T08:20:32.263909Z"
    }
   },
   "outputs": [
    {
     "name": "stdout",
     "output_type": "stream",
     "text": [
      "Model: \"sequential_1\"\n",
      "_________________________________________________________________\n",
      " Layer (type)                Output Shape              Param #   \n",
      "=================================================================\n",
      " conv2d_1 (Conv2D)           (None, 32, 32, 32)        896       \n",
      "                                                                 \n",
      " batch_normalization (BatchN  (None, 32, 32, 32)       128       \n",
      " ormalization)                                                   \n",
      "                                                                 \n",
      " conv2d_2 (Conv2D)           (None, 32, 32, 32)        9248      \n",
      "                                                                 \n",
      " batch_normalization_1 (Batc  (None, 32, 32, 32)       128       \n",
      " hNormalization)                                                 \n",
      "                                                                 \n",
      " max_pooling2d_1 (MaxPooling  (None, 16, 16, 32)       0         \n",
      " 2D)                                                             \n",
      "                                                                 \n",
      " dropout_2 (Dropout)         (None, 16, 16, 32)        0         \n",
      "                                                                 \n",
      " conv2d_3 (Conv2D)           (None, 16, 16, 64)        18496     \n",
      "                                                                 \n",
      " batch_normalization_2 (Batc  (None, 16, 16, 64)       256       \n",
      " hNormalization)                                                 \n",
      "                                                                 \n",
      " conv2d_4 (Conv2D)           (None, 16, 16, 64)        36928     \n",
      "                                                                 \n",
      " batch_normalization_3 (Batc  (None, 16, 16, 64)       256       \n",
      " hNormalization)                                                 \n",
      "                                                                 \n",
      " max_pooling2d_2 (MaxPooling  (None, 8, 8, 64)         0         \n",
      " 2D)                                                             \n",
      "                                                                 \n",
      " dropout_3 (Dropout)         (None, 8, 8, 64)          0         \n",
      "                                                                 \n",
      " conv2d_5 (Conv2D)           (None, 8, 8, 128)         73856     \n",
      "                                                                 \n",
      " batch_normalization_4 (Batc  (None, 8, 8, 128)        512       \n",
      " hNormalization)                                                 \n",
      "                                                                 \n",
      " conv2d_6 (Conv2D)           (None, 8, 8, 128)         147584    \n",
      "                                                                 \n",
      " batch_normalization_5 (Batc  (None, 8, 8, 128)        512       \n",
      " hNormalization)                                                 \n",
      "                                                                 \n",
      " max_pooling2d_3 (MaxPooling  (None, 4, 4, 128)        0         \n",
      " 2D)                                                             \n",
      "                                                                 \n",
      " dropout_4 (Dropout)         (None, 4, 4, 128)         0         \n",
      "                                                                 \n",
      " flatten_1 (Flatten)         (None, 2048)              0         \n",
      "                                                                 \n",
      " dense_2 (Dense)             (None, 10)                20490     \n",
      "                                                                 \n",
      "=================================================================\n",
      "Total params: 309,290\n",
      "Trainable params: 308,394\n",
      "Non-trainable params: 896\n",
      "_________________________________________________________________\n"
     ]
    }
   ],
   "source": [
    "model_more1 = build_more()\n",
    "model_more1.compile(loss='categorical_crossentropy', optimizer='RMSprop', metrics=['accuracy'])\n",
    "batch_size = 64\n",
    "model_more1.summary()"
   ]
  },
  {
   "cell_type": "code",
   "execution_count": 11,
   "id": "bdcb443dd36a3e43",
   "metadata": {
    "ExecuteTime": {
     "end_time": "2024-06-12T09:53:18.645212Z",
     "start_time": "2024-06-12T08:20:36.354079Z"
    }
   },
   "outputs": [
    {
     "name": "stdout",
     "output_type": "stream",
     "text": [
      "Epoch 1/30\n",
      "782/782 [==============================] - 214s 272ms/step - loss: 1.7717 - accuracy: 0.4793 - val_loss: 1.7164 - val_accuracy: 0.4969\n",
      "Epoch 2/30\n",
      "782/782 [==============================] - 230s 294ms/step - loss: 1.1818 - accuracy: 0.6469 - val_loss: 0.9960 - val_accuracy: 0.6880\n",
      "Epoch 3/30\n",
      "782/782 [==============================] - 227s 290ms/step - loss: 0.9589 - accuracy: 0.7034 - val_loss: 1.0014 - val_accuracy: 0.6679\n",
      "Epoch 4/30\n",
      "782/782 [==============================] - 221s 283ms/step - loss: 0.8277 - accuracy: 0.7358 - val_loss: 0.9029 - val_accuracy: 0.6920\n",
      "Epoch 5/30\n",
      "782/782 [==============================] - 184s 236ms/step - loss: 0.7183 - accuracy: 0.7611 - val_loss: 0.8557 - val_accuracy: 0.7193\n",
      "Epoch 6/30\n",
      "782/782 [==============================] - 151s 194ms/step - loss: 0.6427 - accuracy: 0.7805 - val_loss: 0.9621 - val_accuracy: 0.6943\n",
      "Epoch 7/30\n",
      "782/782 [==============================] - 152s 194ms/step - loss: 0.5903 - accuracy: 0.7986 - val_loss: 0.6973 - val_accuracy: 0.7716\n",
      "Epoch 8/30\n",
      "782/782 [==============================] - 152s 195ms/step - loss: 0.5453 - accuracy: 0.8130 - val_loss: 0.7497 - val_accuracy: 0.7479\n",
      "Epoch 9/30\n",
      "782/782 [==============================] - 152s 194ms/step - loss: 0.5097 - accuracy: 0.8247 - val_loss: 1.2669 - val_accuracy: 0.6508\n",
      "Epoch 10/30\n",
      "782/782 [==============================] - 152s 195ms/step - loss: 0.4832 - accuracy: 0.8336 - val_loss: 0.5518 - val_accuracy: 0.8140\n",
      "Epoch 11/30\n",
      "782/782 [==============================] - 156s 200ms/step - loss: 0.4522 - accuracy: 0.8442 - val_loss: 0.6150 - val_accuracy: 0.7907\n",
      "Epoch 12/30\n",
      "782/782 [==============================] - 169s 217ms/step - loss: 0.4280 - accuracy: 0.8521 - val_loss: 0.6253 - val_accuracy: 0.7888\n",
      "Epoch 13/30\n",
      "782/782 [==============================] - 278s 356ms/step - loss: 0.4068 - accuracy: 0.8591 - val_loss: 0.5784 - val_accuracy: 0.8075\n",
      "Epoch 14/30\n",
      "782/782 [==============================] - 302s 386ms/step - loss: 0.3875 - accuracy: 0.8659 - val_loss: 0.5343 - val_accuracy: 0.8241\n",
      "Epoch 15/30\n",
      "782/782 [==============================] - 255s 326ms/step - loss: 0.3691 - accuracy: 0.8697 - val_loss: 0.5559 - val_accuracy: 0.8209\n",
      "Epoch 16/30\n",
      "782/782 [==============================] - 293s 375ms/step - loss: 0.3579 - accuracy: 0.8755 - val_loss: 0.5243 - val_accuracy: 0.8317\n",
      "Epoch 17/30\n",
      "782/782 [==============================] - 229s 292ms/step - loss: 0.3495 - accuracy: 0.8778 - val_loss: 0.5959 - val_accuracy: 0.8118\n",
      "Epoch 18/30\n",
      "782/782 [==============================] - 146s 187ms/step - loss: 0.3301 - accuracy: 0.8838 - val_loss: 0.5862 - val_accuracy: 0.8153\n",
      "Epoch 19/30\n",
      "782/782 [==============================] - 152s 195ms/step - loss: 0.3201 - accuracy: 0.8870 - val_loss: 0.5644 - val_accuracy: 0.8195\n",
      "Epoch 20/30\n",
      "782/782 [==============================] - 159s 204ms/step - loss: 0.3090 - accuracy: 0.8914 - val_loss: 0.5261 - val_accuracy: 0.8393\n",
      "Epoch 21/30\n",
      "782/782 [==============================] - 161s 206ms/step - loss: 0.2992 - accuracy: 0.8974 - val_loss: 0.5103 - val_accuracy: 0.8312\n",
      "Epoch 22/30\n",
      "782/782 [==============================] - 160s 205ms/step - loss: 0.2893 - accuracy: 0.8980 - val_loss: 0.6863 - val_accuracy: 0.7888\n",
      "Epoch 23/30\n",
      "782/782 [==============================] - 155s 198ms/step - loss: 0.2807 - accuracy: 0.9012 - val_loss: 0.5211 - val_accuracy: 0.8359\n",
      "Epoch 24/30\n",
      "782/782 [==============================] - 157s 200ms/step - loss: 0.2720 - accuracy: 0.9040 - val_loss: 0.5451 - val_accuracy: 0.8338\n",
      "Epoch 25/30\n",
      "782/782 [==============================] - 154s 198ms/step - loss: 0.2689 - accuracy: 0.9041 - val_loss: 0.5112 - val_accuracy: 0.8426\n",
      "Epoch 26/30\n",
      "782/782 [==============================] - 157s 200ms/step - loss: 0.2576 - accuracy: 0.9087 - val_loss: 0.5146 - val_accuracy: 0.8391\n",
      "Epoch 27/30\n",
      "782/782 [==============================] - 157s 201ms/step - loss: 0.2495 - accuracy: 0.9109 - val_loss: 0.5400 - val_accuracy: 0.8336\n",
      "Epoch 28/30\n",
      "782/782 [==============================] - 161s 205ms/step - loss: 0.2482 - accuracy: 0.9110 - val_loss: 0.4994 - val_accuracy: 0.8456\n",
      "Epoch 29/30\n",
      "782/782 [==============================] - 162s 207ms/step - loss: 0.2404 - accuracy: 0.9153 - val_loss: 0.5066 - val_accuracy: 0.8467\n",
      "Epoch 30/30\n",
      "782/782 [==============================] - 162s 207ms/step - loss: 0.2322 - accuracy: 0.9179 - val_loss: 0.5152 - val_accuracy: 0.8480\n"
     ]
    },
    {
     "data": {
      "text/plain": [
       "<keras.callbacks.History at 0x1d68140e128>"
      ]
     },
     "execution_count": 11,
     "metadata": {},
     "output_type": "execute_result"
    }
   ],
   "source": [
    "EPOCHS = 30\n",
    "model_more1.fit(x_train, y_train,\n",
    "               batch_size=batch_size,\n",
    "               epochs=EPOCHS,\n",
    "               validation_data=(x_test, y_test),)"
   ]
  },
  {
   "cell_type": "code",
   "id": "81d5766b9d79cc6a",
   "metadata": {
    "ExecuteTime": {
     "end_time": "2024-06-13T03:14:50.646774Z",
     "start_time": "2024-06-13T03:14:43.929950Z"
    }
   },
   "source": [
    "score = model_more1.evaluate(x_test, y_test, batch_size=batch_size)\n",
    "print('Test loss:', score[0])\n",
    "print('Test accuracy:', score[1])"
   ],
   "outputs": [
    {
     "name": "stdout",
     "output_type": "stream",
     "text": [
      "157/157 [==============================] - 7s 39ms/step - loss: 0.5152 - accuracy: 0.8480\n",
      "Test loss: 0.5151849389076233\n",
      "Test accuracy: 0.8479999899864197\n"
     ]
    }
   ],
   "execution_count": 9
  },
  {
   "cell_type": "code",
   "execution_count": 13,
   "id": "8946893a90b18a4c",
   "metadata": {
    "ExecuteTime": {
     "end_time": "2024-06-12T10:17:23.632227Z",
     "start_time": "2024-06-12T10:17:23.538917Z"
    }
   },
   "outputs": [],
   "source": [
    "model_more1.save('./CIFAR-10/save/CIFAR-10_2.h5')"
   ]
  },
  {
   "cell_type": "code",
   "id": "afc33edc39829439",
   "metadata": {
    "ExecuteTime": {
     "end_time": "2024-06-13T03:14:41.282084Z",
     "start_time": "2024-06-13T03:14:41.024663Z"
    }
   },
   "source": [
    "# 模型加载\n",
    "batch_size = 64\n",
    "model_more1 = tf.keras.models.load_model('./CIFAR-10/save/CIFAR-10_2.h5')\n",
    "model_more1.summary()"
   ],
   "outputs": [
    {
     "name": "stdout",
     "output_type": "stream",
     "text": [
      "Model: \"sequential_1\"\n",
      "_________________________________________________________________\n",
      " Layer (type)                Output Shape              Param #   \n",
      "=================================================================\n",
      " conv2d_1 (Conv2D)           (None, 32, 32, 32)        896       \n",
      "                                                                 \n",
      " batch_normalization (BatchN  (None, 32, 32, 32)       128       \n",
      " ormalization)                                                   \n",
      "                                                                 \n",
      " conv2d_2 (Conv2D)           (None, 32, 32, 32)        9248      \n",
      "                                                                 \n",
      " batch_normalization_1 (Batc  (None, 32, 32, 32)       128       \n",
      " hNormalization)                                                 \n",
      "                                                                 \n",
      " max_pooling2d_1 (MaxPooling  (None, 16, 16, 32)       0         \n",
      " 2D)                                                             \n",
      "                                                                 \n",
      " dropout_2 (Dropout)         (None, 16, 16, 32)        0         \n",
      "                                                                 \n",
      " conv2d_3 (Conv2D)           (None, 16, 16, 64)        18496     \n",
      "                                                                 \n",
      " batch_normalization_2 (Batc  (None, 16, 16, 64)       256       \n",
      " hNormalization)                                                 \n",
      "                                                                 \n",
      " conv2d_4 (Conv2D)           (None, 16, 16, 64)        36928     \n",
      "                                                                 \n",
      " batch_normalization_3 (Batc  (None, 16, 16, 64)       256       \n",
      " hNormalization)                                                 \n",
      "                                                                 \n",
      " max_pooling2d_2 (MaxPooling  (None, 8, 8, 64)         0         \n",
      " 2D)                                                             \n",
      "                                                                 \n",
      " dropout_3 (Dropout)         (None, 8, 8, 64)          0         \n",
      "                                                                 \n",
      " conv2d_5 (Conv2D)           (None, 8, 8, 128)         73856     \n",
      "                                                                 \n",
      " batch_normalization_4 (Batc  (None, 8, 8, 128)        512       \n",
      " hNormalization)                                                 \n",
      "                                                                 \n",
      " conv2d_6 (Conv2D)           (None, 8, 8, 128)         147584    \n",
      "                                                                 \n",
      " batch_normalization_5 (Batc  (None, 8, 8, 128)        512       \n",
      " hNormalization)                                                 \n",
      "                                                                 \n",
      " max_pooling2d_3 (MaxPooling  (None, 4, 4, 128)        0         \n",
      " 2D)                                                             \n",
      "                                                                 \n",
      " dropout_4 (Dropout)         (None, 4, 4, 128)         0         \n",
      "                                                                 \n",
      " flatten_1 (Flatten)         (None, 2048)              0         \n",
      "                                                                 \n",
      " dense_2 (Dense)             (None, 10)                20490     \n",
      "                                                                 \n",
      "=================================================================\n",
      "Total params: 309,290\n",
      "Trainable params: 308,394\n",
      "Non-trainable params: 896\n",
      "_________________________________________________________________\n"
     ]
    }
   ],
   "execution_count": 8
  },
  {
   "cell_type": "code",
   "execution_count": 14,
   "id": "a0cc35b9c0627b98",
   "metadata": {
    "ExecuteTime": {
     "end_time": "2024-06-12T10:17:27.417484Z",
     "start_time": "2024-06-12T10:17:26.423960Z"
    }
   },
   "outputs": [],
   "source": [
    "datagen = ImageDataGenerator(\n",
    "    rotation_range=30,\n",
    "    width_shift_range=0.2,\n",
    "    height_shift_range=0.2,\n",
    "    horizontal_flip=True)\n",
    "datagen.fit(x_train)"
   ]
  },
  {
   "cell_type": "code",
   "execution_count": 17,
   "id": "35736b37d73fb604",
   "metadata": {
    "ExecuteTime": {
     "end_time": "2024-06-12T13:52:17.248979Z",
     "start_time": "2024-06-12T12:30:26.537924Z"
    }
   },
   "outputs": [
    {
     "name": "stdout",
     "output_type": "stream",
     "text": [
      "Epoch 1/30\n",
      "781/781 [==============================] - 163s 208ms/step - loss: 1.0347 - accuracy: 0.6493 - val_loss: 1.2310 - val_accuracy: 0.6489\n",
      "Epoch 8/30\n",
      "781/781 [==============================] - 158s 202ms/step - loss: 0.9804 - accuracy: 0.6674 - val_loss: 0.8971 - val_accuracy: 0.6944\n",
      "Epoch 9/30\n",
      "781/781 [==============================] - 158s 202ms/step - loss: 0.9316 - accuracy: 0.6823 - val_loss: 0.8679 - val_accuracy: 0.7200\n",
      "Epoch 10/30\n",
      "781/781 [==============================] - 167s 214ms/step - loss: 0.9060 - accuracy: 0.6884 - val_loss: 0.8613 - val_accuracy: 0.7278\n",
      "Epoch 11/30\n",
      "781/781 [==============================] - 159s 203ms/step - loss: 0.8668 - accuracy: 0.7027 - val_loss: 0.8178 - val_accuracy: 0.7310\n",
      "Epoch 12/30\n",
      "781/781 [==============================] - 159s 203ms/step - loss: 0.8428 - accuracy: 0.7118 - val_loss: 0.9025 - val_accuracy: 0.7101\n",
      "Epoch 13/30\n",
      "781/781 [==============================] - 159s 203ms/step - loss: 0.8237 - accuracy: 0.7157 - val_loss: 0.8666 - val_accuracy: 0.7250\n",
      "Epoch 14/30\n",
      "781/781 [==============================] - 158s 202ms/step - loss: 0.8057 - accuracy: 0.7222 - val_loss: 0.8099 - val_accuracy: 0.7334\n",
      "Epoch 15/30\n",
      "781/781 [==============================] - 166s 212ms/step - loss: 0.7942 - accuracy: 0.7282 - val_loss: 0.7485 - val_accuracy: 0.7463\n",
      "Epoch 16/30\n",
      "781/781 [==============================] - 166s 213ms/step - loss: 0.7726 - accuracy: 0.7342 - val_loss: 0.6969 - val_accuracy: 0.7699\n",
      "Epoch 17/30\n",
      "781/781 [==============================] - 180s 231ms/step - loss: 0.7573 - accuracy: 0.7382 - val_loss: 0.7551 - val_accuracy: 0.7555\n",
      "Epoch 18/30\n",
      "781/781 [==============================] - 167s 213ms/step - loss: 0.7470 - accuracy: 0.7412 - val_loss: 0.7624 - val_accuracy: 0.7541\n",
      "Epoch 19/30\n",
      "781/781 [==============================] - 161s 206ms/step - loss: 0.7339 - accuracy: 0.7462 - val_loss: 0.7766 - val_accuracy: 0.7546\n",
      "Epoch 20/30\n",
      "781/781 [==============================] - 168s 215ms/step - loss: 0.7212 - accuracy: 0.7521 - val_loss: 0.6392 - val_accuracy: 0.7912\n",
      "Epoch 21/30\n",
      "781/781 [==============================] - 166s 213ms/step - loss: 0.7084 - accuracy: 0.7569 - val_loss: 0.8337 - val_accuracy: 0.7404\n",
      "Epoch 22/30\n",
      "781/781 [==============================] - 165s 211ms/step - loss: 0.7004 - accuracy: 0.7575 - val_loss: 0.8111 - val_accuracy: 0.7510\n",
      "Epoch 23/30\n",
      "781/781 [==============================] - 164s 210ms/step - loss: 0.6919 - accuracy: 0.7592 - val_loss: 0.6462 - val_accuracy: 0.7958\n",
      "Epoch 24/30\n",
      "781/781 [==============================] - 165s 211ms/step - loss: 0.6836 - accuracy: 0.7648 - val_loss: 0.7236 - val_accuracy: 0.7677\n",
      "Epoch 25/30\n",
      "781/781 [==============================] - 166s 213ms/step - loss: 0.6738 - accuracy: 0.7682 - val_loss: 0.6662 - val_accuracy: 0.7867\n",
      "Epoch 26/30\n",
      "781/781 [==============================] - 167s 213ms/step - loss: 0.6661 - accuracy: 0.7698 - val_loss: 0.6026 - val_accuracy: 0.8007\n",
      "Epoch 27/30\n",
      "781/781 [==============================] - 166s 213ms/step - loss: 0.6562 - accuracy: 0.7737 - val_loss: 0.5752 - val_accuracy: 0.8086\n",
      "Epoch 28/30\n",
      "781/781 [==============================] - 166s 213ms/step - loss: 0.6532 - accuracy: 0.7756 - val_loss: 0.6651 - val_accuracy: 0.7886\n",
      "Epoch 29/30\n",
      "781/781 [==============================] - 167s 213ms/step - loss: 0.6509 - accuracy: 0.7756 - val_loss: 0.6267 - val_accuracy: 0.7953\n",
      "Epoch 30/30\n",
      "781/781 [==============================] - 168s 215ms/step - loss: 0.6432 - accuracy: 0.7803 - val_loss: 0.6274 - val_accuracy: 0.7965\n"
     ]
    },
    {
     "data": {
      "text/plain": [
       "<keras.callbacks.History at 0x1d6828ee128>"
      ]
     },
     "execution_count": 17,
     "metadata": {},
     "output_type": "execute_result"
    }
   ],
   "source": [
    "batch_size = 64\n",
    "model_more2 = build_more()\n",
    "model_more2.compile(loss='categorical_crossentropy', optimizer='RMSprop', metrics=['accuracy'])\n",
    "model_more2.fit(\n",
    "    datagen.flow(x_train, y_train, batch_size=batch_size),\n",
    "    steps_per_epoch=x_train.shape[0] // batch_size,\n",
    "    epochs=EPOCHS,\n",
    "    validation_data=(x_test, y_test),\n",
    "    workers=4)"
   ]
  },
  {
   "cell_type": "code",
   "execution_count": 50,
   "id": "4eff921bc4e60c54",
   "metadata": {
    "ExecuteTime": {
     "end_time": "2024-06-12T14:43:59.637229Z",
     "start_time": "2024-06-12T14:43:59.547374Z"
    }
   },
   "outputs": [],
   "source": [
    "model_json = model_more2.to_json()\n",
    "with open(\".\\CIFAR-10\\save\\model.json\", \"w\") as json_file:\n",
    "    json_file.write(model_json)\n",
    "model_more2.save_weights('.\\CIFAR-10\\save\\model.h5')"
   ]
  },
  {
   "cell_type": "code",
   "id": "fd4d86401d03fc67",
   "metadata": {
    "ExecuteTime": {
     "end_time": "2024-06-13T03:15:01.591440Z",
     "start_time": "2024-06-13T03:15:01.395394Z"
    }
   },
   "source": [
    "# 加载模型\n",
    "json_file = open('.\\CIFAR-10\\save\\model.json', 'r')\n",
    "loaded_model_json = json_file.read()\n",
    "model_more2 = tf.keras.models.model_from_json(loaded_model_json)\n",
    "model_more2.load_weights('.\\CIFAR-10\\save\\model.h5')\n",
    "model_more2.compile(loss='categorical_crossentropy', optimizer='RMSprop', metrics=['accuracy'])\n"
   ],
   "outputs": [],
   "execution_count": 10
  },
  {
   "cell_type": "code",
   "id": "231e9491afd0795f",
   "metadata": {
    "ExecuteTime": {
     "end_time": "2024-06-13T03:15:15.725812Z",
     "start_time": "2024-06-13T03:15:08.375372Z"
    }
   },
   "source": [
    "score = model_more2.evaluate(x_test, y_test, batch_size=batch_size)\n",
    "print('Test loss:', score[0])\n",
    "print('Test accuracy:', score[1])"
   ],
   "outputs": [
    {
     "name": "stdout",
     "output_type": "stream",
     "text": [
      "157/157 [==============================] - 7s 41ms/step - loss: 0.6274 - accuracy: 0.7965\n",
      "Test loss: 0.627402126789093\n",
      "Test accuracy: 0.796500027179718\n"
     ]
    }
   ],
   "execution_count": 11
  },
  {
   "cell_type": "code",
   "execution_count": 45,
   "id": "4e85dd2a9f4d063f",
   "metadata": {
    "ExecuteTime": {
     "end_time": "2024-06-12T14:43:13.286021Z",
     "start_time": "2024-06-12T14:43:13.209384Z"
    }
   },
   "outputs": [],
   "source": [
    "# 保存模型\n",
    "model_more2.save('./CIFAR-10/save/CIFAR-10_3.h5')"
   ]
  },
  {
   "cell_type": "code",
   "execution_count": 27,
   "id": "31d311551ebc292",
   "metadata": {
    "ExecuteTime": {
     "end_time": "2024-06-12T14:28:52.574468Z",
     "start_time": "2024-06-12T14:28:50.320612Z"
    }
   },
   "outputs": [
    {
     "data": {
      "image/png": "[encoded data removed]",
      "text/plain": [
       "<Figure size 1000x1000 with 12 Axes>"
      ]
     },
     "metadata": {},
     "output_type": "display_data"
    }
   ],
   "source": [
    "# 可视化CIFAR-10\n",
    "import matplotlib.pyplot as plt\n",
    "from keras.datasets import cifar10\n",
    "\n",
    "# 加载CIFAR-10数据集\n",
    "(x_train, y_train), (x_test, y_test) = cifar10.load_data()\n",
    "\n",
    "# 数据预处理：缩放像素值到0-1之间\n",
    "x_train = x_train.astype('float32') / 255\n",
    "x_test = x_test.astype('float32') / 255\n",
    "\n",
    "# 选择前9张图片进行展示\n",
    "images = x_train[:12]\n",
    "\n",
    "# 设置画布为3x3网格布局\n",
    "plt.figure(figsize=(10,10))\n",
    "for i in range(12):\n",
    "    plt.subplot(3, 4, i + 1)  # 3行3列，第i+1幅图\n",
    "    plt.imshow(images[i])     # 显示图像\n",
    "    plt.axis('off')           # 不显示坐标轴\n",
    "    # 可选：显示图像对应的类别标签\n",
    "    # plt.title(cifar10_labels[y_train[i][0]])\n",
    "\n",
    "plt.show()\n"
   ]
  },
  {
   "cell_type": "code",
   "execution_count": 72,
   "id": "350d25a68802f51a",
   "metadata": {
    "ExecuteTime": {
     "end_time": "2024-06-12T14:47:30.661629Z",
     "start_time": "2024-06-12T14:47:22.386037Z"
    }
   },
   "outputs": [
    {
     "name": "stdout",
     "output_type": "stream",
     "text": [
      "313/313 [==============================] - 8s 25ms/step\n"
     ]
    }
   ],
   "source": [
    "# 对模型进行预测\n",
    "predictions = model_more2.predict(x_test)"
   ]
  },
  {
   "cell_type": "code",
   "execution_count": 74,
   "id": "957468c6b47ba147",
   "metadata": {
    "ExecuteTime": {
     "end_time": "2024-06-12T14:47:58.319613Z",
     "start_time": "2024-06-12T14:47:58.302851Z"
    }
   },
   "outputs": [
    {
     "name": "stdout",
     "output_type": "stream",
     "text": [
      "0.7965\n"
     ]
    }
   ],
   "source": [
    "# 输出预测准确率\n",
    "print(np.sum(np.argmax(predictions, axis=1) == y_test.argmax(axis=1)) / len(y_test))"
   ]
  },
  {
   "cell_type": "code",
   "execution_count": 75,
   "id": "6f98dd04004ca596",
   "metadata": {
    "ExecuteTime": {
     "end_time": "2024-06-12T14:48:04.697596Z",
     "start_time": "2024-06-12T14:48:04.691613Z"
    }
   },
   "outputs": [
    {
     "name": "stdout",
     "output_type": "stream",
     "text": [
      "8950\n"
     ]
    }
   ],
   "source": [
    "# 显示预测结果\n",
    "cifar10_labels = ['airplane', 'automobile', 'bird', 'cat', 'deer', 'dog', 'frog', 'horse', 'ship', 'truck']# 假设cifar10_labels已定义，deer的索引为2\n",
    "deer_index = cifar10_labels.index('deer')\n",
    "\n",
    "# 将预测概率转换为类别预测（例如，取最大概率对应的索引）\n",
    "predicted_classes = np.argmax(predictions, axis=1)\n",
    "\n",
    "# 计算非'deer'类别的预测数\n",
    "non_deer_count = np.sum(predicted_classes != deer_index)\n",
    "print(non_deer_count)"
   ]
  },
  {
   "cell_type": "code",
   "execution_count": null,
   "id": "15f550938994a7e3",
   "metadata": {},
   "outputs": [],
   "source": []
  }
 ],
 "metadata": {
  "kernelspec": {
   "display_name": "Python 3 (ipykernel)",
   "language": "python",
   "name": "python3"
  },
  "language_info": {
   "codemirror_mode": {
    "name": "ipython",
    "version": 3
   },
   "file_extension": ".py",
   "mimetype": "text/x-python",
   "name": "python",
   "nbconvert_exporter": "python",
   "pygments_lexer": "ipython3",
   "version": "3.7.1"
  }
 },
 "nbformat": 4,
 "nbformat_minor": 5
}
