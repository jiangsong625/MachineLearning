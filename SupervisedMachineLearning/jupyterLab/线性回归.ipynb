{
 "cells": [
  {
   "cell_type": "code",
   "execution_count": null,
   "id": "initial_id",
   "metadata": {
    "collapsed": true
   },
   "outputs": [],
   "source": [
    "# 导入包\n",
    "# import matplotlib.pyplot as plt\n",
    "import numpy as np\n",
    "import pandas as pd"
   ]
  },
  {
   "metadata": {},
   "cell_type": "markdown",
   "source": [
    "定义代价函数\n",
    "$$\n",
    "J(\\theta) = \\frac{1}{2m} \\sum_{i=1}^m (h_\\theta(x^{(i)}) - y^{(i)})^2\n",
    "$$"
   ],
   "id": "6318fa003e3784cd"
  },
  {
   "metadata": {},
   "cell_type": "code",
   "outputs": [],
   "execution_count": null,
   "source": [
    "# 定义代价函数\n",
    "def compute_cost(X, Y, theta):\n",
    "    inner = np.power(X.dot(theta.T) - Y, 2)\n",
    "    return np.sum(inner) / (2 * len(X))"
   ],
   "id": "991e754895a9f845"
  },
  {
   "metadata": {},
   "cell_type": "markdown",
   "source": [
    "梯度下降算法\n",
    "$$\n",
    "\\theta_j := \\theta_j - \\alpha \\frac{1}{m} \\sum_{i=1}^m (h_\\theta(x^{(i)}) - y^{(i)})x_j^{(i)}\n",
    "\\\\\n",
    "\\theta_0 := \\theta_0 - \\alpha \\frac{1}{m} \\sum_{i=1}^m (h_\\theta(x^{(i)}) - y^{(i)})\n",
    "$$\n"
   ],
   "id": "e0c6df2e0bc03f35"
  },
  {
   "metadata": {},
   "cell_type": "code",
   "outputs": [],
   "execution_count": null,
   "source": [
    "# 批量梯度下降法\n",
    "def gradient_descent(X, Y, theta, alpha, iters ):  # alpha是学习率，iters是迭代次数\n",
    "    cost = np.zeros(iters)\n",
    "    for i in range(iters):\n",
    "        error = X.dot(theta.T) - Y  # 使用dot进行矩阵乘法，得到预测值与样本的差\n",
    "\n",
    "        # 使用向量化方式更新theta，避免循环\n",
    "        update = (alpha / len(X)) * error.T.dot(X)\n",
    "        # 更新theta\n",
    "        theta = theta - update\n",
    "        cost[i] = compute_cost(X, Y, theta)\n",
    "\n",
    "    return theta, cost"
   ],
   "id": "37d0008d5c815edc"
  }
 ],
 "metadata": {
  "kernelspec": {
   "display_name": "Python 3",
   "language": "python",
   "name": "python3"
  },
  "language_info": {
   "codemirror_mode": {
    "name": "ipython",
    "version": 2
   },
   "file_extension": ".py",
   "mimetype": "text/x-python",
   "name": "python",
   "nbconvert_exporter": "python",
   "pygments_lexer": "ipython2",
   "version": "2.7.6"
  }
 },
 "nbformat": 4,
 "nbformat_minor": 5
}
